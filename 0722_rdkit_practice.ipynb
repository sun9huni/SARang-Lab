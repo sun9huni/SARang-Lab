{
  "nbformat": 4,
  "nbformat_minor": 0,
  "metadata": {
    "colab": {
      "provenance": [],
      "gpuType": "V28",
      "authorship_tag": "ABX9TyNHF/UErnv8BMsDCUBrUGpV",
      "include_colab_link": true
    },
    "kernelspec": {
      "name": "python3",
      "display_name": "Python 3"
    },
    "language_info": {
      "name": "python"
    },
    "accelerator": "TPU"
  },
  "cells": [
    {
      "cell_type": "markdown",
      "metadata": {
        "id": "view-in-github",
        "colab_type": "text"
      },
      "source": [
        "<a href=\"https://colab.research.google.com/github/sun9huni/SARang-Lab/blob/main/0722_rdkit_practice.ipynb\" target=\"_parent\"><img src=\"https://colab.research.google.com/assets/colab-badge.svg\" alt=\"Open In Colab\"/></a>"
      ]
    },
    {
      "cell_type": "code",
      "source": [
        "!pip install rdkit"
      ],
      "metadata": {
        "colab": {
          "base_uri": "https://localhost:8080/"
        },
        "id": "s-7f-ae2Y3HS",
        "outputId": "65954001-6015-4d03-84e6-4534b6a25ad8"
      },
      "execution_count": 4,
      "outputs": [
        {
          "output_type": "stream",
          "name": "stdout",
          "text": [
            "Requirement already satisfied: rdkit in /usr/local/lib/python3.11/dist-packages (2025.3.3)\n",
            "Requirement already satisfied: numpy in /usr/local/lib/python3.11/dist-packages (from rdkit) (2.0.2)\n",
            "Requirement already satisfied: Pillow in /usr/local/lib/python3.11/dist-packages (from rdkit) (11.3.0)\n"
          ]
        }
      ]
    },
    {
      "cell_type": "code",
      "execution_count": 5,
      "metadata": {
        "id": "gxpZuIL_Yh8b"
      },
      "outputs": [],
      "source": [
        "# basic molecular functionality\n",
        "from rdkit import Chem"
      ]
    },
    {
      "cell_type": "code",
      "source": [
        "# 다양한 방식으로 각 분자 구성 가능\n",
        "m = Chem.MolFromSmiles('Cc1ccccc1')\n",
        "m = Chem.MolFromMolFile('data/input.mol')\n",
        "stringWithMolData = open('data/input.mol','r').read()\n",
        "m = Chem.MolFromMolBlock(stringWithMolData)"
      ],
      "metadata": {
        "id": "navDvX4iZDBq"
      },
      "execution_count": 6,
      "outputs": []
    },
    {
      "cell_type": "code",
      "source": [
        "m"
      ],
      "metadata": {
        "colab": {
          "base_uri": "https://localhost:8080/",
          "height": 167
        },
        "id": "r1Sw5I1dZfBC",
        "outputId": "9fa1dde6-40ee-4d91-e8a1-e6545c943715"
      },
      "execution_count": 7,
      "outputs": [
        {
          "output_type": "execute_result",
          "data": {
            "text/plain": [
              "<rdkit.Chem.rdchem.Mol at 0x79fe5953a1f0>"
            ],
            "image/png": "[encoded data removed]"
          },
          "metadata": {},
          "execution_count": 7
        }
      ]
    },
    {
      "cell_type": "code",
      "source": [
        "# Draw.MolToImage(m)\n",
        "from rdkit.Chem import Draw\n",
        "img = Draw.MolToImage(m)"
      ],
      "metadata": {
        "id": "JgjL303cbDki"
      },
      "execution_count": 8,
      "outputs": []
    },
    {
      "cell_type": "code",
      "source": [
        "img"
      ],
      "metadata": {
        "colab": {
          "base_uri": "https://localhost:8080/",
          "height": 317
        },
        "id": "_L0VdJbebP3p",
        "outputId": "cd5375c9-0b92-4788-c2a3-d516770d23fa"
      },
      "execution_count": 9,
      "outputs": [
        {
          "output_type": "execute_result",
          "data": {
            "text/plain": [
              "<PIL.PngImagePlugin.PngImageFile image mode=RGB size=300x300>"
            ],
            "image/png": "[encoded data removed]",
            "image/jpeg": "[encoded data removed]"
          },
          "metadata": {},
          "execution_count": 9
        }
      ]
    },
    {
      "cell_type": "code",
      "source": [
        "m1 = Chem.MolFromSmiles('CO(C)C')\n",
        "# (1번 원자 산소(O)의 원자가가 허용된 값을 초과했습니다)"
      ],
      "metadata": {
        "colab": {
          "base_uri": "https://localhost:8080/"
        },
        "id": "3_16tWNqbRdU",
        "outputId": "49919f97-7e91-4449-b368-3293df138d11"
      },
      "execution_count": 10,
      "outputs": [
        {
          "output_type": "stream",
          "name": "stderr",
          "text": [
            "[10:34:04] Explicit valence for atom # 1 O, 3, is greater than permitted\n"
          ]
        }
      ]
    },
    {
      "cell_type": "code",
      "source": [
        "m2 = Chem.MolFromSmiles('c1cc1')\n",
        "# (분자를 케쿨화할 수 없습니다)\n",
        "# aromatic ring을 단일-이중 결합이 번갈아 나타나는 형태로 변환할 수 없다."
      ],
      "metadata": {
        "colab": {
          "base_uri": "https://localhost:8080/"
        },
        "id": "qyr4ze3Ibacy",
        "outputId": "40e8d757-76f8-4e57-eee8-a51e4744464f"
      },
      "execution_count": 11,
      "outputs": [
        {
          "output_type": "stream",
          "name": "stderr",
          "text": [
            "[10:34:04] Can't kekulize mol.  Unkekulized atoms: 0 1 2\n"
          ]
        }
      ]
    },
    {
      "cell_type": "markdown",
      "source": [
        "# Reading sets of molecules\n",
        "Groups of molecules are read using a Supplier (for example, an rdkit.Chem.rdmolfiles.SDMolSupplier or a rdkit.Chem.rdmolfiles.SmilesMolSupplier):\n",
        "여러 개의 분자 정보가 들어있는 파일을 효율적으로 읽어들이기 위한 도구"
      ],
      "metadata": {
        "id": "QSQOn8v3b-8r"
      }
    },
    {
      "cell_type": "code",
      "source": [
        "# 원자 번호 확인\n",
        "suppl = Chem.SDMolSupplier('data/5ht3ligs.sdf')\n",
        "for mol in suppl:\n",
        "  print(mol.GetNumAtoms())"
      ],
      "metadata": {
        "colab": {
          "base_uri": "https://localhost:8080/"
        },
        "id": "FCyyLFgmbusu",
        "outputId": "719cf475-3fd5-4ab6-8af6-95ac569af4f8"
      },
      "execution_count": 12,
      "outputs": [
        {
          "output_type": "stream",
          "name": "stdout",
          "text": [
            "20\n",
            "24\n",
            "24\n",
            "26\n"
          ]
        }
      ]
    },
    {
      "cell_type": "code",
      "source": [
        "# 분자 총 개수 확인\n",
        "mols = [x for x in suppl]\n",
        "len(mols)"
      ],
      "metadata": {
        "colab": {
          "base_uri": "https://localhost:8080/"
        },
        "id": "8qCZLe2icPWu",
        "outputId": "866080e9-1ff7-4f8e-f102-479757965cb7"
      },
      "execution_count": 13,
      "outputs": [
        {
          "output_type": "execute_result",
          "data": {
            "text/plain": [
              "4"
            ]
          },
          "metadata": {},
          "execution_count": 13
        }
      ]
    },
    {
      "cell_type": "code",
      "source": [
        "suppl[0].GetNumAtoms()"
      ],
      "metadata": {
        "colab": {
          "base_uri": "https://localhost:8080/"
        },
        "id": "VHoTxraUckIb",
        "outputId": "e2901948-976a-4997-db5f-a9608c1065e9"
      },
      "execution_count": 14,
      "outputs": [
        {
          "output_type": "execute_result",
          "data": {
            "text/plain": [
              "20"
            ]
          },
          "metadata": {},
          "execution_count": 14
        }
      ]
    },
    {
      "cell_type": "code",
      "source": [
        "# 안전한 파일 처리\n",
        "with Chem.SDMolSupplier('data/5ht3ligs.sdf') as suppl:\n",
        "  for mol in suppl:\n",
        "    if mol is None: continue\n",
        "    print(mol.GetNumAtoms())"
      ],
      "metadata": {
        "colab": {
          "base_uri": "https://localhost:8080/"
        },
        "id": "EopCjORgcyBJ",
        "outputId": "a221e11b-8779-491b-d6cd-4139059f7b69"
      },
      "execution_count": 15,
      "outputs": [
        {
          "output_type": "stream",
          "name": "stdout",
          "text": [
            "20\n",
            "24\n",
            "24\n",
            "26\n"
          ]
        }
      ]
    },
    {
      "cell_type": "code",
      "source": [
        "# 파일 객체 직접 사용\n",
        "inf = open('data/5ht3ligs.sdf','rb')\n",
        "with Chem.ForwardSDMolSupplier(inf) as fsuppl:\n",
        "  for mol in fsuppl:\n",
        "    if mol is None: continue\n",
        "    print(mol.GetNumAtoms())"
      ],
      "metadata": {
        "colab": {
          "base_uri": "https://localhost:8080/"
        },
        "id": "4tWPPfeidc_Q",
        "outputId": "03b71ccc-374a-46a1-ec11-10c349854e22"
      },
      "execution_count": 16,
      "outputs": [
        {
          "output_type": "stream",
          "name": "stdout",
          "text": [
            "20\n",
            "24\n",
            "24\n",
            "26\n"
          ]
        }
      ]
    },
    {
      "cell_type": "code",
      "source": [
        "# 압축 파일 처리\n",
        "import gzip\n",
        "inf = gzip.open('data/actives_5ht3.sdf.gz')\n",
        "with Chem.ForwardSDMolSupplier(inf) as gzsuppl:\n",
        "  ms = [x for x in gzsuppl if x is not None]\n",
        "len(ms)"
      ],
      "metadata": {
        "colab": {
          "base_uri": "https://localhost:8080/"
        },
        "id": "PW2aKXKQd0mR",
        "outputId": "46df1e4f-3c95-4984-ee6b-2ae3224b1f8b"
      },
      "execution_count": 17,
      "outputs": [
        {
          "output_type": "execute_result",
          "data": {
            "text/plain": [
              "180"
            ]
          },
          "metadata": {},
          "execution_count": 17
        }
      ]
    },
    {
      "cell_type": "code",
      "source": [
        "# []인덱싱을 사용한 임의 접근 시 에러 발생\n",
        "inf = open('data/5ht3ligs.sdf','rb')\n",
        "with Chem.ForwardSDMolSupplier(inf) as fsuppl:\n",
        "  fsuppl[0]  # <- 여기서 TypeError 발생!"
      ],
      "metadata": {
        "colab": {
          "base_uri": "https://localhost:8080/",
          "height": 180
        },
        "id": "cRFykOtIfCJi",
        "outputId": "a5187df1-3aa3-4632-f1ce-27da284c930d"
      },
      "execution_count": 18,
      "outputs": [
        {
          "output_type": "error",
          "ename": "TypeError",
          "evalue": "'ForwardSDMolSupplier' object is not subscriptable",
          "traceback": [
            "\u001b[0;31m---------------------------------------------------------------------------\u001b[0m",
            "\u001b[0;31mTypeError\u001b[0m                                 Traceback (most recent call last)",
            "\u001b[0;32m/tmp/ipython-input-18-1447379154.py\u001b[0m in \u001b[0;36m<cell line: 0>\u001b[0;34m()\u001b[0m\n\u001b[1;32m      2\u001b[0m \u001b[0minf\u001b[0m \u001b[0;34m=\u001b[0m \u001b[0mopen\u001b[0m\u001b[0;34m(\u001b[0m\u001b[0;34m'data/5ht3ligs.sdf'\u001b[0m\u001b[0;34m,\u001b[0m\u001b[0;34m'rb'\u001b[0m\u001b[0;34m)\u001b[0m\u001b[0;34m\u001b[0m\u001b[0;34m\u001b[0m\u001b[0m\n\u001b[1;32m      3\u001b[0m \u001b[0;32mwith\u001b[0m \u001b[0mChem\u001b[0m\u001b[0;34m.\u001b[0m\u001b[0mForwardSDMolSupplier\u001b[0m\u001b[0;34m(\u001b[0m\u001b[0minf\u001b[0m\u001b[0;34m)\u001b[0m \u001b[0;32mas\u001b[0m \u001b[0mfsuppl\u001b[0m\u001b[0;34m:\u001b[0m\u001b[0;34m\u001b[0m\u001b[0;34m\u001b[0m\u001b[0m\n\u001b[0;32m----> 4\u001b[0;31m   \u001b[0mfsuppl\u001b[0m\u001b[0;34m[\u001b[0m\u001b[0;36m0\u001b[0m\u001b[0;34m]\u001b[0m  \u001b[0;31m# <- 여기서 TypeError 발생!\u001b[0m\u001b[0;34m\u001b[0m\u001b[0;34m\u001b[0m\u001b[0m\n\u001b[0m",
            "\u001b[0;31mTypeError\u001b[0m: 'ForwardSDMolSupplier' object is not subscriptable"
          ]
        }
      ]
    },
    {
      "cell_type": "code",
      "source": [
        "i = 0\n",
        "with Chem.MultithreadedSDMolSupplier('data/5ht3ligs.sdf') as sdSupl:\n",
        "  for mol in sdSupl:\n",
        "    if mol is not None:\n",
        "      i += 1\n",
        "\n",
        "print(i)\n",
        "# multithreading 이용 파일에서 분자를 읽기와 처리하는 작업을 동시에 수행하여 성능을 높인다."
      ],
      "metadata": {
        "colab": {
          "base_uri": "https://localhost:8080/"
        },
        "id": "aMUVAtNQfGve",
        "outputId": "ce06be9c-43fa-4935-8408-b24c16aec4d8"
      },
      "execution_count": 19,
      "outputs": [
        {
          "output_type": "stream",
          "name": "stdout",
          "text": [
            "4\n"
          ]
        }
      ]
    },
    {
      "cell_type": "markdown",
      "source": [
        "# Writing molecules"
      ],
      "metadata": {
        "id": "KU10hpixfmi-"
      }
    },
    {
      "cell_type": "code",
      "source": [
        "# 분자 생성\n",
        "m = Chem.MolFromMolFile('data/chiral.mol')\n",
        "Chem.MolToSmiles(m)"
      ],
      "metadata": {
        "colab": {
          "base_uri": "https://localhost:8080/",
          "height": 36
        },
        "id": "Vifni2qIfmUr",
        "outputId": "f0f98083-2afe-4b38-8fd8-302914495f2a"
      },
      "execution_count": 20,
      "outputs": [
        {
          "output_type": "execute_result",
          "data": {
            "text/plain": [
              "'C[C@H](O)c1ccccc1'"
            ],
            "application/vnd.google.colaboratory.intrinsic+json": {
              "type": "string"
            }
          },
          "metadata": {},
          "execution_count": 20
        }
      ]
    },
    {
      "cell_type": "code",
      "source": [
        "# 입체화학(3차원) 정보 제거\n",
        "Chem.MolToSmiles(m,isomericSmiles=False)"
      ],
      "metadata": {
        "colab": {
          "base_uri": "https://localhost:8080/",
          "height": 36
        },
        "id": "tJkUcD5xf_uZ",
        "outputId": "0d236ad9-4ba9-451d-ea15-457c7fca60d6"
      },
      "execution_count": 21,
      "outputs": [
        {
          "output_type": "execute_result",
          "data": {
            "text/plain": [
              "'CC(O)c1ccccc1'"
            ],
            "application/vnd.google.colaboratory.intrinsic+json": {
              "type": "string"
            }
          },
          "metadata": {},
          "execution_count": 21
        }
      ]
    },
    {
      "cell_type": "code",
      "source": [
        "# Canonical SMILES - 하나의 분자 구조에 대해 단 하나의 유일한 SMILES 문자열\n",
        "Chem.MolToSmiles(Chem.MolFromSmiles('C1=CC=CN=C1'))\n",
        "Chem.MolToSmiles(Chem.MolFromSmiles('c1cccnc1'))\n",
        "Chem.MolToSmiles(Chem.MolFromSmiles('n1ccccc1'))"
      ],
      "metadata": {
        "colab": {
          "base_uri": "https://localhost:8080/",
          "height": 36
        },
        "id": "pehIanfvgFRs",
        "outputId": "21ba9765-028e-4869-acc6-fb9589b4fe5d"
      },
      "execution_count": 22,
      "outputs": [
        {
          "output_type": "execute_result",
          "data": {
            "text/plain": [
              "'c1ccncc1'"
            ],
            "application/vnd.google.colaboratory.intrinsic+json": {
              "type": "string"
            }
          },
          "metadata": {},
          "execution_count": 22
        }
      ]
    },
    {
      "cell_type": "code",
      "source": [
        "# kekuleSmiles\n",
        "# 방향족 고리를 소문자 대신 kekule 구조로 표현\n",
        "Chem.Kekulize(m)\n",
        "Chem.MolToSmiles(m, kekuleSmiles = True)"
      ],
      "metadata": {
        "colab": {
          "base_uri": "https://localhost:8080/",
          "height": 36
        },
        "id": "4PRmUrjY3frD",
        "outputId": "e12b68e4-b89e-498b-fbf1-7f2670e21d82"
      },
      "execution_count": 23,
      "outputs": [
        {
          "output_type": "execute_result",
          "data": {
            "text/plain": [
              "'C[C@H](O)C1=CC=CC=C1'"
            ],
            "application/vnd.google.colaboratory.intrinsic+json": {
              "type": "string"
            }
          },
          "metadata": {},
          "execution_count": 23
        }
      ]
    },
    {
      "cell_type": "code",
      "source": [
        "# MDL Mol block\n",
        "# 원자의 좌표, 결합 정보 등을 담고 있는 표준 텍스트 형식\n",
        "m2 = Chem.MolFromSmiles('C1CCC1')\n",
        "print(Chem.MolToMolBlock(m2))"
      ],
      "metadata": {
        "colab": {
          "base_uri": "https://localhost:8080/"
        },
        "id": "c2k7LMB74y6d",
        "outputId": "42461550-1830-4477-e41b-673ae2d8cf4b"
      },
      "execution_count": 24,
      "outputs": [
        {
          "output_type": "stream",
          "name": "stdout",
          "text": [
            "\n",
            "     RDKit          2D\n",
            "\n",
            "  4  4  0  0  0  0  0  0  0  0999 V2000\n",
            "    1.0607    0.0000    0.0000 C   0  0  0  0  0  0  0  0  0  0  0  0\n",
            "   -0.0000   -1.0607    0.0000 C   0  0  0  0  0  0  0  0  0  0  0  0\n",
            "   -1.0607    0.0000    0.0000 C   0  0  0  0  0  0  0  0  0  0  0  0\n",
            "    0.0000    1.0607    0.0000 C   0  0  0  0  0  0  0  0  0  0  0  0\n",
            "  1  2  1  0\n",
            "  2  3  1  0\n",
            "  3  4  1  0\n",
            "  4  1  1  0\n",
            "M  END\n",
            "\n"
          ]
        }
      ]
    },
    {
      "cell_type": "code",
      "source": [
        "# 이름 설정\n",
        "m2.SetProp(\"_Name\", \"cyclobutane\")\n",
        "print(Chem.MolToMolBlock(m2))\n"
      ],
      "metadata": {
        "colab": {
          "base_uri": "https://localhost:8080/"
        },
        "id": "1N09xPWy5UO7",
        "outputId": "f365ed37-40a6-489f-dd4d-2bc62641905e"
      },
      "execution_count": 25,
      "outputs": [
        {
          "output_type": "stream",
          "name": "stdout",
          "text": [
            "cyclobutane\n",
            "     RDKit          2D\n",
            "\n",
            "  4  4  0  0  0  0  0  0  0  0999 V2000\n",
            "    1.0607    0.0000    0.0000 C   0  0  0  0  0  0  0  0  0  0  0  0\n",
            "   -0.0000   -1.0607    0.0000 C   0  0  0  0  0  0  0  0  0  0  0  0\n",
            "   -1.0607    0.0000    0.0000 C   0  0  0  0  0  0  0  0  0  0  0  0\n",
            "    0.0000    1.0607    0.0000 C   0  0  0  0  0  0  0  0  0  0  0  0\n",
            "  1  2  1  0\n",
            "  2  3  1  0\n",
            "  3  4  1  0\n",
            "  4  1  1  0\n",
            "M  END\n",
            "\n"
          ]
        }
      ]
    },
    {
      "cell_type": "code",
      "source": [
        "from rdkit.Chem import AllChem\n",
        "\n",
        "# 분자의 2D 좌표를 계산하여 저장\n",
        "AllChem.Compute2DCoords(m2)"
      ],
      "metadata": {
        "colab": {
          "base_uri": "https://localhost:8080/"
        },
        "id": "YbH34dUk5fJv",
        "outputId": "e78f30fa-9118-4d5d-a3e1-287176df61f3"
      },
      "execution_count": 26,
      "outputs": [
        {
          "output_type": "execute_result",
          "data": {
            "text/plain": [
              "0"
            ]
          },
          "metadata": {},
          "execution_count": 26
        }
      ]
    },
    {
      "cell_type": "code",
      "source": [
        "print(Chem.MolToMolBlock(m2))"
      ],
      "metadata": {
        "colab": {
          "base_uri": "https://localhost:8080/"
        },
        "id": "1rnPhrEa50pR",
        "outputId": "3157791c-3403-4a84-8dc1-79be8530bf54"
      },
      "execution_count": 27,
      "outputs": [
        {
          "output_type": "stream",
          "name": "stdout",
          "text": [
            "cyclobutane\n",
            "     RDKit          2D\n",
            "\n",
            "  4  4  0  0  0  0  0  0  0  0999 V2000\n",
            "    1.0607   -0.0000    0.0000 C   0  0  0  0  0  0  0  0  0  0  0  0\n",
            "   -0.0000   -1.0607    0.0000 C   0  0  0  0  0  0  0  0  0  0  0  0\n",
            "   -1.0607    0.0000    0.0000 C   0  0  0  0  0  0  0  0  0  0  0  0\n",
            "    0.0000    1.0607    0.0000 C   0  0  0  0  0  0  0  0  0  0  0  0\n",
            "  1  2  1  0\n",
            "  2  3  1  0\n",
            "  3  4  1  0\n",
            "  4  1  1  0\n",
            "M  END\n",
            "\n"
          ]
        }
      ]
    },
    {
      "cell_type": "code",
      "source": [
        "# 3D 구조 생성을 위해 수소 추가(정확한 3D 좌표를 위해 필수)\n",
        "m3 = Chem.AddHs(m2)\n",
        "# 랜덤 시드 설정\n",
        "params = AllChem.ETKDGv3()\n",
        "params.randomSeed = 0xf00d\n",
        "# 3D 구조 생성\n",
        "AllChem.EmbedMolecule(m3, params)"
      ],
      "metadata": {
        "colab": {
          "base_uri": "https://localhost:8080/"
        },
        "id": "45uIf9ys58im",
        "outputId": "451b4b99-0e73-490b-ebe5-03b9a9270a84"
      },
      "execution_count": 28,
      "outputs": [
        {
          "output_type": "execute_result",
          "data": {
            "text/plain": [
              "0"
            ]
          },
          "metadata": {},
          "execution_count": 28
        }
      ]
    },
    {
      "cell_type": "code",
      "source": [
        "print(Chem.MolToMolBlock(m3))"
      ],
      "metadata": {
        "colab": {
          "base_uri": "https://localhost:8080/"
        },
        "id": "QaBtRE9h6PT6",
        "outputId": "9a7f6d6e-ee14-48cd-d107-5112dd4e1944"
      },
      "execution_count": 29,
      "outputs": [
        {
          "output_type": "stream",
          "name": "stdout",
          "text": [
            "cyclobutane\n",
            "     RDKit          3D\n",
            "\n",
            " 12 12  0  0  0  0  0  0  0  0999 V2000\n",
            "    1.0257    0.2442   -0.0991 C   0  0  0  0  0  0  0  0  0  0  0  0\n",
            "   -0.2041    0.9236    0.4320 C   0  0  0  0  0  0  0  0  0  0  0  0\n",
            "   -1.0443   -0.2424   -0.0253 C   0  0  0  0  0  0  0  0  0  0  0  0\n",
            "    0.2102   -0.9939   -0.3417 C   0  0  0  0  0  0  0  0  0  0  0  0\n",
            "    1.4192    0.7683   -0.9787 H   0  0  0  0  0  0  0  0  0  0  0  0\n",
            "    1.8181    0.1486    0.6820 H   0  0  0  0  0  0  0  0  0  0  0  0\n",
            "   -0.1697    1.0826    1.5236 H   0  0  0  0  0  0  0  0  0  0  0  0\n",
            "   -0.5360    1.8377   -0.1050 H   0  0  0  0  0  0  0  0  0  0  0  0\n",
            "   -1.6809   -0.0600   -0.8987 H   0  0  0  0  0  0  0  0  0  0  0  0\n",
            "   -1.6510   -0.6193    0.8225 H   0  0  0  0  0  0  0  0  0  0  0  0\n",
            "    0.4659   -1.7768    0.3858 H   0  0  0  0  0  0  0  0  0  0  0  0\n",
            "    0.3467   -1.3126   -1.3975 H   0  0  0  0  0  0  0  0  0  0  0  0\n",
            "  1  2  1  0\n",
            "  2  3  1  0\n",
            "  3  4  1  0\n",
            "  4  1  1  0\n",
            "  1  5  1  0\n",
            "  1  6  1  0\n",
            "  2  7  1  0\n",
            "  2  8  1  0\n",
            "  3  9  1  0\n",
            "  3 10  1  0\n",
            "  4 11  1  0\n",
            "  4 12  1  0\n",
            "M  END\n",
            "\n"
          ]
        }
      ]
    },
    {
      "cell_type": "code",
      "source": [
        "# 분석에 필요 없다면 수소 다시 제거\n",
        "m3 = Chem.RemoveHs(m3)\n",
        "print(Chem.MolToMolBlock(m3))"
      ],
      "metadata": {
        "colab": {
          "base_uri": "https://localhost:8080/"
        },
        "id": "hNaCjel36gRi",
        "outputId": "e1e95bee-778a-43b8-8d76-f369a01e56d2"
      },
      "execution_count": 30,
      "outputs": [
        {
          "output_type": "stream",
          "name": "stdout",
          "text": [
            "cyclobutane\n",
            "     RDKit          3D\n",
            "\n",
            "  4  4  0  0  0  0  0  0  0  0999 V2000\n",
            "    1.0257    0.2442   -0.0991 C   0  0  0  0  0  0  0  0  0  0  0  0\n",
            "   -0.2041    0.9236    0.4320 C   0  0  0  0  0  0  0  0  0  0  0  0\n",
            "   -1.0443   -0.2424   -0.0253 C   0  0  0  0  0  0  0  0  0  0  0  0\n",
            "    0.2102   -0.9939   -0.3417 C   0  0  0  0  0  0  0  0  0  0  0  0\n",
            "  1  2  1  0\n",
            "  2  3  1  0\n",
            "  3  4  1  0\n",
            "  4  1  1  0\n",
            "M  END\n",
            "\n"
          ]
        }
      ]
    },
    {
      "cell_type": "code",
      "source": [
        "# 파일로 저장\n",
        "print(Chem.MolToMolBlock(m2), file = open('data/foo.mol','w+'))"
      ],
      "metadata": {
        "id": "wiWIU7kF8AKx"
      },
      "execution_count": 31,
      "outputs": []
    },
    {
      "cell_type": "markdown",
      "source": [
        "# Writing sets of molecules"
      ],
      "metadata": {
        "id": "f28n0_2H8I0F"
      }
    },
    {
      "cell_type": "code",
      "source": [
        "# data/foo.sdf 파일에 분자를 쓰기\n",
        "with Chem.SDWriter('data/foo.sdf') as w:\n",
        "  for m in mols:\n",
        "    w.write(m)"
      ],
      "metadata": {
        "id": "jPDAEidM8IfX"
      },
      "execution_count": 32,
      "outputs": []
    },
    {
      "cell_type": "code",
      "source": [
        "from io import StringIO\n",
        "sio = StringIO() # 파일처럼 작동하는 인메모리 텍스트 버퍼 생성\n",
        "with Chem.SDWriter(sio) as w:\n",
        "  for m in mols:\n",
        "    w.write(m)\n",
        "print(sio.getvalue())"
      ],
      "metadata": {
        "colab": {
          "base_uri": "https://localhost:8080/"
        },
        "id": "xrpOoEUe80W4",
        "outputId": "a8081a2f-f737-47ef-d3bf-b16ead347965"
      },
      "execution_count": 33,
      "outputs": [
        {
          "output_type": "stream",
          "name": "stdout",
          "text": [
            "mol-295\n",
            "     RDKit          3D\n",
            "\n",
            " 20 22  0  0  1  0  0  0  0  0999 V2000\n",
            "    2.3200    0.0800   -0.1000 C   0  0  0  0  0  0  0  0  0  0  0  0\n",
            "    1.8400   -1.2200    0.1200 C   0  0  0  0  0  0  0  0  0  0  0  0\n",
            "    3.6800    0.0800    0.2600 C   0  0  0  0  0  0  0  0  0  0  0  0\n",
            "    1.7400    1.2800   -0.5600 C   0  0  0  0  0  0  0  0  0  0  0  0\n",
            "    2.9400   -1.9200    0.6000 C   0  0  0  0  0  0  0  0  0  0  0  0\n",
            "    0.5400   -1.7400   -0.0800 C   0  0  0  0  0  0  0  0  0  0  0  0\n",
            "    4.0200   -1.1400    0.6600 N   0  0  0  0  0  0  0  0  0  0  0  0\n",
            "    4.4600    1.2600    0.1600 C   0  0  0  0  0  0  0  0  0  0  0  0\n",
            "    2.5200    2.4600   -0.6600 C   0  0  0  0  0  0  0  0  0  0  0  0\n",
            "   -0.3800   -1.0400   -0.5000 O   0  0  0  0  0  0  0  0  0  0  0  0\n",
            "    0.3000   -2.9200    0.1800 O   0  0  0  0  0  0  0  0  0  0  0  0\n",
            "    3.8800    2.4400   -0.3000 C   0  0  0  0  0  0  0  0  0  0  0  0\n",
            "   -1.6800   -1.2400   -0.7800 C   0  0  0  0  0  0  0  0  0  0  0  0\n",
            "   -2.5800   -0.3200    0.1000 C   0  0  2  0  0  0  0  0  0  0  0  0\n",
            "   -4.0600   -0.6200   -0.0200 N   0  0  0  0  0  0  0  0  0  0  0  0\n",
            "   -2.2800    1.1800   -0.1400 C   0  0  0  0  0  0  0  0  0  0  0  0\n",
            "   -4.8800    0.2200    0.9200 C   0  0  0  0  0  0  0  0  0  0  0  0\n",
            "   -4.6200   -0.6400   -1.3800 C   0  0  0  0  0  0  0  0  0  0  0  0\n",
            "   -3.1400    2.0800    0.8000 C   0  0  0  0  0  0  0  0  0  0  0  0\n",
            "   -4.6400    1.7400    0.7200 C   0  0  0  0  0  0  0  0  0  0  0  0\n",
            "  1  2  1  0\n",
            "  1  3  1  0\n",
            "  1  4  2  0\n",
            "  2  5  2  0\n",
            "  2  6  1  0\n",
            "  3  7  1  0\n",
            "  3  8  2  0\n",
            "  4  9  1  0\n",
            "  6 10  1  0\n",
            "  6 11  2  0\n",
            "  8 12  1  0\n",
            " 10 13  1  0\n",
            " 14 13  1  6\n",
            " 14 15  1  0\n",
            " 14 16  1  0\n",
            " 15 17  1  0\n",
            " 15 18  1  0\n",
            " 16 19  1  0\n",
            " 17 20  1  0\n",
            "  5  7  1  0\n",
            "  9 12  2  0\n",
            " 19 20  1  0\n",
            "M  END\n",
            "$$$$\n",
            "mol-54\n",
            "     RDKit          3D\n",
            "\n",
            " 24 26  0  0  0  0  0  0  0  0999 V2000\n",
            "    0.8000   -1.0800   -0.5600 C   0  0  0  0  0  0  0  0  0  0  0  0\n",
            "    1.5200   -2.3000   -0.4200 C   0  0  0  0  0  0  0  0  0  0  0  0\n",
            "   -0.5400   -0.9600   -1.0000 C   0  0  0  0  0  0  0  0  0  0  0  0\n",
            "    1.5400    0.1000   -0.2200 C   0  0  0  0  0  0  0  0  0  0  0  0\n",
            "    2.8400   -2.3200    0.0200 C   0  0  0  0  0  0  0  0  0  0  0  0\n",
            "    0.9000   -3.4000   -0.7200 O   0  0  0  0  0  0  0  0  0  0  0  0\n",
            "   -1.4600    0.0000   -0.6400 N   0  0  0  0  0  0  0  0  0  0  0  0\n",
            "   -0.9800   -1.8000   -1.7800 O   0  0  0  0  0  0  0  0  0  0  0  0\n",
            "    2.8600    0.0800    0.2400 C   0  0  0  0  0  0  0  0  0  0  0  0\n",
            "    3.5400   -1.1600    0.3600 C   0  0  0  0  0  0  0  0  0  0  0  0\n",
            "    1.2400   -4.7000   -0.7200 C   0  0  0  0  0  0  0  0  0  0  0  0\n",
            "   -2.8200    0.1400   -1.0800 C   0  0  2  0  0  0  0  0  0  0  0  0\n",
            "    3.6000    1.5800    0.6000 Cl  0  0  0  0  0  0  0  0  0  0  0  0\n",
            "    4.8200   -1.2400    0.7600 N   0  0  0  0  0  0  0  0  0  0  0  0\n",
            "    0.8800   -5.3600    0.6400 C   0  0  0  0  0  0  0  0  0  0  0  0\n",
            "   -3.5400    1.4200   -0.5200 C   0  0  0  0  0  0  0  0  0  0  0  0\n",
            "   -3.7200   -1.1200   -0.7000 C   0  0  0  0  0  0  0  0  0  0  0  0\n",
            "    1.6400   -4.7200    1.7000 O   0  0  0  0  0  0  0  0  0  0  0  0\n",
            "   -3.8200    1.2600    1.0000 C   0  0  0  0  0  0  0  0  0  0  0  0\n",
            "   -4.9400    1.5400   -1.2400 C   0  0  0  0  0  0  0  0  0  0  0  0\n",
            "   -5.0000   -0.7200   -0.0600 N   0  0  0  0  0  0  0  0  0  0  0  0\n",
            "    1.3400   -5.3200    2.9800 C   0  0  0  0  0  0  0  0  0  0  0  0\n",
            "   -4.7200   -0.0200    1.2400 C   0  0  0  0  0  0  0  0  0  0  0  0\n",
            "   -5.7600    0.2400   -0.9800 C   0  0  0  0  0  0  0  0  0  0  0  0\n",
            "  1  2  2  0\n",
            "  1  3  1  0\n",
            "  1  4  1  0\n",
            "  2  5  1  0\n",
            "  2  6  1  0\n",
            "  3  7  1  0\n",
            "  3  8  2  0\n",
            "  4  9  2  0\n",
            "  5 10  2  0\n",
            "  6 11  1  0\n",
            " 12  7  1  1\n",
            "  9 13  1  0\n",
            " 10 14  1  0\n",
            " 11 15  1  0\n",
            " 12 16  1  0\n",
            " 12 17  1  0\n",
            " 15 18  1  0\n",
            " 16 19  1  0\n",
            " 16 20  1  0\n",
            " 17 21  1  0\n",
            " 18 22  1  0\n",
            " 19 23  1  0\n",
            " 20 24  1  0\n",
            "  9 10  1  0\n",
            " 21 23  1  0\n",
            " 21 24  1  0\n",
            "M  END\n",
            "$$$$\n",
            "mol-15\n",
            "     RDKit          3D\n",
            "\n",
            " 24 27  0  0  0  0  0  0  0  0999 V2000\n",
            "    1.5000   -0.6400   -0.4600 C   0  0  0  0  0  0  0  0  0  0  0  0\n",
            "    2.3600   -1.5600    0.1800 C   0  0  0  0  0  0  0  0  0  0  0  0\n",
            "    2.1600    0.5800   -0.4600 C   0  0  0  0  0  0  0  0  0  0  0  0\n",
            "    0.2400   -1.0000   -0.9400 C   0  0  0  0  0  0  0  0  0  0  0  0\n",
            "    3.4800   -0.9200    0.6000 N   0  0  0  0  0  0  0  0  0  0  0  0\n",
            "    2.0000   -2.9800    0.3200 C   0  0  0  0  0  0  0  0  0  0  0  0\n",
            "    3.4000    0.3600    0.2000 C   0  0  0  0  0  0  0  0  0  0  0  0\n",
            "    1.8400    1.8600   -0.9600 C   0  0  0  0  0  0  0  0  0  0  0  0\n",
            "   -0.3000   -2.3200   -0.7200 C   0  0  1  0  0  0  0  0  0  0  0  0\n",
            "   -0.4400   -0.1800   -1.5600 O   0  0  0  0  0  0  0  0  0  0  0  0\n",
            "    4.5800   -1.5200    1.3400 C   0  0  0  0  0  0  0  0  0  0  0  0\n",
            "    0.8400   -3.4000   -0.6400 C   0  0  0  0  0  0  0  0  0  0  0  0\n",
            "    4.3000    1.4400    0.3600 C   0  0  0  0  0  0  0  0  0  0  0  0\n",
            "    2.7600    2.9200   -0.8000 C   0  0  0  0  0  0  0  0  0  0  0  0\n",
            "   -1.2400   -2.3600    0.5400 C   0  0  0  0  0  0  0  0  0  0  0  0\n",
            "    5.7800   -1.4400    0.6400 C   0  0  0  0  0  0  0  0  0  0  0  0\n",
            "    3.9800    2.7200   -0.1600 C   0  0  0  0  0  0  0  0  0  0  0  0\n",
            "   -2.4200   -1.4600    0.4600 C   0  0  0  0  0  0  0  0  0  0  0  0\n",
            "    6.8000   -1.3800    0.0400 C   0  0  0  0  0  0  0  0  0  0  0  0\n",
            "   -3.4400   -1.4800   -0.4800 C   0  0  0  0  0  0  0  0  0  0  0  0\n",
            "   -2.6600   -0.5000    1.3400 N   0  0  0  0  0  0  0  0  0  0  0  0\n",
            "   -4.2800   -0.4600   -0.1400 N   0  0  0  0  0  0  0  0  0  0  0  0\n",
            "   -3.6000   -2.3600   -1.6200 C   0  0  0  0  0  0  0  0  0  0  0  0\n",
            "   -3.8000    0.1000    0.9800 C   0  0  0  0  0  0  0  0  0  0  0  0\n",
            "  1  2  2  0\n",
            "  1  3  1  0\n",
            "  1  4  1  0\n",
            "  2  5  1  0\n",
            "  2  6  1  0\n",
            "  3  7  2  0\n",
            "  3  8  1  0\n",
            "  4  9  1  0\n",
            "  4 10  2  0\n",
            "  5 11  1  0\n",
            "  6 12  1  0\n",
            "  7 13  1  0\n",
            "  8 14  2  0\n",
            "  9 15  1  1\n",
            " 11 16  1  0\n",
            " 13 17  2  0\n",
            " 15 18  1  0\n",
            " 16 19  3  0\n",
            " 18 20  2  0\n",
            " 18 21  1  0\n",
            " 20 22  1  0\n",
            " 20 23  1  0\n",
            " 21 24  2  0\n",
            "  5  7  1  0\n",
            "  9 12  1  0\n",
            " 14 17  1  0\n",
            " 22 24  1  0\n",
            "M  END\n",
            "$$$$\n",
            "mol-732\n",
            "     RDKit          3D\n",
            "\n",
            " 26 29  0  0  0  0  0  0  0  0999 V2000\n",
            "    3.2400    0.6400    0.0200 C   0  0  0  0  0  0  0  0  0  0  0  0\n",
            "    2.0200    0.0800   -0.2400 C   0  0  0  0  0  0  0  0  0  0  0  0\n",
            "    4.1400   -0.3200    0.1600 N   0  0  0  0  0  0  0  0  0  0  0  0\n",
            "    3.1800    2.0400    0.0800 C   0  0  0  0  0  0  0  0  0  0  0  0\n",
            "    2.2000   -1.2800   -0.2800 C   0  0  0  0  0  0  0  0  0  0  0  0\n",
            "    0.7000    1.1800   -0.4200 S   0  0  0  0  0  0  0  0  0  0  0  0\n",
            "    3.5200   -1.5200   -0.0400 C   0  0  0  0  0  0  0  0  0  0  0  0\n",
            "    5.4600   -0.5200    0.4000 C   0  0  0  0  0  0  0  0  0  0  0  0\n",
            "    1.8600    2.4600   -0.1400 C   0  0  0  0  0  0  0  0  0  0  0  0\n",
            "    4.3200    2.9200    0.3400 C   0  0  0  0  0  0  0  0  0  0  0  0\n",
            "    1.2000   -2.1400   -0.5200 N   0  0  0  0  0  0  0  0  0  0  0  0\n",
            "    4.4600   -2.5200    0.1000 C   0  0  0  0  0  0  0  0  0  0  0  0\n",
            "    5.6600   -1.9000    0.3400 C   0  0  0  0  0  0  0  0  0  0  0  0\n",
            "    0.0400   -1.8800   -0.7200 O   0  0  0  0  0  0  0  0  0  0  0  0\n",
            "   -0.9200   -2.7800   -0.9400 C   0  0  1  0  0  0  0  0  0  0  0  0\n",
            "   -1.0400   -3.7000    0.2200 C   0  0  0  0  0  0  0  0  0  0  0  0\n",
            "   -2.2800   -2.0600   -1.2400 C   0  0  0  0  0  0  0  0  0  0  0  0\n",
            "   -0.7200   -3.2400    1.5400 C   0  0  0  0  0  0  0  0  0  0  0  0\n",
            "   -1.4600   -5.0400    0.0800 C   0  0  0  0  0  0  0  0  0  0  0  0\n",
            "   -2.7400   -1.1000   -0.1200 C   0  0  0  0  0  0  0  0  0  0  0  0\n",
            "   -0.8200   -4.1000    2.6400 C   0  0  0  0  0  0  0  0  0  0  0  0\n",
            "   -1.5600   -5.9000    1.2000 C   0  0  0  0  0  0  0  0  0  0  0  0\n",
            "   -3.9400   -0.3000   -0.5200 N   0  0  0  0  0  0  0  0  0  0  0  0\n",
            "   -1.2200   -5.4200    2.5000 C   0  0  0  0  0  0  0  0  0  0  0  0\n",
            "   -5.1200   -1.1600   -0.7800 C   0  0  0  0  0  0  0  0  0  0  0  0\n",
            "   -3.7800    0.4800   -1.7400 C   0  0  0  0  0  0  0  0  0  0  0  0\n",
            "  2  6  1  0\n",
            "  3  7  1  0\n",
            "  3  8  1  0\n",
            "  4  9  2  0\n",
            "  4 10  1  0\n",
            "  5 11  2  0\n",
            "  7 12  2  0\n",
            "  8 13  2  0\n",
            " 11 14  1  0\n",
            " 14 15  1  0\n",
            " 15 16  1  0\n",
            " 15 17  1  1\n",
            " 16 18  2  0\n",
            " 16 19  1  0\n",
            " 17 20  1  0\n",
            " 18 21  1  0\n",
            " 19 22  2  0\n",
            " 20 23  1  0\n",
            " 21 24  2  0\n",
            " 23 25  1  0\n",
            " 23 26  1  0\n",
            "  5  7  1  0\n",
            "  6  9  1  0\n",
            " 12 13  1  0\n",
            " 22 24  1  0\n",
            "  1  2  2  0\n",
            "  1  3  1  0\n",
            "  1  4  1  0\n",
            "  2  5  1  0\n",
            "M  END\n",
            "$$$$\n",
            "\n"
          ]
        }
      ]
    },
    {
      "cell_type": "markdown",
      "source": [
        "# Working with Molecules\n"
      ],
      "metadata": {
        "id": "X7FXxS4yD9mj"
      }
    },
    {
      "cell_type": "code",
      "source": [
        "m = Chem.MolFromSmiles('C1OC1')\n",
        "# 모든 원자의 원자 번호 출력\n",
        "for atom in m.GetAtoms():\n",
        "  print(atom.GetAtomicNum())\n",
        "# 첫 번째 결합의 종류 출력\n",
        "print(m.GetBonds()[0].GetBondType())"
      ],
      "metadata": {
        "colab": {
          "base_uri": "https://localhost:8080/"
        },
        "id": "SpI6tRp-CTBe",
        "outputId": "d65019c6-cd14-4f5d-aca8-8401e8bc96bd"
      },
      "execution_count": 34,
      "outputs": [
        {
          "output_type": "stream",
          "name": "stdout",
          "text": [
            "6\n",
            "8\n",
            "6\n",
            "SINGLE\n"
          ]
        }
      ]
    },
    {
      "cell_type": "markdown",
      "source": [
        "직접 접근하기"
      ],
      "metadata": {
        "id": "Ab5Dhpi1EkBp"
      }
    },
    {
      "cell_type": "code",
      "source": [
        "# 0 번 인덱스 원자의 속성\n",
        "print(m.GetAtomWithIdx(0).GetSymbol())\n",
        "print(m.GetAtomWithIdx(0).GetExplicitValence())\n",
        "print(m.GetBondWithIdx(0).GetBeginAtomIdx())\n",
        "print(m.GetBondWithIdx(0).GetEndAtomIdx())\n",
        "print(m.GetBondBetweenAtoms(0,1).GetBondType())"
      ],
      "metadata": {
        "colab": {
          "base_uri": "https://localhost:8080/"
        },
        "id": "BDARJ2tLEgqf",
        "outputId": "0d38faf1-03da-43ba-b0d0-b523ef0ba286"
      },
      "execution_count": 35,
      "outputs": [
        {
          "output_type": "stream",
          "name": "stdout",
          "text": [
            "C\n",
            "2\n",
            "0\n",
            "1\n",
            "SINGLE\n"
          ]
        },
        {
          "output_type": "stream",
          "name": "stderr",
          "text": [
            "[10:34:16] DEPRECATION WARNING: please use GetValence(which=)\n"
          ]
        }
      ]
    },
    {
      "cell_type": "code",
      "source": [
        "# 0번 인덱스 원자의 이웃 원자들의 원자 번호\n",
        "atom = m.GetAtomWithIdx(0)\n",
        "[x.GetAtomicNum() for x in atom.GetNeighbors()]"
      ],
      "metadata": {
        "colab": {
          "base_uri": "https://localhost:8080/"
        },
        "id": "dgOxTaZPExgw",
        "outputId": "13c433b5-0282-431b-ca1b-e205ffe176c7"
      },
      "execution_count": 36,
      "outputs": [
        {
          "output_type": "execute_result",
          "data": {
            "text/plain": [
              "[8, 6]"
            ]
          },
          "metadata": {},
          "execution_count": 36
        }
      ]
    },
    {
      "cell_type": "code",
      "source": [
        "len(atom.GetNeighbors()[-1].GetBonds())"
      ],
      "metadata": {
        "colab": {
          "base_uri": "https://localhost:8080/"
        },
        "id": "75zSUE5TFNf6",
        "outputId": "83f2e132-18ea-4a05-9180-1eeeff0a1ce4"
      },
      "execution_count": 37,
      "outputs": [
        {
          "output_type": "execute_result",
          "data": {
            "text/plain": [
              "2"
            ]
          },
          "metadata": {},
          "execution_count": 37
        }
      ]
    },
    {
      "cell_type": "markdown",
      "source": [
        "Ring Information\n",
        "\n",
        "- IsInRing(): 원자 또는 결합이 어떤 고리에든 속해 있는지 확인\n",
        "\n",
        "- IsInRingSize(N): 원자 또는 결합이 N개의 원자로 이루어진 특정 크기의 고리에 속해 있는지 확인"
      ],
      "metadata": {
        "id": "S4dJAJAQFeDc"
      }
    },
    {
      "cell_type": "code",
      "source": [
        "m = Chem.MolFromSmiles('OC1C2C1CC2')\n",
        "m.GetAtomWithIdx(0).IsInRing()\n",
        "m.GetAtomWithIdx(1).IsInRing()\n",
        "m.GetAtomWithIdx(2).IsInRingSize(3)\n",
        "m.GetAtomWithIdx(2).IsInRingSize(4)\n",
        "m.GetAtomWithIdx(2).IsInRingSize(5)\n",
        "m.GetBondWithIdx(1).IsInRingSize(3)\n",
        "m.GetBondWithIdx(1).IsInRing()"
      ],
      "metadata": {
        "colab": {
          "base_uri": "https://localhost:8080/"
        },
        "id": "uRPcdiksFcgk",
        "outputId": "70ed8d4d-aa7b-4f83-8c4c-eb6f396a47a2"
      },
      "execution_count": 38,
      "outputs": [
        {
          "output_type": "execute_result",
          "data": {
            "text/plain": [
              "True"
            ]
          },
          "metadata": {},
          "execution_count": 38
        }
      ]
    },
    {
      "cell_type": "code",
      "source": [
        "# 주의점은 가장 작은 고리 정보만을 기반으로 한다.\n",
        "m.GetAtomWithIdx(1).IsInRingSize(5)"
      ],
      "metadata": {
        "colab": {
          "base_uri": "https://localhost:8080/"
        },
        "id": "ZNKNJtCrF0X0",
        "outputId": "519be3be-dc94-43e5-daea-7407522e5808"
      },
      "execution_count": 39,
      "outputs": [
        {
          "output_type": "execute_result",
          "data": {
            "text/plain": [
              "False"
            ]
          },
          "metadata": {},
          "execution_count": 39
        }
      ]
    },
    {
      "cell_type": "markdown",
      "source": [
        "Chem.GetSymmSSSR()\n",
        "- 분자 내에 존재하는 가장 작은 고리들의 집합에 대한 더 상세한 정보"
      ],
      "metadata": {
        "id": "iNgPc23ZGTVE"
      }
    },
    {
      "cell_type": "code",
      "source": [
        "# 상세 고리 정보\n",
        "ssr = Chem.GetSymmSSSR(m)\n",
        "len(ssr)"
      ],
      "metadata": {
        "colab": {
          "base_uri": "https://localhost:8080/"
        },
        "id": "Cl3j2LNlGAR6",
        "outputId": "51d2b40b-37c6-45e3-9bec-4453ae8a095c"
      },
      "execution_count": 40,
      "outputs": [
        {
          "output_type": "execute_result",
          "data": {
            "text/plain": [
              "2"
            ]
          },
          "metadata": {},
          "execution_count": 40
        }
      ]
    },
    {
      "cell_type": "code",
      "source": [
        "list(ssr[0])"
      ],
      "metadata": {
        "colab": {
          "base_uri": "https://localhost:8080/"
        },
        "id": "qAERtE_kGL4f",
        "outputId": "eb1d660f-31ff-46da-89e9-0da44d1e997d"
      },
      "execution_count": 41,
      "outputs": [
        {
          "output_type": "execute_result",
          "data": {
            "text/plain": [
              "[1, 2, 3]"
            ]
          },
          "metadata": {},
          "execution_count": 41
        }
      ]
    },
    {
      "cell_type": "code",
      "source": [
        "list(ssr[1])"
      ],
      "metadata": {
        "colab": {
          "base_uri": "https://localhost:8080/"
        },
        "id": "d3ulSnQTGOHd",
        "outputId": "f349ebb4-7b70-4c34-da72-37c6dbf51023"
      },
      "execution_count": 42,
      "outputs": [
        {
          "output_type": "execute_result",
          "data": {
            "text/plain": [
              "[4, 5, 2, 3]"
            ]
          },
          "metadata": {},
          "execution_count": 42
        }
      ]
    },
    {
      "cell_type": "markdown",
      "source": [
        "RingInfo (효율적인 조회)\n",
        "- m.GetRingInfo()는 고리 정보를 미리 한 번만 계산해 객체 생성, 이후 개별적인 조회 속도가 매우 빠르다."
      ],
      "metadata": {
        "id": "IDYAetg_GaDh"
      }
    },
    {
      "cell_type": "code",
      "source": [
        "ri = m.GetRingInfo()\n",
        "\n",
        "# 2번 원자가 속한 고리의 개수\n",
        "ri.NumAtomRings(2)"
      ],
      "metadata": {
        "colab": {
          "base_uri": "https://localhost:8080/"
        },
        "id": "GtjFEfuXGjY6",
        "outputId": "168e9fc2-9089-4b14-e8fb-efd72831d9bb"
      },
      "execution_count": 43,
      "outputs": [
        {
          "output_type": "execute_result",
          "data": {
            "text/plain": [
              "2"
            ]
          },
          "metadata": {},
          "execution_count": 43
        }
      ]
    },
    {
      "cell_type": "code",
      "source": [
        "# 1번 원자가 3원자 고리에 속해 있는지 확인\n",
        "ri.IsAtomInRingOfSize(1,3)"
      ],
      "metadata": {
        "colab": {
          "base_uri": "https://localhost:8080/"
        },
        "id": "pTwTHpl3GupS",
        "outputId": "16ae64db-042c-435e-bcde-30d506109532"
      },
      "execution_count": 44,
      "outputs": [
        {
          "output_type": "execute_result",
          "data": {
            "text/plain": [
              "True"
            ]
          },
          "metadata": {},
          "execution_count": 44
        }
      ]
    },
    {
      "cell_type": "markdown",
      "source": [
        "# Modifying Molecules\n",
        "- Chem.AddHs(mol): 분자 객체에 생략된 수소 원자들을 모두 명시적으로 추가하여 새로운 분자 객체를 반환\n",
        "- Chem.RemoveHs(mol): 명시적으로 추가된 수소 원자들을 다시 제거하여 새로운 분자 객체를 반환"
      ],
      "metadata": {
        "id": "J9adY7eeJrn1"
      }
    },
    {
      "cell_type": "code",
      "source": [
        "m=Chem.MolFromSmiles('CCO')\n",
        "m.GetNumAtoms()"
      ],
      "metadata": {
        "colab": {
          "base_uri": "https://localhost:8080/"
        },
        "id": "myk0X6ycG0VD",
        "outputId": "a5ba13cf-c84b-4caa-a871-e16320a23bbf"
      },
      "execution_count": 45,
      "outputs": [
        {
          "output_type": "execute_result",
          "data": {
            "text/plain": [
              "3"
            ]
          },
          "metadata": {},
          "execution_count": 45
        }
      ]
    },
    {
      "cell_type": "code",
      "source": [
        "m2 = Chem.AddHs(m)\n",
        "m2.GetNumAtoms()"
      ],
      "metadata": {
        "colab": {
          "base_uri": "https://localhost:8080/"
        },
        "id": "I0198I-YJ5T2",
        "outputId": "917a1746-1bd0-4b35-b721-2021936edcb8"
      },
      "execution_count": 46,
      "outputs": [
        {
          "output_type": "execute_result",
          "data": {
            "text/plain": [
              "9"
            ]
          },
          "metadata": {},
          "execution_count": 46
        }
      ]
    },
    {
      "cell_type": "code",
      "source": [
        "m3 = Chem.RemoveHs(m2)\n",
        "m3.GetNumAtoms()"
      ],
      "metadata": {
        "colab": {
          "base_uri": "https://localhost:8080/"
        },
        "id": "x-XIqrBlKAGC",
        "outputId": "c15c470a-6bb3-415a-d86c-55cf00a9c2d4"
      },
      "execution_count": 47,
      "outputs": [
        {
          "output_type": "execute_result",
          "data": {
            "text/plain": [
              "3"
            ]
          },
          "metadata": {},
          "execution_count": 47
        }
      ]
    },
    {
      "cell_type": "markdown",
      "source": [
        "## 방향족 결합 처리\n",
        "### 케쿨화 (Kekulization)\n",
        "- Chem.Kekulize(mol): 분자 내 aromatic bond를 single과 double bond로 변화. 이 함수는 분자 객체를 직접 수정"
      ],
      "metadata": {
        "id": "jbEbgGGZKIF6"
      }
    },
    {
      "cell_type": "code",
      "source": [
        "m = Chem.MolFromSmiles('c1ccccc1') # 벤젠\n",
        "m.GetBondWithIdx(0).GetBondType()"
      ],
      "metadata": {
        "colab": {
          "base_uri": "https://localhost:8080/"
        },
        "id": "h3n9mjzcKXWk",
        "outputId": "aa135c3e-9f5d-4779-cc78-6784d13f4671"
      },
      "execution_count": 48,
      "outputs": [
        {
          "output_type": "execute_result",
          "data": {
            "text/plain": [
              "rdkit.Chem.rdchem.BondType.AROMATIC"
            ]
          },
          "metadata": {},
          "execution_count": 48
        }
      ]
    },
    {
      "cell_type": "code",
      "source": [
        "Chem.Kekulize(m)\n",
        "m.GetBondWithIdx(0).GetBondType()"
      ],
      "metadata": {
        "colab": {
          "base_uri": "https://localhost:8080/"
        },
        "id": "0Hd5bdhGKf0M",
        "outputId": "e8972fee-7a61-49f3-eaae-cb2624a86278"
      },
      "execution_count": 49,
      "outputs": [
        {
          "output_type": "execute_result",
          "data": {
            "text/plain": [
              "rdkit.Chem.rdchem.BondType.DOUBLE"
            ]
          },
          "metadata": {},
          "execution_count": 49
        }
      ]
    },
    {
      "cell_type": "code",
      "source": [
        "m.GetBondWithIdx(1).GetBondType()"
      ],
      "metadata": {
        "colab": {
          "base_uri": "https://localhost:8080/"
        },
        "id": "tfpHZaqgKmPm",
        "outputId": "cc68e6b0-a11b-4bbe-eb78-7063487e55ee"
      },
      "execution_count": 50,
      "outputs": [
        {
          "output_type": "execute_result",
          "data": {
            "text/plain": [
              "rdkit.Chem.rdchem.BondType.SINGLE"
            ]
          },
          "metadata": {},
          "execution_count": 50
        }
      ]
    },
    {
      "cell_type": "code",
      "source": [
        "# 해당 결합이 방향족이라는 내부 flag(정보)는 유지\n",
        "m.GetBondWithIdx(0).GetIsAromatic()"
      ],
      "metadata": {
        "colab": {
          "base_uri": "https://localhost:8080/"
        },
        "id": "pv-kegQnKpAE",
        "outputId": "a903e11a-fc69-4737-c237-058d7f94c8b4"
      },
      "execution_count": 51,
      "outputs": [
        {
          "output_type": "execute_result",
          "data": {
            "text/plain": [
              "True"
            ]
          },
          "metadata": {},
          "execution_count": 51
        }
      ]
    },
    {
      "cell_type": "code",
      "source": [
        "# 플래그 제거를 위해서는 clearAromaticFlags=True 옵션을 사용\n",
        "m1 = Chem.MolFromSmiles('c1ccccc1')\n",
        "Chem.Kekulize(m1, clearAromaticFlags=True)\n",
        "m1.GetBondWithIdx(0).GetIsAromatic()"
      ],
      "metadata": {
        "colab": {
          "base_uri": "https://localhost:8080/"
        },
        "id": "fNwnQkvGK2Vy",
        "outputId": "21542e8d-8e21-4891-89fe-6746adbe90b1"
      },
      "execution_count": 52,
      "outputs": [
        {
          "output_type": "execute_result",
          "data": {
            "text/plain": [
              "False"
            ]
          },
          "metadata": {},
          "execution_count": 52
        }
      ]
    },
    {
      "cell_type": "markdown",
      "source": [
        "## Sanitization (상태 복원)\n",
        "- Chem.SanitizeMol(mol): 분자 구조를 점점하고 표준 상태로 \"정리\"하는 역할"
      ],
      "metadata": {
        "id": "eKPBNCIbK_AM"
      }
    },
    {
      "cell_type": "code",
      "source": [
        "# kekulize된 분자 m에 SanitizeMol 적용\n",
        "Chem.SanitizeMol(m)\n",
        "# 결합 유형이 다시 AROMATIC으로 복원\n",
        "m.GetBondWithIdx(0).GetBondType()"
      ],
      "metadata": {
        "colab": {
          "base_uri": "https://localhost:8080/"
        },
        "id": "1Ir1pxVwK-lT",
        "outputId": "fdba68a7-afba-45f1-93d6-3ffa7abb8cf4"
      },
      "execution_count": 53,
      "outputs": [
        {
          "output_type": "execute_result",
          "data": {
            "text/plain": [
              "rdkit.Chem.rdchem.BondType.AROMATIC"
            ]
          },
          "metadata": {},
          "execution_count": 53
        }
      ]
    },
    {
      "cell_type": "markdown",
      "source": [
        "# 2D 구조 생성\n",
        "- AllChem.Compute2DCoords(): 분자 객체 내에 2D 좌표를 계산해 저장\n",
        "- 원자들이 겹치지 않는 선에서 가장 명확하고 표준화된 방향으로 분자의 2D 그림을 생성"
      ],
      "metadata": {
        "id": "_0bP7mh3L4MT"
      }
    },
    {
      "cell_type": "code",
      "source": [
        "from rdkit import Chem\n",
        "from rdkit.Chem import AllChem\n",
        "\n",
        "m = Chem.MolFromSmiles('c1nccc2n1ccc2')\n",
        "AllChem.Compute2DCoords(m)"
      ],
      "metadata": {
        "colab": {
          "base_uri": "https://localhost:8080/"
        },
        "id": "T5YaOpWLLd6W",
        "outputId": "232bdd7c-4ff6-492d-971a-ab421e5d1164"
      },
      "execution_count": 54,
      "outputs": [
        {
          "output_type": "execute_result",
          "data": {
            "text/plain": [
              "0"
            ]
          },
          "metadata": {},
          "execution_count": 54
        }
      ]
    },
    {
      "cell_type": "markdown",
      "source": [
        "## 템플릿에 맞춰 구조 정렬\n",
        "- 기준이 될 template 분자의 2D 좌표를 먼저 생성\n",
        "- 나머지 분자들에 대해 AllChem.GenerateDepictionMatching2DStructure() 호출해,\n",
        "공통 부분과 일치하도록 방향을 맞춰 2D 구조 생성"
      ],
      "metadata": {
        "id": "KDXKtxdpMXPA"
      }
    },
    {
      "cell_type": "code",
      "source": [
        "template = Chem.MolFromSmiles('c1nccc2n1ccc2')\n",
        "AllChem.Compute2DCoords(template)\n",
        "\n",
        "ms = [Chem.MolFromSmiles(smi) for smi in ('OCCc1ccn2cnccc12', 'CNC(=O)c1nccc2cccn12')]\n",
        "\n",
        "for m in ms:\n",
        "  # 각 분자를 템플릿에 맞게 정렬\n",
        "  _ = AllChem.GenerateDepictionMatching2DStructure(m, template)"
      ],
      "metadata": {
        "id": "EvkNqiHLMlwR"
      },
      "execution_count": 55,
      "outputs": []
    },
    {
      "cell_type": "code",
      "source": [
        "img = Draw.MolsToGridImage(\n",
        "    [template] + ms,\n",
        "    molsPerRow=4,  # 한 줄에 4개의 분자를 표시\n",
        "    subImgSize=(200, 200),  # 각 분자 이미지의 크기\n",
        ")\n",
        "\n",
        "img"
      ],
      "metadata": {
        "colab": {
          "base_uri": "https://localhost:8080/",
          "height": 183
        },
        "id": "R5O9LL3-NFgS",
        "outputId": "a77ad504-cc45-4f76-9910-280ab623c807"
      },
      "execution_count": 56,
      "outputs": [
        {
          "output_type": "execute_result",
          "data": {
            "image/png": "[encoded data removed]",
            "text/plain": [
              "<IPython.core.display.Image object>"
            ]
          },
          "metadata": {},
          "execution_count": 56
        }
      ]
    },
    {
      "cell_type": "markdown",
      "source": [
        "## 3D 구조를 닮은 2D 구조 생성\n",
        "- AllChem.GenerateDepictionMatching3DStructure() 함수를 사용하면 그 3D 구조의 형태를 최대한 유지하는 2D 그림을 생성할 수 있다."
      ],
      "metadata": {
        "id": "2gywUuQUQGeC"
      }
    },
    {
      "cell_type": "markdown",
      "source": [
        "# 3D 구조 생성\n",
        "수소 추가 (AddHs): 현실적인 분자 구조를 얻기 위해 가장 먼저 명시적으로 수소 원자를 추가해야 한다.\n",
        "\n",
        "3D 구조 생성 (EmbedMolecule): 분자의 3D 좌표를 생성. RDKit은 기본적으로 ETKDG 알고리즘으로 별도의 최적화 없이도 상당히 정확한 3D 구조를 생성\n",
        "\n",
        "(선택) 구조 최적화 (MMFFOptimizeMolecule): 생성된 3D 구조를 MMFF94라는 force field 이용해 에너지가 더 낮은 안정한 상태로 미세 조정(최적화) 가능. ETKDG 알고리즘의 성능이 좋아서 필수가 아니다."
      ],
      "metadata": {
        "id": "SR0eHqVfQaWm"
      }
    },
    {
      "cell_type": "code",
      "source": [
        "from rdkit import Chem\n",
        "from rdkit.Chem import AllChem\n",
        "\n",
        "m = Chem.MolFromSmiles('C1CCC1OC')\n",
        "\n",
        "m2 = Chem.AddHs(m)\n",
        "AllChem.EmbedMolecule(m2)\n",
        "AllChem.MMFFOptimizeMolecule(m2)"
      ],
      "metadata": {
        "colab": {
          "base_uri": "https://localhost:8080/"
        },
        "id": "08zl3MxoQfHD",
        "outputId": "23a34bcc-7483-4c72-93cc-a708cb226f62"
      },
      "execution_count": 57,
      "outputs": [
        {
          "output_type": "execute_result",
          "data": {
            "text/plain": [
              "0"
            ]
          },
          "metadata": {},
          "execution_count": 57
        }
      ]
    },
    {
      "cell_type": "markdown",
      "source": [
        "## 다중 3D 구조 생성 및 분석\n",
        "여러 구조 생성 (EmbedMultipleConfs): numConfs 인자를 사용해 원하는 개수만큼의 3D 구조를 생성.\n",
        "\n",
        "구조 정렬 (AlignMolConformers): 생성된 여러 구조를 비교하려면, 먼저 하나의 기준 구조에 맞춰 모두 정렬해야 한다..\n",
        "\n",
        "구조 비교 (GetConformerRMS): 정렬된 두 구조가 얼마나 다른지 RMSD(Root Mean Square Deviation) 값을 계산하여 정량적으로 비교 가능.\n",
        "\n",
        "(선택) 전체 구조 최적화 (MMFFOptimizeMoleculeConfs): 생성된 모든 3D 구조에 대해 한 번에 MMFF94 최적화를 수행.\n",
        "\n"
      ],
      "metadata": {
        "id": "2TtG3dTCSFJp"
      }
    },
    {
      "cell_type": "code",
      "source": [
        "cids = AllChem.EmbedMultipleConfs(m2,numConfs = 10)\n",
        "\n",
        "rmslist = []\n",
        "AllChem.AlignMolConformers(m2, RMSlist = rmslist)\n",
        "\n",
        "rms = AllChem.GetConformerRMS(m2, 1, 9, prealigned = True)\n",
        "\n",
        "res = AllChem.MMFFOptimizeMoleculeConfs(m2)"
      ],
      "metadata": {
        "id": "YnN_B8fHSezE"
      },
      "execution_count": 58,
      "outputs": []
    },
    {
      "cell_type": "markdown",
      "source": [
        "## 성능 향상\n",
        "numThreads 인자를 설정해 멀티스레딩으로 작업 속도를 크게 향상."
      ],
      "metadata": {
        "id": "hfV45G8hS9Fk"
      }
    },
    {
      "cell_type": "code",
      "source": [
        "cids = AllChem.EmbedMultipleConfs(m2, numConfs=10, numThreads=0)\n",
        "res = AllChem.MMFFOptimizeMoleculeConfs(m2, numThreads=0)"
      ],
      "metadata": {
        "id": "klaz0XIxSDIU"
      },
      "execution_count": 59,
      "outputs": []
    },
    {
      "cell_type": "markdown",
      "source": [
        "3D 구조 생성은 매우 복잡한 작업. RDKit의 ETKDG 방법은 대부분의 목적에 충분히 훌륭한 결과를 제공하지만, 매우 정밀한 학술 연구나 전문적인 conformational analysis를 위해서는 전용 소프트웨어의 사용이 필요할 수도 있다."
      ],
      "metadata": {
        "id": "hTzdvanGTKzr"
      }
    },
    {
      "cell_type": "markdown",
      "source": [
        "# 저장 방식\n",
        "- 분자 객체를 훨씬 빠르게 불러올 수 있는 두 가지 binary 저장 방식을 제공"
      ],
      "metadata": {
        "id": "qVCvorf3TOln"
      }
    },
    {
      "cell_type": "markdown",
      "source": [
        "## 파이썬 피클(Pickle)\n",
        "pickle.dumps(mol): 분자 객체를 피클 형식의 바이트(bytes)로 변환.\n",
        "\n",
        "pickle.loads(pkl): 피클 바이트로부터 분자 객체를 다시 복원.\n",
        "\n"
      ],
      "metadata": {
        "id": "tETKaAIjTvMz"
      }
    },
    {
      "cell_type": "code",
      "source": [
        "import pickle\n",
        "from rdkit import Chem\n",
        "\n",
        "m = Chem.MolFromSmiles('c1ccncc1')\n",
        "\n",
        "# 분자를 피클 형식으로 변환\n",
        "pkl = pickle.dumps(m)\n",
        "\n",
        "# 피클로부터 분자 복원\n",
        "m2 = pickle.loads(pkl)\n",
        "print(Chem.MolToSmiles(m2))\n",
        "# 'c1ccncc1'"
      ],
      "metadata": {
        "colab": {
          "base_uri": "https://localhost:8080/"
        },
        "id": "ZR_fWJcrT0rV",
        "outputId": "b857b7aa-997b-4138-8454-f59636b3913f"
      },
      "execution_count": 60,
      "outputs": [
        {
          "output_type": "stream",
          "name": "stdout",
          "text": [
            "c1ccncc1\n"
          ]
        }
      ]
    },
    {
      "cell_type": "markdown",
      "source": [
        "## RDKit 자체 바이너리 형식 사용\n",
        "mol.ToBinary(): 분자 객체를 RDKit의 자체 바이너리 형식으로 변환\n",
        "\n",
        "Chem.Mol(binStr): 바이너리 문자열로부터 분자 객체를 생성"
      ],
      "metadata": {
        "id": "7ms6pptOTz8t"
      }
    },
    {
      "cell_type": "code",
      "source": [
        "# 분자를 바이너리 형식으로 변환\n",
        "binStr = m.ToBinary()\n",
        "\n",
        "# 바이너리로부터 분자 복원\n",
        "m2 = Chem.Mol(binStr)\n",
        "print(Chem.MolToSmiles(m2))\n",
        "# 'c1ccncc1'"
      ],
      "metadata": {
        "colab": {
          "base_uri": "https://localhost:8080/"
        },
        "id": "lM6bjrAhT8kQ",
        "outputId": "87b89e2d-4e8a-40f1-83fe-87fffb8880e9"
      },
      "execution_count": 61,
      "outputs": [
        {
          "output_type": "stream",
          "name": "stdout",
          "text": [
            "c1ccncc1\n"
          ]
        }
      ]
    },
    {
      "cell_type": "markdown",
      "source": [
        "- 데이터셋을 반복적으로 사용하는 경우, 한 번 파싱한 후 그 결과를 pickle이나 바이너리 파일로 저장해두고 다음부터는 그 파일을 불러와 사용하는 것이 시간을 크게 절약하는 핵심적인 최적화 방법"
      ],
      "metadata": {
        "id": "4en4-zwKUef2"
      }
    },
    {
      "cell_type": "markdown",
      "source": [
        "# Drawing Molecules\n",
        "## 기본 분자 그리기\n",
        "- Draw.MolToFile(): 분자 객체 하나를 이미지 파일(.png, .svg 등)로 직접 저장\n",
        "- Draw.MolsToGridImage(): 분자 리스트를 받아 하나의 그리드 이미지(PIL Image 객체)로 반환. 이 객체는 파일로 저장할 수 있다."
      ],
      "metadata": {
        "id": "0f-uiOaQUgl9"
      }
    },
    {
      "cell_type": "code",
      "source": [
        "from rdkit import Chem\n",
        "from rdkit.Chem import AllChem, Draw\n",
        "from IPython.display import display\n",
        "\n",
        "with Chem.SDMolSupplier('data/cdk2.sdf') as suppl:\n",
        "  ms = [x for x in suppl if x is not None]\n",
        "for m in ms:\n",
        "  _ = AllChem.Compute2DCoords(m)\n",
        "\n",
        "# 단일 분자 저장\n",
        "Draw.MolToFile(ms[0], 'cdk2_mol1.png')\n",
        "\n",
        "# 여러 분자 그리드로 만들어 파일 저장\n",
        "img = Draw.MolsToGridImage(ms[:8], molsPerRow=4, subImgSize=(200, 200),\n",
        "                           legends=[x.GetProp(\"_Name\") for x in ms[:8]])\n",
        "display(img)\n",
        "# img.save('cdk2_molgrid.png')는 오류 발생"
      ],
      "metadata": {
        "colab": {
          "base_uri": "https://localhost:8080/",
          "height": 349
        },
        "id": "iEiong-sU96g",
        "outputId": "b3b6453e-b6c8-43fd-8b2b-65ac6b5845f0"
      },
      "execution_count": 62,
      "outputs": [
        {
          "output_type": "display_data",
          "data": {
            "image/png": "[encoded data removed]",
            "text/plain": [
              "<IPython.core.display.Image object>"
            ]
          },
          "metadata": {}
        }
      ]
    },
    {
      "cell_type": "code",
      "source": [
        "p = Chem.MolFromSmiles('[nH]1cnc2cncnc21')\n",
        "subms = [x for x in ms if x.HasSubstructMatch(p)]\n",
        "len(subms)\n",
        "AllChem.Compute2DCoords(p)\n",
        "for m in subms:\n",
        "  _ = AllChem.GenerateDepictionMatching2DStructure(m,p)\n",
        "img=Draw.MolsToGridImage(subms,molsPerRow=4,subImgSize=(200,200),legends=[x.GetProp(\"_Name\") for x in subms])\n",
        "display(img)"
      ],
      "metadata": {
        "colab": {
          "base_uri": "https://localhost:8080/",
          "height": 681
        },
        "id": "GBrCv9tMVxZm",
        "outputId": "3217ebe2-bc71-42d0-e8f5-e150b0793a9a"
      },
      "execution_count": 63,
      "outputs": [
        {
          "output_type": "display_data",
          "data": {
            "image/png": "[encoded data removed]",
            "text/plain": [
              "<IPython.core.display.Image object>"
            ]
          },
          "metadata": {}
        }
      ]
    },
    {
      "cell_type": "markdown",
      "source": [
        "## 구조 정렬 및 강조\n",
        "공통 구조에 맞춰 정렬: 여러 분자가 공통된 골격(template)을 가질 때, GenerateDepictionMatching2DStructure를 사용해 그리기 전에 모두 같은 방향으로 정렬할 수 있다. 이는 구조-활성 관계(SAR) 분석 등에서 가독성을 크게 높여준다.\n",
        "\n",
        "특정 구조 강조: rdkit.Chem.Draw.rdMolDraw2D 모듈을 사용하면, substructure 검색 등으로 찾은 특정 원자(atom)나 결합(bond)에 색깔을 입혀 강조할 수 있다. highlightAtoms와 highlightBonds 인자에 강조할 원자/결합의 인덱스 리스트를 전달. highlightAtomColors, highlightBondColors를 사용하면 각 부분의 색상도 직접 지정할 수 있다."
      ],
      "metadata": {
        "id": "VqCCnnZxWmVf"
      }
    },
    {
      "cell_type": "code",
      "source": [
        "from rdkit.Chem.Draw import rdMolDraw2D\n",
        "# 특정 패턴에 매치되는 원자와 결합을 찾아 하이라이트하기\n",
        "mol = Chem.MolFromSmiles('c1cc(F)ccc1Cl')\n",
        "patt = Chem.MolFromSmarts('ClccccF')\n",
        "\n",
        "hit_ats = list(mol.GetSubstructMatch(patt))\n",
        "hit_bonds = []\n",
        "for bond in patt.GetBonds():\n",
        "   aid1 = hit_ats[bond.GetBeginAtomIdx()]\n",
        "   aid2 = hit_ats[bond.GetEndAtomIdx()]\n",
        "   hit_bonds.append(mol.GetBondBetweenAtoms(aid1,aid2).GetIdx())\n",
        "\n",
        "# # SVG 또는 PNG 캔버스 생성\n",
        "d = rdMolDraw2D.MolDraw2DSVG(500, 500)\n",
        "rdMolDraw2D.PrepareAndDrawMolecule(d, mol, highlightAtoms=hit_ats,\n",
        "                                   highlightBonds=hit_bonds)\n",
        "d.FinishDrawing()"
      ],
      "metadata": {
        "id": "JdtdurAvaAX9"
      },
      "execution_count": 64,
      "outputs": []
    },
    {
      "cell_type": "code",
      "metadata": {
        "colab": {
          "base_uri": "https://localhost:8080/",
          "height": 522
        },
        "id": "4bc5f4cb",
        "outputId": "8211e881-7f92-4a7f-97a5-19dde84dd62e"
      },
      "source": [
        "from IPython.display import SVG\n",
        "\n",
        "# Get the SVG text from the drawing object and display it\n",
        "svg_text = d.GetDrawingText()\n",
        "display(SVG(svg_text))"
      ],
      "execution_count": 65,
      "outputs": [
        {
          "output_type": "display_data",
          "data": {
            "text/plain": [
              "<IPython.core.display.SVG object>"
            ],
            "image/svg+xml": "<svg xmlns=\"http://www.w3.org/2000/svg\" xmlns:rdkit=\"http://www.rdkit.org/xml\" xmlns:xlink=\"http://www.w3.org/1999/xlink\" version=\"1.1\" baseProfile=\"full\" xml:space=\"preserve\" width=\"500px\" height=\"500px\" viewBox=\"0 0 500 500\">\n<!-- END OF HEADER -->\n<rect style=\"opacity:1.0;fill:#FFFFFF;stroke:none\" width=\"500.0\" height=\"500.0\" x=\"0.0\" y=\"0.0\"> </rect>\n<path class=\"bond-2 atom-2 atom-3\" d=\"M 140.6,249.3 L 153.1,271.0 L 45.4,271.0 L 45.4,249.3 Z\" style=\"fill:#FF7F7F;fill-rule:evenodd;fill-opacity:1;stroke:#FF7F7F;stroke-width:0.0px;stroke-linecap:butt;stroke-linejoin:miter;stroke-miterlimit:10;stroke-opacity:1;\"/>\n<path class=\"bond-3 atom-2 atom-4\" d=\"M 191.4,161.4 L 203.9,183.1 L 153.1,271.0 L 140.6,249.3 Z\" style=\"fill:#FF7F7F;fill-rule:evenodd;fill-opacity:1;stroke:#FF7F7F;stroke-width:0.0px;stroke-linecap:butt;stroke-linejoin:miter;stroke-miterlimit:10;stroke-opacity:1;\"/>\n<path class=\"bond-4 atom-4 atom-5\" d=\"M 305.4,161.4 L 292.9,183.1 L 203.9,183.1 L 191.4,161.4 Z\" style=\"fill:#FF7F7F;fill-rule:evenodd;fill-opacity:1;stroke:#FF7F7F;stroke-width:0.0px;stroke-linecap:butt;stroke-linejoin:miter;stroke-miterlimit:10;stroke-opacity:1;\"/>\n<path class=\"bond-5 atom-5 atom-6\" d=\"M 305.4,161.4 L 356.1,249.3 L 343.6,271.0 L 292.9,183.1 Z\" style=\"fill:#FF7F7F;fill-rule:evenodd;fill-opacity:1;stroke:#FF7F7F;stroke-width:0.0px;stroke-linecap:butt;stroke-linejoin:miter;stroke-miterlimit:10;stroke-opacity:1;\"/>\n<path class=\"bond-6 atom-6 atom-7\" d=\"M 451.4,249.3 L 451.4,271.0 L 343.6,271.0 L 356.1,249.3 Z\" style=\"fill:#FF7F7F;fill-rule:evenodd;fill-opacity:1;stroke:#FF7F7F;stroke-width:0.0px;stroke-linecap:butt;stroke-linejoin:miter;stroke-miterlimit:10;stroke-opacity:1;\"/>\n<ellipse cx=\"146.9\" cy=\"260.1\" rx=\"20.3\" ry=\"20.3\" class=\"atom-2\" style=\"fill:#FF7F7F;fill-rule:evenodd;stroke:#FF7F7F;stroke-width:1.0px;stroke-linecap:butt;stroke-linejoin:miter;stroke-opacity:1\"/>\n<ellipse cx=\"45.4\" cy=\"260.1\" rx=\"20.3\" ry=\"20.3\" class=\"atom-3\" style=\"fill:#FF7F7F;fill-rule:evenodd;stroke:#FF7F7F;stroke-width:1.0px;stroke-linecap:butt;stroke-linejoin:miter;stroke-opacity:1\"/>\n<ellipse cx=\"197.6\" cy=\"172.2\" rx=\"20.3\" ry=\"20.3\" class=\"atom-4\" style=\"fill:#FF7F7F;fill-rule:evenodd;stroke:#FF7F7F;stroke-width:1.0px;stroke-linecap:butt;stroke-linejoin:miter;stroke-opacity:1\"/>\n<ellipse cx=\"299.1\" cy=\"172.2\" rx=\"20.3\" ry=\"20.3\" class=\"atom-5\" style=\"fill:#FF7F7F;fill-rule:evenodd;stroke:#FF7F7F;stroke-width:1.0px;stroke-linecap:butt;stroke-linejoin:miter;stroke-opacity:1\"/>\n<ellipse cx=\"349.9\" cy=\"260.1\" rx=\"20.3\" ry=\"20.3\" class=\"atom-6\" style=\"fill:#FF7F7F;fill-rule:evenodd;stroke:#FF7F7F;stroke-width:1.0px;stroke-linecap:butt;stroke-linejoin:miter;stroke-opacity:1\"/>\n<ellipse cx=\"454.6\" cy=\"260.3\" rx=\"20.3\" ry=\"21.7\" class=\"atom-7\" style=\"fill:#FF7F7F;fill-rule:evenodd;stroke:#FF7F7F;stroke-width:1.0px;stroke-linecap:butt;stroke-linejoin:miter;stroke-opacity:1\"/>\n<path class=\"bond-0 atom-0 atom-1\" d=\"M 299.1,348.0 L 197.6,348.0\" style=\"fill:none;fill-rule:evenodd;stroke:#000000;stroke-width:2.0px;stroke-linecap:butt;stroke-linejoin:miter;stroke-opacity:1\"/>\n<path class=\"bond-0 atom-0 atom-1\" d=\"M 290.3,332.8 L 206.4,332.8\" style=\"fill:none;fill-rule:evenodd;stroke:#000000;stroke-width:2.0px;stroke-linecap:butt;stroke-linejoin:miter;stroke-opacity:1\"/>\n<path class=\"bond-1 atom-1 atom-2\" d=\"M 197.6,348.0 L 146.9,260.1\" style=\"fill:none;fill-rule:evenodd;stroke:#000000;stroke-width:2.0px;stroke-linecap:butt;stroke-linejoin:miter;stroke-opacity:1\"/>\n<path class=\"bond-2 atom-2 atom-3\" d=\"M 146.9,260.1 L 57.1,260.1\" style=\"fill:none;fill-rule:evenodd;stroke:#000000;stroke-width:2.0px;stroke-linecap:butt;stroke-linejoin:miter;stroke-opacity:1\"/>\n<path class=\"bond-3 atom-2 atom-4\" d=\"M 146.9,260.1 L 197.6,172.2\" style=\"fill:none;fill-rule:evenodd;stroke:#000000;stroke-width:2.0px;stroke-linecap:butt;stroke-linejoin:miter;stroke-opacity:1\"/>\n<path class=\"bond-3 atom-2 atom-4\" d=\"M 164.4,260.1 L 206.4,187.5\" style=\"fill:none;fill-rule:evenodd;stroke:#000000;stroke-width:2.0px;stroke-linecap:butt;stroke-linejoin:miter;stroke-opacity:1\"/>\n<path class=\"bond-4 atom-4 atom-5\" d=\"M 197.6,172.2 L 299.1,172.2\" style=\"fill:none;fill-rule:evenodd;stroke:#000000;stroke-width:2.0px;stroke-linecap:butt;stroke-linejoin:miter;stroke-opacity:1\"/>\n<path class=\"bond-5 atom-5 atom-6\" d=\"M 299.1,172.2 L 349.9,260.1\" style=\"fill:none;fill-rule:evenodd;stroke:#000000;stroke-width:2.0px;stroke-linecap:butt;stroke-linejoin:miter;stroke-opacity:1\"/>\n<path class=\"bond-5 atom-5 atom-6\" d=\"M 290.3,187.5 L 332.3,260.1\" style=\"fill:none;fill-rule:evenodd;stroke:#000000;stroke-width:2.0px;stroke-linecap:butt;stroke-linejoin:miter;stroke-opacity:1\"/>\n<path class=\"bond-6 atom-6 atom-7\" d=\"M 349.9,260.1 L 437.1,260.1\" style=\"fill:none;fill-rule:evenodd;stroke:#000000;stroke-width:2.0px;stroke-linecap:butt;stroke-linejoin:miter;stroke-opacity:1\"/>\n<path class=\"bond-7 atom-6 atom-0\" d=\"M 349.9,260.1 L 299.1,348.0\" style=\"fill:none;fill-rule:evenodd;stroke:#000000;stroke-width:2.0px;stroke-linecap:butt;stroke-linejoin:miter;stroke-opacity:1\"/>\n<path d=\"M 294.0,348.0 L 299.1,348.0 L 301.6,343.7\" style=\"fill:none;stroke:#000000;stroke-width:2.0px;stroke-linecap:butt;stroke-linejoin:miter;stroke-miterlimit:10;stroke-opacity:1;\"/>\n<path d=\"M 202.7,348.0 L 197.6,348.0 L 195.1,343.7\" style=\"fill:none;stroke:#000000;stroke-width:2.0px;stroke-linecap:butt;stroke-linejoin:miter;stroke-miterlimit:10;stroke-opacity:1;\"/>\n<path d=\"M 195.1,176.6 L 197.6,172.2 L 202.7,172.2\" style=\"fill:none;stroke:#000000;stroke-width:2.0px;stroke-linecap:butt;stroke-linejoin:miter;stroke-miterlimit:10;stroke-opacity:1;\"/>\n<path d=\"M 294.0,172.2 L 299.1,172.2 L 301.6,176.6\" style=\"fill:none;stroke:#000000;stroke-width:2.0px;stroke-linecap:butt;stroke-linejoin:miter;stroke-miterlimit:10;stroke-opacity:1;\"/>\n<path class=\"atom-3\" d=\"M 36.9 246.0 L 53.8 246.0 L 53.8 249.2 L 40.7 249.2 L 40.7 257.8 L 52.3 257.8 L 52.3 261.1 L 40.7 261.1 L 40.7 274.3 L 36.9 274.3 L 36.9 246.0 \" fill=\"#000000\"/>\n<path class=\"atom-7\" d=\"M 440.4 261.1 Q 440.4 254.1, 443.7 250.4 Q 447.0 246.7, 453.3 246.7 Q 459.2 246.7, 462.3 250.8 L 459.6 253.0 Q 457.4 250.0, 453.3 250.0 Q 449.0 250.0, 446.8 252.8 Q 444.5 255.7, 444.5 261.1 Q 444.5 266.7, 446.8 269.6 Q 449.2 272.5, 453.8 272.5 Q 456.9 272.5, 460.5 270.6 L 461.6 273.6 Q 460.2 274.6, 457.9 275.1 Q 455.7 275.7, 453.2 275.7 Q 447.0 275.7, 443.7 271.9 Q 440.4 268.2, 440.4 261.1 \" fill=\"#000000\"/>\n<path class=\"atom-7\" d=\"M 465.2 245.0 L 468.8 245.0 L 468.8 275.3 L 465.2 275.3 L 465.2 245.0 \" fill=\"#000000\"/>\n</svg>"
          },
          "metadata": {}
        }
      ]
    },
    {
      "cell_type": "code",
      "source": [
        "# specify for individual atoms and bonds:\n",
        "colours = [(0.8,0.0,0.8),(0.8,0.8,0),(0,0.8,0.8),(0,0,0.8)]\n",
        "atom_cols = {}\n",
        "for i, at in enumerate(hit_ats):\n",
        "    atom_cols[at] = colours[i%4]\n",
        "bond_cols = {}\n",
        "for i, bd in enumerate(hit_bonds):\n",
        "    bond_cols[bd] = colours[3 - i%4]\n",
        "\n",
        "d = rdMolDraw2D.MolDraw2DCairo(500, 500)\n",
        "rdMolDraw2D.PrepareAndDrawMolecule(d, mol, highlightAtoms=hit_ats,\n",
        "                                   highlightAtomColors=atom_cols,\n",
        "                                   highlightBonds=hit_bonds,\n",
        "                                   highlightBondColors=bond_cols)"
      ],
      "metadata": {
        "id": "F-FTGt1QbeXz"
      },
      "execution_count": 66,
      "outputs": []
    },
    {
      "cell_type": "code",
      "source": [
        "from IPython.display import Image, SVG\n",
        "\n",
        "svg_text = d.GetDrawingText()\n",
        "display(Image(svg_text))"
      ],
      "metadata": {
        "colab": {
          "base_uri": "https://localhost:8080/",
          "height": 517
        },
        "id": "_WKFE51obhR0",
        "outputId": "5ab77223-a71f-4b86-9b34-b0ed8bddc43f"
      },
      "execution_count": 67,
      "outputs": [
        {
          "output_type": "display_data",
          "data": {
            "image/png": "[encoded data removed]",
            "text/plain": [
              "<IPython.core.display.Image object>"
            ]
          },
          "metadata": {}
        }
      ]
    },
    {
      "cell_type": "markdown",
      "source": [
        "## 주석 및 라벨 추가하기\n",
        "자동 주석: d.drawOptions()를 통해 카이랄 중심의 R/S, 이중 결합의 E/Z, 원자 번호 등을 자동으로 추가.\n",
        "\n",
        "사용자 정의 노트: 원자나 결합에 atomNote, bondNote 속성을 설정하여 간단한 텍스트 노트를 추가.\n",
        "\n",
        "사용자 정의 라벨: _displayLabel 속성을 사용하면 R-그룹 치환기처럼 원자를 원하는 텍스트 라벨로 대체 가능. 이 라벨에는 <sub>(아래 첨자), <sup>(위 첨자) 태그를 사용한 서식 지정도 가능."
      ],
      "metadata": {
        "id": "yS3_W28jbAA-"
      }
    },
    {
      "cell_type": "code",
      "source": [
        "mol = Chem.MolFromSmiles(r'Cl[C@H](F)NC\\C=C\\C')\n",
        "\n",
        "# R-그룹 라벨 설정\n",
        "mol.GetAtomWithIdx(0).SetProp(\"_displayLabel\", \"R<sub>1</sub>\")\n",
        "\n",
        "# 그리기 옵션 설정\n",
        "d = Draw.rdMolDraw2D.MolDraw2DCairo(250, 200)\n",
        "d.drawOptions().addStereoAnnotation = True # R/S, E/Z 주석 추가\n",
        "d.drawOptions().addAtomIndices = True      # 원자 번호 추가\n",
        "d.DrawMolecule(mol)\n",
        "d.FinishDrawing()\n",
        "d.WriteDrawingText('annotated_molecule.png')"
      ],
      "metadata": {
        "id": "MgzhoEL1a21E"
      },
      "execution_count": 68,
      "outputs": []
    },
    {
      "cell_type": "code",
      "source": [
        "from IPython.display import Image, SVG\n",
        "\n",
        "# Get the drawing text (PNG data from Cairo backend)\n",
        "png_data = d.GetDrawingText()\n",
        "\n",
        "# Display the PNG data using IPython.display.Image\n",
        "display(Image(png_data))"
      ],
      "metadata": {
        "colab": {
          "base_uri": "https://localhost:8080/",
          "height": 217
        },
        "id": "QhocyxOpbO1y",
        "outputId": "d2fde333-5f6b-49ca-8978-65d9a60735f4"
      },
      "execution_count": 69,
      "outputs": [
        {
          "output_type": "display_data",
          "data": {
            "image/png": "[encoded data removed]",
            "text/plain": [
              "<IPython.core.display.Image object>"
            ]
          },
          "metadata": {}
        }
      ]
    },
    {
      "cell_type": "code",
      "source": [
        "smi = 'c1nc(*)ccc1* |$;;;R1;;;;R2$|'\n",
        "mol = Chem.MolFromSmiles(smi)\n",
        "mol.GetAtomWithIdx(3).GetProp(\"atomLabel\")\n",
        "'R1'\n",
        "mol.GetAtomWithIdx(7).GetProp(\"atomLabel\")\n",
        "'R2'\n",
        "d = rdMolDraw2D.MolDraw2DCairo(250, 250)\n",
        "rdMolDraw2D.PrepareAndDrawMolecule(d,mol)\n",
        "d.WriteDrawingText(\"./images/atom_labels_1.png\")"
      ],
      "metadata": {
        "colab": {
          "base_uri": "https://localhost:8080/"
        },
        "id": "1cFdhrWvbtmN",
        "outputId": "9ad6e3f0-e137-47be-be41-0e5c92b1bb6d"
      },
      "execution_count": 70,
      "outputs": [
        {
          "output_type": "stream",
          "name": "stderr",
          "text": [
            "[10:34:17] Failed to write PNG file ./images/atom_labels_1.png\n"
          ]
        }
      ]
    },
    {
      "cell_type": "markdown",
      "source": [
        "## 원자 라벨 속성 비교\n"
      ],
      "metadata": {
        "id": "gSXeSAK1cRjH"
      }
    },
    {
      "cell_type": "markdown",
      "source": [
        "# Metadata in Molecule Images 이미지에서 분자 복원하기\n",
        "## 단일 분자 복원\n",
        "Chem.MolFromPNGString(): PNG에서 분자 객체를 복원"
      ],
      "metadata": {
        "id": "qGU-ONdenKaj"
      }
    },
    {
      "cell_type": "code",
      "source": [
        "template = Chem.MolFromSmiles('c1nccc2n1ccc2')\n",
        "AllChem.Compute2DCoords(template)"
      ],
      "metadata": {
        "colab": {
          "base_uri": "https://localhost:8080/"
        },
        "id": "1yljeeo1cE4S",
        "outputId": "c53ccd74-dc39-464f-d240-ff846d0a935e"
      },
      "execution_count": 71,
      "outputs": [
        {
          "output_type": "execute_result",
          "data": {
            "text/plain": [
              "0"
            ]
          },
          "metadata": {},
          "execution_count": 71
        }
      ]
    },
    {
      "cell_type": "code",
      "source": [
        "ms = [Chem.MolFromSmiles(smi) for smi in ('OCCc1ccn2cnccc12','C1CC1Oc1cc2ccncn2c1','CNC(=O)c1nccc2cccn12')]\n",
        "_ = [AllChem.GenerateDepictionMatching2DStructure(m,template) for m in ms]\n",
        "d = rdMolDraw2D.MolDraw2DCairo(250, 200)\n",
        "d.DrawMolecule(ms[0])\n",
        "d.FinishDrawing()"
      ],
      "metadata": {
        "id": "26-sxKjSnrJv"
      },
      "execution_count": 72,
      "outputs": []
    },
    {
      "cell_type": "code",
      "source": [
        "# png 데이터를 binary로 얻기\n",
        "png = d.GetDrawingText()"
      ],
      "metadata": {
        "id": "rw04c0mSnz01"
      },
      "execution_count": 73,
      "outputs": []
    },
    {
      "cell_type": "code",
      "source": [
        "# PNG binary로부터 분자 객체 복원\n",
        "reconstructed_mol = Chem.MolFromPNGString(png)\n",
        "Chem.MolToSmiles(reconstructed_mol)"
      ],
      "metadata": {
        "colab": {
          "base_uri": "https://localhost:8080/",
          "height": 36
        },
        "id": "xql__4XEn-lV",
        "outputId": "530c0f0f-0557-4152-f3f7-acfba18703ab"
      },
      "execution_count": 74,
      "outputs": [
        {
          "output_type": "execute_result",
          "data": {
            "text/plain": [
              "'OCCc1c2ccncn2cc1'"
            ],
            "application/vnd.google.colaboratory.intrinsic+json": {
              "type": "string"
            }
          },
          "metadata": {},
          "execution_count": 74
        }
      ]
    },
    {
      "cell_type": "markdown",
      "source": [
        "## 여러 분자 복원\n",
        "Chem.MolsFromPNGString(): MolsToGridImage로 생성된 것처럼 여러 분자가 포함된 이미지의 모든 분자 객체를 리스트로 한 번에 복원"
      ],
      "metadata": {
        "id": "BGq8y8cwoKCq"
      }
    },
    {
      "cell_type": "code",
      "source": [
        "from rdkit.Chem import Draw\n",
        "\n",
        "ms = [Chem.MolFromSmiles(s) for s in ('CCO', 'c1ccccc1')]\n",
        "\n",
        "# returnPNG=True 옵션으로 그리드 이미지의 PNG 바이너리 데이터 얻기\n",
        "png = Draw.MolsToGridImage(ms, returnPNG=True)\n",
        "\n",
        "# PNG로부터 분자 리스트 복원\n",
        "mols = Chem.MolsFromPNGString(png)\n",
        "for mol in mols:\n",
        "    print(Chem.MolToSmiles(mol))\n",
        "# 에러 이유를 모르겠다."
      ],
      "metadata": {
        "colab": {
          "base_uri": "https://localhost:8080/",
          "height": 251
        },
        "id": "J7dXbRoFoGyK",
        "outputId": "df7f32b0-a441-4362-bc48-a3394081f040"
      },
      "execution_count": 75,
      "outputs": [
        {
          "output_type": "error",
          "ename": "TypeError",
          "evalue": "No registered converter was able to produce a C++ rvalue of type std::basic_string<wchar_t, std::char_traits<wchar_t>, std::allocator<wchar_t> > from this Python object of type Image",
          "traceback": [
            "\u001b[0;31m---------------------------------------------------------------------------\u001b[0m",
            "\u001b[0;31mTypeError\u001b[0m                                 Traceback (most recent call last)",
            "\u001b[0;32m/tmp/ipython-input-75-47880906.py\u001b[0m in \u001b[0;36m<cell line: 0>\u001b[0;34m()\u001b[0m\n\u001b[1;32m      7\u001b[0m \u001b[0;34m\u001b[0m\u001b[0m\n\u001b[1;32m      8\u001b[0m \u001b[0;31m# PNG로부터 분자 리스트 복원\u001b[0m\u001b[0;34m\u001b[0m\u001b[0;34m\u001b[0m\u001b[0m\n\u001b[0;32m----> 9\u001b[0;31m \u001b[0mmols\u001b[0m \u001b[0;34m=\u001b[0m \u001b[0mChem\u001b[0m\u001b[0;34m.\u001b[0m\u001b[0mMolsFromPNGString\u001b[0m\u001b[0;34m(\u001b[0m\u001b[0mpng\u001b[0m\u001b[0;34m)\u001b[0m\u001b[0;34m\u001b[0m\u001b[0;34m\u001b[0m\u001b[0m\n\u001b[0m\u001b[1;32m     10\u001b[0m \u001b[0;32mfor\u001b[0m \u001b[0mmol\u001b[0m \u001b[0;32min\u001b[0m \u001b[0mmols\u001b[0m\u001b[0;34m:\u001b[0m\u001b[0;34m\u001b[0m\u001b[0;34m\u001b[0m\u001b[0m\n\u001b[1;32m     11\u001b[0m     \u001b[0mprint\u001b[0m\u001b[0;34m(\u001b[0m\u001b[0mChem\u001b[0m\u001b[0;34m.\u001b[0m\u001b[0mMolToSmiles\u001b[0m\u001b[0;34m(\u001b[0m\u001b[0mmol\u001b[0m\u001b[0;34m)\u001b[0m\u001b[0;34m)\u001b[0m\u001b[0;34m\u001b[0m\u001b[0;34m\u001b[0m\u001b[0m\n",
            "\u001b[0;31mTypeError\u001b[0m: No registered converter was able to produce a C++ rvalue of type std::basic_string<wchar_t, std::char_traits<wchar_t>, std::allocator<wchar_t> > from this Python object of type Image"
          ]
        }
      ]
    },
    {
      "cell_type": "markdown",
      "source": [
        "# Substructure Searching\n",
        "- 특정 분자 안에 원하는 화학적 패턴(substructure)이 존재하는지 검색하는 강력한 기능을 제공\n",
        "- 이 검색 패턴은 주로 SMARTS 언어로 정의"
      ],
      "metadata": {
        "id": "EGON3nSmpAtR"
      }
    },
    {
      "cell_type": "markdown",
      "source": [
        "##  기본 검색 방법\n",
        "mol.HasSubstructMatch(pattern): 분자(mol) 안에 pattern이 존재하는지 여부만 확인하여 True 또는 False를 반환.\n",
        "\n",
        "mol.GetSubstructMatch(pattern): 첫 번째로 발견된 match에 해당하는 원자들의 index를 tuple로 반환.\n",
        "\n",
        "mol.GetSubstructMatches(pattern): 가능한 모든 매치를 찾아 각각의 원자 index tuple들을 담은 tuple을 반환."
      ],
      "metadata": {
        "id": "0Sfp7lGYpTEk"
      }
    },
    {
      "cell_type": "code",
      "source": [
        "# 검색 대상 분자 (phenol)\n",
        "m = Chem.MolFromSmiles('c1ccccc1O')\n",
        "# 검색할 패턴 (방향족탄소-방향족탄소-산소)\n",
        "patt = Chem.MolFromSmarts('ccO')\n",
        "\n",
        "# 패턴이 존재하는가?\n",
        "print(m.HasSubstructMatch(patt))\n",
        "\n",
        "# 첫 번째 매치는? (0, 5, 6번 원자가 매치됨)\n",
        "print(m.GetSubstructMatch(patt))\n",
        "\n",
        "# 모든 매치는? (두 가지 경우가 가능)\n",
        "print(m.GetSubstructMatches(patt))"
      ],
      "metadata": {
        "colab": {
          "base_uri": "https://localhost:8080/"
        },
        "id": "uen3wyxGpfx0",
        "outputId": "16be0e60-1286-430b-9046-2bc0c9e681b7"
      },
      "execution_count": 76,
      "outputs": [
        {
          "output_type": "stream",
          "name": "stdout",
          "text": [
            "True\n",
            "(0, 5, 6)\n",
            "((0, 5, 6), (4, 5, 6))\n"
          ]
        }
      ]
    },
    {
      "cell_type": "markdown",
      "source": [
        "## 분자 리스트 필터링\n",
        "SDF 파일과 같은 분자 데이터베이스에서 원하는 부분 구조를 가진 분자들만 필터링"
      ],
      "metadata": {
        "id": "K2LqoB8Zpz6Y"
      }
    },
    {
      "cell_type": "code",
      "source": [
        "# 'c[NH1]' (지방족 탄소에 연결된 2차 아민) 패턴 정의\n",
        "patt = Chem.MolFromSmarts('c[NH1]')\n",
        "\n",
        "# SD 파일에서 패턴을 포함하는 분자만 matches 리스트에 저장\n",
        "with Chem.SDMolSupplier('data/actives_5ht3.sdf') as suppl:\n",
        "  matches = [mol for mol in suppl if mol.HasSubstructMatch(patt)]\n",
        "\n",
        "len(matches)"
      ],
      "metadata": {
        "colab": {
          "base_uri": "https://localhost:8080/"
        },
        "id": "TFszsugLpwVD",
        "outputId": "8c5d483b-ceaa-4d9d-cb6d-52e435a66e8b"
      },
      "execution_count": 77,
      "outputs": [
        {
          "output_type": "execute_result",
          "data": {
            "text/plain": [
              "22"
            ]
          },
          "metadata": {},
          "execution_count": 77
        }
      ]
    },
    {
      "cell_type": "markdown",
      "source": [
        "## SMARTS vs. SMILES 쿼리\n",
        "SMILES 쿼리: 원자의 종류와 연결성만 일치하면 match. aromatic 여부 등을 구분하지 않아 더 일반적인 검색.\n",
        "\n",
        "SMARTS 쿼리: 원자의 종류뿐만 아니라, aliphatic(지방족)/aromatic, 결합 차수 등 더 정교하고 엄격한 조건으로 검색\n",
        "\n",
        "- SMARTS를 사용하는 것이 표준적이고 권장되는 방법\n",
        "\n"
      ],
      "metadata": {
        "id": "VjZvj0MGqFC-"
      }
    },
    {
      "cell_type": "code",
      "source": [
        "m = Chem.MolFromSmiles('C1=CC=CC=C1OC') # Anisole\n",
        "\n",
        "# SMILES 쿼리: 'COC' (탄소-산소-탄소)\n",
        "# Anisole의 C(방향족)-O-C(지방족)도 매치됨\n",
        "m.HasSubstructMatch(Chem.MolFromSmiles('COC'))"
      ],
      "metadata": {
        "colab": {
          "base_uri": "https://localhost:8080/"
        },
        "id": "oru0JJVAp-V0",
        "outputId": "5aca9bb0-5dab-4bb4-cf5f-f1813cf5eb9a"
      },
      "execution_count": 78,
      "outputs": [
        {
          "output_type": "execute_result",
          "data": {
            "text/plain": [
              "True"
            ]
          },
          "metadata": {},
          "execution_count": 78
        }
      ]
    },
    {
      "cell_type": "code",
      "source": [
        "# SMARTS 쿼리: 'COC' (지방족탄소-산소-지방족탄소)\n",
        "# Anisole의 한쪽 탄소는 방향족이므로 매치되지 않음\n",
        "m.HasSubstructMatch(Chem.MolFromSmarts('COC'))"
      ],
      "metadata": {
        "colab": {
          "base_uri": "https://localhost:8080/"
        },
        "id": "o0wSc92EqTSP",
        "outputId": "6ff17611-3105-42df-8c94-372b4f9b43af"
      },
      "execution_count": 79,
      "outputs": [
        {
          "output_type": "execute_result",
          "data": {
            "text/plain": [
              "False"
            ]
          },
          "metadata": {},
          "execution_count": 79
        }
      ]
    },
    {
      "cell_type": "code",
      "source": [
        "# SMARTS 쿼리: 'COc' (지방족탄소-산소-방향족탄소)\n",
        "# Anisole 구조와 정확히 일치하므로 매치됨\n",
        "m.HasSubstructMatch(Chem.MolFromSmarts('COc'))"
      ],
      "metadata": {
        "colab": {
          "base_uri": "https://localhost:8080/"
        },
        "id": "VP_X5XQKqWER",
        "outputId": "f78f531b-1e66-4e58-dd73-aa4b4d2d2b2f"
      },
      "execution_count": 80,
      "outputs": [
        {
          "output_type": "execute_result",
          "data": {
            "text/plain": [
              "True"
            ]
          },
          "metadata": {},
          "execution_count": 80
        }
      ]
    },
    {
      "cell_type": "markdown",
      "source": [
        "## Stereochemistry in substructure matches\n",
        "기본 동작: 입체화학 무시\n",
        "- 옵션이 없으면 검색은 2D 연결성에만 초점\n",
        "\n"
      ],
      "metadata": {
        "id": "wPmmrgjwqtwu"
      }
    },
    {
      "cell_type": "code",
      "source": [
        "from rdkit import Chem\n",
        "\n",
        "# 특정 카이랄 중심을 가진 분자\n",
        "m = Chem.MolFromSmiles('CC[C@H](F)Cl')\n",
        "\n",
        "# 동일한, 반대의, 비카이랄 쿼리 모두 True를 반환\n",
        "m.HasSubstructMatch(Chem.MolFromSmiles('C[C@H](F)Cl'))  # True\n",
        "m.HasSubstructMatch(Chem.MolFromSmiles('C[C@@H](F)Cl')) # True\n",
        "m.HasSubstructMatch(Chem.MolFromSmiles('CC(F)Cl'))"
      ],
      "metadata": {
        "colab": {
          "base_uri": "https://localhost:8080/"
        },
        "id": "DhkOsy9Tqxwy",
        "outputId": "144c5850-8a3c-4b83-b9f0-522667e2aafe"
      },
      "execution_count": 81,
      "outputs": [
        {
          "output_type": "execute_result",
          "data": {
            "text/plain": [
              "True"
            ]
          },
          "metadata": {},
          "execution_count": 81
        }
      ]
    },
    {
      "cell_type": "markdown",
      "source": [
        "## useChirality=True 옵션: 입체화학 고려\n",
        "- 카이랄 중심의 입체 배열까지 정확하게 일치해야 한다."
      ],
      "metadata": {
        "id": "KWKQmXpVq8HN"
      }
    },
    {
      "cell_type": "code",
      "source": [
        "# 동일한 입체화학을 가진 쿼리는 매치됨\n",
        "m.HasSubstructMatch(Chem.MolFromSmiles('C[C@H](F)Cl'), useChirality=True)"
      ],
      "metadata": {
        "colab": {
          "base_uri": "https://localhost:8080/"
        },
        "id": "UvGCCFYhq6xd",
        "outputId": "638296d7-f363-4d80-fac0-739598e3ffc2"
      },
      "execution_count": 82,
      "outputs": [
        {
          "output_type": "execute_result",
          "data": {
            "text/plain": [
              "True"
            ]
          },
          "metadata": {},
          "execution_count": 82
        }
      ]
    },
    {
      "cell_type": "code",
      "source": [
        "# 반대의 입체화학을 가진 쿼리는 매치되지 않음\n",
        "m.HasSubstructMatch(Chem.MolFromSmiles('C[C@@H](F)Cl'), useChirality=True)"
      ],
      "metadata": {
        "colab": {
          "base_uri": "https://localhost:8080/"
        },
        "id": "7ajKIlLSrCuo",
        "outputId": "6734d013-3ff3-495c-ef29-2c01ec190e06"
      },
      "execution_count": 83,
      "outputs": [
        {
          "output_type": "execute_result",
          "data": {
            "text/plain": [
              "False"
            ]
          },
          "metadata": {},
          "execution_count": 83
        }
      ]
    },
    {
      "cell_type": "markdown",
      "source": [
        "## 비대칭 매칭 규칙\n",
        "useChirality=True 사용 시 한 가지 중요한 비대칭 규칙\n",
        "1.  비카이랄(non-chiral) 쿼리는 카이랄(chiral) 분자를 찾을 수 있다.\n",
        "- 쿼리에 입체화학 정보가 없으면, 이는 \"입체화학은 상관없다\"는 의미로 작용하여 더 구체적인 대상(카이랄 분자)과 매치될 수 있다."
      ],
      "metadata": {
        "id": "3g6CjxyjrFiY"
      }
    },
    {
      "cell_type": "code",
      "source": [
        "# 비카이랄 쿼리 'CC(F)Cl'는 카이랄 분자 m과 매치됨\n",
        "m.HasSubstructMatch(Chem.MolFromSmiles('CC(F)Cl'), useChirality=True)"
      ],
      "metadata": {
        "colab": {
          "base_uri": "https://localhost:8080/"
        },
        "id": "lW5O0vavrVZ7",
        "outputId": "765c04d5-e8ec-4724-b161-99ec8ceee313"
      },
      "execution_count": 84,
      "outputs": [
        {
          "output_type": "execute_result",
          "data": {
            "text/plain": [
              "True"
            ]
          },
          "metadata": {},
          "execution_count": 84
        }
      ]
    },
    {
      "cell_type": "markdown",
      "source": [
        "2. 카이랄(chiral) 쿼리는 비카이랄(non-chiral) 분자를 찾을 수 없다.\n",
        "- 쿼리가 특정 입체화학을 요구하는데, 대상 분자에 해당 정보가 아예 없으면 조건을 만족시킬 수 없어 매치에 실패"
      ],
      "metadata": {
        "id": "Se-RJ7OFrXrf"
      }
    },
    {
      "cell_type": "code",
      "source": [
        "# 비카이랄 분자\n",
        "m2 = Chem.MolFromSmiles('CCC(F)Cl')\n",
        "# 카이랄 쿼리는 비카이랄 분자 m2와 매치되지 않음\n",
        "m2.HasSubstructMatch(Chem.MolFromSmiles('C[C@H](F)Cl'), useChirality=True)"
      ],
      "metadata": {
        "colab": {
          "base_uri": "https://localhost:8080/"
        },
        "id": "fl00tB3zraOT",
        "outputId": "4bad4fad-d40f-469d-ddcd-0c4ff813a493"
      },
      "execution_count": 85,
      "outputs": [
        {
          "output_type": "execute_result",
          "data": {
            "text/plain": [
              "False"
            ]
          },
          "metadata": {},
          "execution_count": 85
        }
      ]
    },
    {
      "cell_type": "markdown",
      "source": [
        "## Atom Map Indices in SMARTS\n",
        "- 복잡한 검색 패턴 내의 특정 원자들을 \"태그\"하거나 \"북마크\"하는 데 사용\n",
        "- 전체 패턴이 매치되었을 때, 내가 관심 있는 특정 원자들이 어떤 것인지 쉽게 식별 가능\n",
        "\n",
        "### Atom Map Indices\n",
        "SMARTS 패턴 내에서 콜론(:)과 숫자를 사용해 원자에 번호를 붙이는 기능\n",
        "- 예를 들어, [cH0:1][c:2]에서 첫 번째 탄소는 1번, 두 번째 탄소는 2번으로 태그\n",
        "\n",
        "### 사용법 2단계 워크플로우\n",
        "GetSubstructMatches()는 패턴의 모든 우너자에 대한 matching index를 반환하므로, tag된 원자들의 index만 골라내려면 2단계가 필요하다."
      ],
      "metadata": {
        "id": "NA56Q1mDrqnR"
      }
    },
    {
      "cell_type": "markdown",
      "source": [
        "### 1단계: 패턴에서 맵핑 정보 추출하기\n",
        "부분 구조 검색을 수행하기 전, 먼저 SMARTS 패턴 자체를 분석하여 \"맵 번호\"와 \"패턴 내 원자 인덱스\" 사이의 관계를 파악"
      ],
      "metadata": {
        "id": "USSyVLtXsaoa"
      }
    },
    {
      "cell_type": "code",
      "source": [
        "# 1, 2, 3, 4번으로 태그된 원자가 포함된 SMARTS 패턴\n",
        "qmol = Chem.MolFromSmarts('[cH0:1][c:2]([cH0])!@[CX3!r:3]=[NX2!r:4]')\n",
        "\n",
        "# 맵 번호 -> 패턴 내 원자 인덱스로의 딕셔너리 생성\n",
        "ind_map = {}\n",
        "for atom in qmol.GetAtoms():\n",
        "  map_num = atom.GetAtomMapNum() # 원자의 맵 번호 가져오기\n",
        "  if map_num:\n",
        "    ind_map[map_num] = atom.GetIdx()\n",
        "\n",
        "# 맵 번호(1, 2, 3, 4) 순서대로 정렬된 원자 인덱스 리스트 생성\n",
        "# 이 리스트는 나중에 매치 결과를 필터링하는 데 사용\n",
        "map_list = [ind_map[x] for x in sorted(ind_map)]\n",
        "map_list"
      ],
      "metadata": {
        "colab": {
          "base_uri": "https://localhost:8080/"
        },
        "id": "ulTl0Z4nsdvG",
        "outputId": "d101e027-c08e-464d-a2ff-e24a250fd00f"
      },
      "execution_count": 86,
      "outputs": [
        {
          "output_type": "execute_result",
          "data": {
            "text/plain": [
              "[0, 1, 3, 4]"
            ]
          },
          "metadata": {},
          "execution_count": 86
        }
      ]
    },
    {
      "cell_type": "markdown",
      "source": [
        "### 2단계: 매치된 원자 인덱스 선택\n",
        "map_list를 사용해 실제 분자와의 매치 결과에서 우리가 태그했던 원자들의 인덱스만 순서대로 골라낼 수 있다."
      ],
      "metadata": {
        "id": "nRWLZmHKtJXH"
      }
    },
    {
      "cell_type": "code",
      "source": [
        "mol = Chem.MolFromSmiles('Cc1cccc(C)c1C(C)=NC')\n",
        "\n",
        "# GetSubstructMatches로 모든 가능한 매치를 찾음\n",
        "for match in mol.GetSubstructMatches(qmol):\n",
        "    # match 튜플에서 map_list에 해당하는 인덱스만 추출\n",
        "    # match -> (1, 2, 6, 7, 8, 10) 과 같은 전체 매치 결과\n",
        "    tagged_atoms = [match[i] for i in map_list]\n",
        "    print(tagged_atoms)\n",
        "# 태그된 원자들에 해당하는 인덱스가 출력"
      ],
      "metadata": {
        "colab": {
          "base_uri": "https://localhost:8080/"
        },
        "id": "L-9OkaXbrxOb",
        "outputId": "0b811fa4-cdad-4b18-8504-4d75ea4d1433"
      },
      "execution_count": 87,
      "outputs": [
        {
          "output_type": "stream",
          "name": "stdout",
          "text": [
            "[1, 7, 8, 10]\n"
          ]
        }
      ]
    },
    {
      "cell_type": "markdown",
      "source": [
        "## Advanced substructure matching\n",
        "### 핵심 개념: 추가 최종 검사 (Extra Final Check)\n",
        "SMARTS는 매우 강력하지만, \"이 치환기에 있는 모든 원자는 탄소여야 한다\"와 같은 동적인 규칙을 표현하기는 어렵다.\n",
        "\n",
        "SubstructMatchParameters 객체와 setExtraFinalCheck() 메서드를 사용하면, SMARTS가 찾아낸 각각의 잠재적인 매치에 대해 사용자가 직접 만든 파이썬 함수(checker)를 실행하여 매치를 최종 승인하거나 거부할 수 있다."
      ],
      "metadata": {
        "id": "FcEJiY4YueCo"
      }
    },
    {
      "cell_type": "markdown",
      "source": [
        "### 작동 방식\n",
        "RDKit이 SMARTS 패턴과 일치하는 부분 구조를 찾는다.\n",
        "\n",
        "찾은 매치 정보(분자 객체, 매치된 원자 인덱스)를 사용자 정의 검사기 함수에 전달한다.\n",
        "\n",
        "검사기 함수가 True를 반환하면 해당 매치를 최종 결과에 포함하고, False를 반환하면 버린다."
      ],
      "metadata": {
        "id": "mvgy2GSTu0FC"
      }
    },
    {
      "cell_type": "markdown",
      "source": [
        "### 사용 방법\n",
        "1. 검사기(Checker) 정의: (molecule, match_indices)를 인자로 받고, True 또는 False를 반환하는 함수나 호출 가능한 클래스를 생성\n",
        "\n",
        "2. SubstructMatchParameters 설정: Chem.SubstructMatchParameters()로 파라미터 객체를 만들고, params.setExtraFinalCheck(checker)를 통해 위에서 만든 검사기를 등록\n",
        "\n",
        "3. 검색 실행: GetSubstructMatches(pattern, params)처럼 검색 함수에 파라미터 객체를 함께 전달"
      ],
      "metadata": {
        "id": "QueyhKasu9vE"
      }
    },
    {
      "cell_type": "markdown",
      "source": [
        "### 목표\n",
        "C1CCC1* (사이클로뷰테인 고리에 무언가 붙어있는 구조) 패턴을 검색하되, *에 연결된 치환기(sidechain)가 특정 조건을 만족하는 경우만 찾아낸다.\n",
        "\n"
      ],
      "metadata": {
        "id": "0WxFP1E4vIsD"
      }
    },
    {
      "cell_type": "markdown",
      "source": [
        "### SidechainChecker 클래스: 검사기 역할\n",
        "\n",
        "초기화(__init__) 시, 검색 패턴(p)에서 queryType이라는 속성을 가진 원자(*)를 찾아 어떤 규칙('all_carbon' 또는 'alkyl')을 적용할지 기억\n",
        "\n",
        "호출(__call__) 시, SMARTS 매치가 발견될 때마다 실행됩니다. 매치된 원자들 중 *에 해당하는 원자로부터 시작하여, 연결된 치환기 전체를 탐색\n",
        "\n",
        "탐색하면서 치환기의 모든 원자가 주어진 규칙(예: '모든 원자가 탄소인가?')을 만족하는지 확인하고, 하나라도 만족하지 않으면 False를 반환하여 해당 매치를 탈락"
      ],
      "metadata": {
        "id": "HRdSW-rvvMtD"
      }
    },
    {
      "cell_type": "code",
      "source": [
        "from rdkit import Chem\n",
        "\n",
        "class SidechainChecker(object):\n",
        "  matchers = {\n",
        "    'alkyl': lambda at: not at.GetIsAromatic(),\n",
        "    'all_carbon': lambda at: at.GetAtomicNum() == 6\n",
        "  }\n",
        "\n",
        "  def __init__(self, query, pName=\"queryType\"):\n",
        "    # identify the atoms that have the properties we care about\n",
        "    self._atsToExamine = [(x.GetIdx(), x.GetProp(pName)) for x in query.GetAtoms()\n",
        "                          if x.HasProp(pName)]\n",
        "    self._pName = pName\n",
        "\n",
        "  def __call__(self, mol, vect):\n",
        "    seen = [0] * mol.GetNumAtoms()\n",
        "    for idx in vect:\n",
        "      seen[idx] = 1\n",
        "    # loop over the atoms we care about:\n",
        "    for idx, qtyp in self._atsToExamine:\n",
        "      midx = vect[idx]\n",
        "      stack = [midx]\n",
        "      atom = mol.GetAtomWithIdx(midx)\n",
        "      # now do a breadth-first search from that atom, checking\n",
        "      # all of its neighbors that aren't in the substructure\n",
        "      # query:\n",
        "      stack = [atom]\n",
        "      while stack:\n",
        "        atom = stack.pop(0)\n",
        "        if not self.matchers[qtyp](atom):\n",
        "          return False\n",
        "        seen[atom.GetIdx()] = 1\n",
        "        for nbr in atom.GetNeighbors():\n",
        "          if not seen[nbr.GetIdx()]:\n",
        "            stack.append(nbr)\n",
        "    return True"
      ],
      "metadata": {
        "id": "7I78F0_hu79v"
      },
      "execution_count": 88,
      "outputs": []
    },
    {
      "cell_type": "code",
      "source": [
        "# 기본 검색: C1CCC1* 패턴에 맞는 모든 경우를 찾습니다.\n",
        "m = Chem.MolFromSmiles('C2NCC2CC1C(CCCC)C(OCCCC)C1c2ccccc2')\n",
        "p = Chem.MolFromSmarts('C1CCC1*')\n",
        "p.GetAtomWithIdx(4).SetProp(\"queryType\", \"all_carbon\")\n",
        "m.GetSubstructMatches(p)"
      ],
      "metadata": {
        "colab": {
          "base_uri": "https://localhost:8080/"
        },
        "id": "5Luks6PnvfEF",
        "outputId": "8b384f22-764d-4731-d29e-acac510cee2a"
      },
      "execution_count": 89,
      "outputs": [
        {
          "output_type": "execute_result",
          "data": {
            "text/plain": [
              "((5, 6, 11, 17, 18), (5, 17, 11, 6, 7), (6, 5, 17, 11, 12), (6, 11, 17, 5, 4))"
            ]
          },
          "metadata": {},
          "execution_count": 89
        }
      ]
    },
    {
      "cell_type": "code",
      "source": [
        "# all_carbon 검사 적용: 연결된 치환기의 모든 원자가 탄소인 경우만 남긴다. (예: OCCCC나 c2ccccc2 치환기는 탈락)\n",
        "params = Chem.SubstructMatchParameters()\n",
        "checker = SidechainChecker(p)\n",
        "params.setExtraFinalCheck(checker)\n",
        "m.GetSubstructMatches(p,params)"
      ],
      "metadata": {
        "colab": {
          "base_uri": "https://localhost:8080/"
        },
        "id": "ZEX1I9UKvle_",
        "outputId": "462c9724-770f-4d50-fee0-6b883e44533c"
      },
      "execution_count": 90,
      "outputs": [
        {
          "output_type": "execute_result",
          "data": {
            "text/plain": [
              "((5, 6, 11, 17, 18), (5, 17, 11, 6, 7))"
            ]
          },
          "metadata": {},
          "execution_count": 90
        }
      ]
    },
    {
      "cell_type": "code",
      "source": [
        "# alkyl 검사 적용: 치환기의 모든 원자가 방향족이 아닌 경우만 남긴다. (예: CCCC나 OCCCC는 통과, c2ccccc2는 탈락)\n",
        "p.GetAtomWithIdx(4).SetProp(\"queryType\", \"alkyl\")\n",
        "checker = SidechainChecker(p)\n",
        "params.setExtraFinalCheck(checker)\n",
        "m.GetSubstructMatches(p,params)"
      ],
      "metadata": {
        "colab": {
          "base_uri": "https://localhost:8080/"
        },
        "id": "ge3Xl3ojvsGc",
        "outputId": "a8a4d82d-8e1f-4652-c579-510006e9c205"
      },
      "execution_count": 91,
      "outputs": [
        {
          "output_type": "execute_result",
          "data": {
            "text/plain": [
              "((5, 17, 11, 6, 7), (6, 5, 17, 11, 12), (6, 11, 17, 5, 4))"
            ]
          },
          "metadata": {},
          "execution_count": 91
        }
      ]
    },
    {
      "cell_type": "markdown",
      "source": [
        "# Chemical Transformations\n",
        "## 부분 구조 기반 변형\n",
        "AllChem.DeleteSubstructs(mol, patt): 분자(mol)에서 패턴(patt)과 일치하는 부분 구조를 삭제합니다.\n",
        "\n",
        "AllChem.ReplaceSubstructs(mol, patt, repl): 패턴(patt)과 일치하는 부분을 다른 분자(repl)로 교체합니다.\n",
        "\n",
        "Chem.ReplaceSidechains(mol, core): 기준이 되는 코어(core) 구조를 남기고, 나머지 곁가지(sidechain)들을 제거한 후 연결 지점을 [*]로 표시합니다.\n",
        "\n",
        "Chem.ReplaceCore(mol, core): ReplaceSidechains와 반대로, 코어(core)를 제거하고 곁가지들만 [*]와 함께 남깁니다. GetMolFrags() 함수와 함께 사용하면 각 곁가지를 개별 분자로 분리"
      ],
      "metadata": {
        "id": "Rm-A-c-xlwX3"
      }
    },
    {
      "cell_type": "code",
      "source": [
        "m = Chem.MolFromSmiles('CC(=O)O')\n",
        "patt = Chem.MolFromSmarts('C(=O)[OH]')\n",
        "rm = AllChem.DeleteSubstructs(m,patt)\n",
        "Chem.MolToSmiles(rm)"
      ],
      "metadata": {
        "colab": {
          "base_uri": "https://localhost:8080/",
          "height": 36
        },
        "id": "0O3XKM5wlu5J",
        "outputId": "97416818-6b98-45b7-a64b-0d9e44f249a4"
      },
      "execution_count": 92,
      "outputs": [
        {
          "output_type": "execute_result",
          "data": {
            "text/plain": [
              "'C'"
            ],
            "application/vnd.google.colaboratory.intrinsic+json": {
              "type": "string"
            }
          },
          "metadata": {},
          "execution_count": 92
        }
      ]
    },
    {
      "cell_type": "code",
      "source": [
        "# patt와 일치하는 부분을 다른 분자로 교체\n",
        "repl = Chem.MolFromSmiles('OC')\n",
        "patt = Chem.MolFromSmarts('[$(NC(=O))]')\n",
        "m = Chem.MolFromSmiles('CC(=O)N')\n",
        "rms = AllChem.ReplaceSubstructs(m,patt,repl)\n",
        "Chem.MolToSmiles(rms[0])"
      ],
      "metadata": {
        "colab": {
          "base_uri": "https://localhost:8080/",
          "height": 36
        },
        "id": "dHjJbe8hlu2M",
        "outputId": "9c2888ae-aa2d-4bef-b878-d21f52f0bc7c"
      },
      "execution_count": 93,
      "outputs": [
        {
          "output_type": "execute_result",
          "data": {
            "text/plain": [
              "'COC(C)=O'"
            ],
            "application/vnd.google.colaboratory.intrinsic+json": {
              "type": "string"
            }
          },
          "metadata": {},
          "execution_count": 93
        }
      ]
    },
    {
      "cell_type": "code",
      "source": [
        "# 기준이 되는 core를 남기고 나머지 sidechain제거 한 후 연결 지점 표시\n",
        "m1 = Chem.MolFromSmiles('BrCCc1cncnc1C(=O)O')\n",
        "core = Chem.MolFromSmiles('c1cncnc1')\n",
        "tmp = Chem.ReplaceSidechains(m1,core)\n",
        "Chem.MolToSmiles(tmp)"
      ],
      "metadata": {
        "colab": {
          "base_uri": "https://localhost:8080/",
          "height": 36
        },
        "id": "s5XhMcALpHZj",
        "outputId": "84743e8a-9439-4ccb-a2f2-1ff33a3bab22"
      },
      "execution_count": 94,
      "outputs": [
        {
          "output_type": "execute_result",
          "data": {
            "text/plain": [
              "'[1*]c1cncnc1[2*]'"
            ],
            "application/vnd.google.colaboratory.intrinsic+json": {
              "type": "string"
            }
          },
          "metadata": {},
          "execution_count": 94
        }
      ]
    },
    {
      "cell_type": "code",
      "source": [
        "# core를 제거하고 sidechain들만 남긴다.\n",
        "tmp = Chem.ReplaceCore(m1,core)\n",
        "Chem.MolToSmiles(tmp)\n",
        "'[1*]CCBr.[2*]C(=O)O'"
      ],
      "metadata": {
        "id": "NbfWgyRdpm24",
        "colab": {
          "base_uri": "https://localhost:8080/",
          "height": 36
        },
        "outputId": "73cb2cc6-1837-43e3-f3ef-f71a20b2f503"
      },
      "execution_count": 95,
      "outputs": [
        {
          "output_type": "execute_result",
          "data": {
            "text/plain": [
              "'[1*]CCBr.[2*]C(=O)O'"
            ],
            "application/vnd.google.colaboratory.intrinsic+json": {
              "type": "string"
            }
          },
          "metadata": {},
          "execution_count": 95
        }
      ]
    },
    {
      "cell_type": "code",
      "source": [
        "# 분리된 sidechain들을 개별 분자로 얻기\n",
        "rs = Chem.GetMolFrags(tmp, asMols=True)\n",
        "Chem.MolToSmiles(rs[0])"
      ],
      "metadata": {
        "colab": {
          "base_uri": "https://localhost:8080/",
          "height": 36
        },
        "id": "vY0Iv1jVRGm-",
        "outputId": "eed7f3b9-3e3b-40c1-e31b-261e45407258"
      },
      "execution_count": 96,
      "outputs": [
        {
          "output_type": "execute_result",
          "data": {
            "text/plain": [
              "'[1*]CCBr'"
            ],
            "application/vnd.google.colaboratory.intrinsic+json": {
              "type": "string"
            }
          },
          "metadata": {},
          "execution_count": 96
        }
      ]
    },
    {
      "cell_type": "markdown",
      "source": [
        "## Murcko Decomposition\n",
        "분자의 핵심 골격 구조를 추출하는 Murcko 분해 기능\n",
        "\n",
        "MurckoScaffold.GetScaffoldForMol(mol): 분자에서 모든 sidechain을 제거하고, ring 구조와 ring 사이를 잇는 linker만으로 구성된 Murcko Scaffold를 생성한다.\n",
        "\n",
        "MurckoScaffold.MakeScaffoldGeneric(scaffold): 추출된 scaffold를 모든 원자는 탄소로, 모든 결합은 단일 결합으로 변환하여 순수한 그래프 골격(framework)만 남긴다."
      ],
      "metadata": {
        "id": "WsW-o0qURUK0"
      }
    },
    {
      "cell_type": "code",
      "source": [
        "from rdkit.Chem.Scaffolds import MurckoScaffold\n",
        "\n",
        "m = Chem.MolFromSmiles('Cc1c(N)cccc1C(=O)O')\n",
        "\n",
        "# Murcko Scaffold 추출\n",
        "core = MurckoScaffold.GetScaffoldForMol(m)\n",
        "Chem.MolToSmiles(core)"
      ],
      "metadata": {
        "colab": {
          "base_uri": "https://localhost:8080/",
          "height": 36
        },
        "id": "C4KQAz3QRvrE",
        "outputId": "fbf76756-7973-4814-f0d7-1f4c13ea150a"
      },
      "execution_count": 97,
      "outputs": [
        {
          "output_type": "execute_result",
          "data": {
            "text/plain": [
              "'c1ccccc1'"
            ],
            "application/vnd.google.colaboratory.intrinsic+json": {
              "type": "string"
            }
          },
          "metadata": {},
          "execution_count": 97
        }
      ]
    },
    {
      "cell_type": "code",
      "source": [
        "# Generic Framework으로 변환\n",
        "fw = MurckoScaffold.MakeScaffoldGeneric(core)\n",
        "Chem.MolToSmiles(fw)"
      ],
      "metadata": {
        "colab": {
          "base_uri": "https://localhost:8080/",
          "height": 36
        },
        "id": "56VjJpW0R08-",
        "outputId": "fa83b8a9-1f29-4364-f032-9ca34343008e"
      },
      "execution_count": 98,
      "outputs": [
        {
          "output_type": "execute_result",
          "data": {
            "text/plain": [
              "'C1CCCCC1'"
            ],
            "application/vnd.google.colaboratory.intrinsic+json": {
              "type": "string"
            }
          },
          "metadata": {},
          "execution_count": 98
        }
      ]
    },
    {
      "cell_type": "markdown",
      "source": [
        "## 최대 공통 부분 구조 (MCS)\n",
        "\n",
        "Maximum Common Substructure\n",
        "두 개 이상의 분자 간에 공통적으로 존재하는 가장 큰 부분 구조를 찾는 기능\n",
        "\n",
        "FindMCS: 여러 분자 사이에서 가장 큰 **단일 연결 조각(single fragment)**의 공통 구조를 찾는다.\n",
        "\n",
        "RascalMCES: 두 분자 사이에서, 여러 조각으로 나뉘어 있더라도 전체적으로 가장 큰 공통 구조(multi-fragment)를 찾을 수 있다."
      ],
      "metadata": {
        "id": "KXVZ24svR8zS"
      }
    },
    {
      "cell_type": "markdown",
      "source": [
        "## rdFMCS.FindMCS (단일 조각 MCS 찾기)\n",
        "- 2개 이상의 분자들 사이에서 공통적으로 존재하는 가장 큰 **단일 연결 조각(single connected fragment)**을 찾습니다.\n",
        "- FindMCS 함수는 분자 리스트를 받아 MCSResult 객체를 반환하며, 이 객체는 공통 구조의 원자/결합 수, SMARTS 패턴 등의 정보를 담는다."
      ],
      "metadata": {
        "id": "LZuOMtf_0S6v"
      }
    },
    {
      "cell_type": "code",
      "source": [
        "from rdkit.Chem import rdFMCS\n",
        "\n",
        "mol1 = Chem.MolFromSmiles(\"O=C(NCc1cc(OC)c(O)cc1)CCCC/C=C/C(C)C\")\n",
        "mol2 = Chem.MolFromSmiles(\"CC(C)CCCCCC(=O)NCC1=CC(=C(C=C1)O)OC\")\n",
        "mols = [mol1, mol2]\n",
        "res = rdFMCS.FindMCS(mols)\n",
        "\n",
        "print(f\"Bonds: {res.numBonds}, SMARTS: {res.smartsString}\")"
      ],
      "metadata": {
        "id": "nta72MQFR77b",
        "colab": {
          "base_uri": "https://localhost:8080/"
        },
        "outputId": "8a84611c-47be-45d2-e520-34be0486718c"
      },
      "execution_count": 100,
      "outputs": [
        {
          "output_type": "stream",
          "name": "stdout",
          "text": [
            "Bonds: 18, SMARTS: [#6]-[#6]-[#6]-[#6]-[#6]-[#6](=[#8])-[#7]-[#6]-[#6]1:[#6]:[#6](:[#6](:[#6]:[#6]:1)-[#8])-[#8]-[#6]\n"
          ]
        }
      ]
    },
    {
      "cell_type": "markdown",
      "source": [
        "### 주요 옵션\n",
        "atomCompare, bondCompare: 원자나 결합을 비교하는 규칙을 지정합니다. (예: CompareAny - 모든 원자/결합이 일치, CompareElements - 원소만 비교)\n",
        "\n",
        "matchValences: True로 설정 시, 원자의 원자가(valence)까지 일치해야 매치됩니다.\n",
        "\n",
        "ringMatchesRingOnly: True로 설정 시, 고리(ring)에 속한 결합은 다른 고리 결합과만 매치됩니다.\n",
        "\n",
        "completeRingsOnly: True로 설정 시, 부분적으로만 일치하는 고리는 허용하지 않고, 고리 전체가 MCS에 포함되어야만 매치로 인정합니다.\n",
        "\n",
        "timeout: 지정된 시간(초)이 지나면 검색을 중단하고 그때까지 찾은 최선의 결과를 반환합니다."
      ],
      "metadata": {
        "id": "NonVUsW30nmr"
      }
    },
    {
      "cell_type": "markdown",
      "source": [
        "## rdRascalMCES.FindMCES\n",
        "- RascalMCES는 정확히 2개의 분자 사이에서, 여러 조각으로 나뉠 수 있는 **다중 조각(multi-fragment)**의 최대 공통 구조를 찾습니다.\n",
        "- 속도와 유사도 기반: RASCAL은 두 분자 간의 유사도(Johnson similarity)를 먼저 빠르게 예측하고, 이 값이 지정된 임계값(similarityThreshold)보다 낮으면 비용이 많이 드는 전체 계산을 건너뜁니다. 이 때문에 대규모 스크리닝에 더 효율적일 수 있습니다.\n",
        "- 결합(Edge) 기반: 원자(atom)가 아닌 결합(bond/edge)을 중심으로 공통 구조를 찾습니다."
      ],
      "metadata": {
        "id": "kf_PBLV-0zSn"
      }
    },
    {
      "cell_type": "code",
      "source": [
        "from rdkit.Chem import rdRascalMCES\n",
        "\n",
        "mol1 = Chem.MolFromSmiles('Oc1cccc2C(=O)C=CC(=O)c12')\n",
        "mol2 = Chem.MolFromSmiles('O1C(=O)C=Cc2cc(OC)c(O)cc12')\n",
        "\n",
        "# 기본 임계값(0.7)이 너무 높아 결과가 없음\n",
        "results = rdRascalMCES.FindMCES(mol1, mol2)\n",
        "len(results)"
      ],
      "metadata": {
        "colab": {
          "base_uri": "https://localhost:8080/"
        },
        "id": "0QyHQpYF0lGW",
        "outputId": "ec96eb3f-d35a-43e4-9968-271ede915421"
      },
      "execution_count": 102,
      "outputs": [
        {
          "output_type": "execute_result",
          "data": {
            "text/plain": [
              "0"
            ]
          },
          "metadata": {},
          "execution_count": 102
        }
      ]
    },
    {
      "cell_type": "code",
      "source": [
        "# 임계값을 낮춰서 실행\n",
        "opts = rdRascalMCES.RascalOptions()\n",
        "opts.similarityThreshold = 0.5\n",
        "results = rdRascalMCES.FindMCES(mol1, mol2, opts)\n",
        "\n",
        "print(results[0].smartsString)"
      ],
      "metadata": {
        "colab": {
          "base_uri": "https://localhost:8080/"
        },
        "id": "_YfjBOpv1Gb_",
        "outputId": "70063126-cdcf-4653-de1e-480fd39ba4b4"
      },
      "execution_count": 103,
      "outputs": [
        {
          "output_type": "stream",
          "name": "stdout",
          "text": [
            "Oc1:c:c:c:c:c:1.[#6]=O\n"
          ]
        }
      ]
    },
    {
      "cell_type": "markdown",
      "source": [
        "- similarityThreshold: 계산을 수행할지 결정하는 유사도 임계값 (기본값 0.7).\n",
        "- minFragSize: 결과에 포함될 조각의 최소 크기를 지정하여, 의미 없는 작은 조각들을 필터링"
      ],
      "metadata": {
        "id": "SHSC50qo1MSE"
      }
    },
    {
      "cell_type": "markdown",
      "source": [
        "# Fingerprinting and Molecular Similarity\n",
        "- fingerprint는 분자의 구조적 특징을 0과 1로 구성된 bit vector와 같은 숫자 형태로 변환한 것\n",
        "- 이를 통해 두 분자가 얼마나 유사한지를 빠르고 효율적으로 계산"
      ],
      "metadata": {
        "id": "YD5DnO4v1kT1"
      }
    },
    {
      "cell_type": "markdown",
      "source": [
        "## RDKit (Topological) Fingerprints\n",
        "- 분자 내 모든 원자들의 path 정보를 기반으로 생성\n",
        "1. 핑거프린트 생성기 만들기: AllChem.GetRDKitFPGenerator() 함수로 RDKit 핑거프린트 생성기를 만듭니다.\n",
        "\n",
        "2. 핑거프린트 계산: 생성기의 GetFingerprint() 메서드를 사용해 각 분자를 핑거프린트(bit vector)로 변환합니다.\n",
        "\n",
        "3. 유사도 계산: DataStructs 모듈의 함수를 사용해 두 핑거프린트 간의 유사도를 계산합니다. Tanimoto Similarity가 가장 널리 쓰이며, 0(전혀 다름)에서 1(동일함) 사이의 값을 가집니다."
      ],
      "metadata": {
        "id": "6M-cno-f1ud1"
      }
    },
    {
      "cell_type": "code",
      "source": [
        "from rdkit import Chem\n",
        "from rdkit.Chem import AllChem, DataStructs\n",
        "\n",
        "ms = [Chem.MolFromSmiles('CCOC'), Chem.MolFromSmiles('CCO'), Chem.MolFromSmiles('COC')]\n",
        "\n",
        "# 1. 생성기 만들기\n",
        "fpgen = AllChem.GetRDKitFPGenerator()\n",
        "\n",
        "# 2. 핑거프린트 계산\n",
        "fps = [fpgen.GetFingerprint(x) for x in ms]\n",
        "\n",
        "# 3. 유사도 계산 (Tanimoto)\n",
        "sim = DataStructs.TanimotoSimilarity(fps[0], fps[1])\n",
        "print(f\"Tanimoto 유사도: {sim:.2f}\")"
      ],
      "metadata": {
        "colab": {
          "base_uri": "https://localhost:8080/"
        },
        "id": "dfuXRiv21I6Y",
        "outputId": "67fa756c-d72a-4276-8dd6-2e679695e69f"
      },
      "execution_count": 104,
      "outputs": [
        {
          "output_type": "stream",
          "name": "stdout",
          "text": [
            "Tanimoto 유사도: 0.60\n"
          ]
        }
      ]
    },
    {
      "cell_type": "markdown",
      "source": [
        "- Tanimoto 외에도 Dice, Cosine, Sokal 등 다양한 유사도 측정 지표를 사용 가능"
      ],
      "metadata": {
        "id": "iw4Tzg_O18oW"
      }
    },
    {
      "cell_type": "markdown",
      "source": [
        "### Fingerprint parameter control\n",
        "GetRDKitFPGenerator()를 호출할 때 인자로 전달\n",
        "\n",
        "기본 파라미터:\n",
        "\n",
        "- minPath: 1\n",
        "- maxPath: 7 (최대 경로 길이)\n",
        "- fpSize: 2048 (핑거프린트 크기)"
      ],
      "metadata": {
        "id": "HUwBYNXW2C79"
      }
    },
    {
      "cell_type": "code",
      "source": [
        "# 최대 경로 길이를 2로, 핑거프린트 크기를 1024로 변경\n",
        "fpgen_custom = AllChem.GetRDKitFPGenerator(maxPath=2, fpSize=1024)\n",
        "fps_custom = [fpgen_custom.GetFingerprint(x) for x in ms]\n",
        "\n",
        "# 파라미터가 달라졌으므로 유사도 값도 변함\n",
        "sim_custom = DataStructs.TanimotoSimilarity(fps_custom[0], fps_custom[2])\n",
        "print(f\"변경된 파라미터에서의 유사도: {sim_custom:.2f}\")"
      ],
      "metadata": {
        "colab": {
          "base_uri": "https://localhost:8080/"
        },
        "id": "9jHNOF7E19xi",
        "outputId": "e63ecd24-14d7-4087-f51e-a98692bb1fd8"
      },
      "execution_count": 105,
      "outputs": [
        {
          "output_type": "stream",
          "name": "stdout",
          "text": [
            "변경된 파라미터에서의 유사도: 0.50\n"
          ]
        }
      ]
    },
    {
      "cell_type": "markdown",
      "source": [
        "# Atom Pairs and Topological Torsions\n",
        "- RDKit은 분자 내 원자 쌍(atom pairs)이나 토션(torsion) 정보를 기반으로 하는 핑거프린트 생성 기능도 제공\n",
        "## Atom-Pair Fingerprints\n",
        "- 아톰-페어 핑거프린트는 분자 내 모든 원자 쌍에 대한 정보를 인코딩\n",
        "- 각 쌍은 원자의 종류, 주변 원자 수, 그리고 두 원자 사이의 결합 거리(bond distance)로 정의"
      ],
      "metadata": {
        "id": "ksWOttEB2t6g"
      }
    },
    {
      "cell_type": "markdown",
      "source": [
        "1. Sparse Count Vector(희소 개수 벡터)\n",
        "\n",
        "atom-pair 종류가 매우 많아서, 기본적으로 존재하는 페어의 종류와 개수만 저장하는 sparse 형식 생성"
      ],
      "metadata": {
        "id": "p7oOfQzT3SSW"
      }
    },
    {
      "cell_type": "code",
      "source": [
        "from rdkit import Chem\n",
        "from rdkit.Chem import AllChem\n",
        "\n",
        "ms = [Chem.MolFromSmiles(smi) for smi in ('C1CCC1OCC', 'CC(C)OCC', 'CCOCC')]\n",
        "\n",
        "# 아톰-페어 생성기\n",
        "fpgen = AllChem.GetAtomPairGenerator()\n",
        "# 희소 개수 핑거프린트 생성\n",
        "pairFps = [fpgen.GetSparseCountFingerprint(x) for x in ms]"
      ],
      "metadata": {
        "id": "_Ws2FHfD2XJK"
      },
      "execution_count": 106,
      "outputs": []
    },
    {
      "cell_type": "markdown",
      "source": [
        "2. 높은 가독성\n",
        "\n",
        "다른 핑거프린트와 달리, 특정 비트(bit)가 어떤 아톰-페어를 의미하는지 직접 확인 가능"
      ],
      "metadata": {
        "id": "8V2-H87b3jPf"
      }
    },
    {
      "cell_type": "code",
      "source": [
        "from rdkit.Chem.AtomPairs import Pairs\n",
        "# 558115번 비트에 대한 설명\n",
        "Pairs.ExplainPairScore(558115)\n",
        "# -> 이웃 1개, 파이전자 0개인 탄소(C)가 3개 결합만큼 떨어진, 이웃 2개, 파이전자 0개인 탄소(C) 쌍"
      ],
      "metadata": {
        "colab": {
          "base_uri": "https://localhost:8080/"
        },
        "id": "MXhHC8nx3hcd",
        "outputId": "228d29a8-1552-4023-85f2-ad0250bcc3bf"
      },
      "execution_count": 107,
      "outputs": [
        {
          "output_type": "execute_result",
          "data": {
            "text/plain": [
              "(('C', 1, 0), 3, ('C', 2, 0))"
            ]
          },
          "metadata": {},
          "execution_count": 107
        }
      ]
    },
    {
      "cell_type": "markdown",
      "source": [
        "3. 유사도 측정\n",
        "\n",
        "atom-pair fingerprint 간의 유사도는 주로 Dice Similarity 사용"
      ],
      "metadata": {
        "id": "b6RfcNDL3tgQ"
      }
    },
    {
      "cell_type": "code",
      "source": [
        "from rdkit import DataStructs\n",
        "DataStructs.DiceSimilarity(pairFps[0], pairFps[1])"
      ],
      "metadata": {
        "colab": {
          "base_uri": "https://localhost:8080/"
        },
        "id": "WfVvgqf13r4H",
        "outputId": "59aba88a-8850-4001-cad0-5359d4225e5c"
      },
      "execution_count": 108,
      "outputs": [
        {
          "output_type": "execute_result",
          "data": {
            "text/plain": [
              "0.3333333333333333"
            ]
          },
          "metadata": {},
          "execution_count": 108
        }
      ]
    },
    {
      "cell_type": "markdown",
      "source": [
        "4. 비트 벡터 형식:\n",
        "\n",
        "fpgen.GetFingerprint(x)를 사용하면 일반적인 고정 길이 비트 벡터 형식으로도 얻을 수 있습니다."
      ],
      "metadata": {
        "id": "VEXcYxWL3-bm"
      }
    },
    {
      "cell_type": "markdown",
      "source": [
        "## Topological Torsion Fingerprints\n",
        "분자 내에 연속적으로 연결된 네 개의 원자 경로(torsion) 정보를 기반으로 생성\n"
      ],
      "metadata": {
        "id": "GA8r0_7n4AJg"
      }
    },
    {
      "cell_type": "markdown",
      "source": [
        "사용법\n",
        "\n",
        "- AllChem.GetTopologicalTorsionGenerator()로 생성기를 만듭니다.\n",
        "- 기본적으로 희소 개수 벡터(GetSparseCountFingerprint)로 생성됩니다.\n",
        "- 유사도 측정에는 주로 DiceSimilarity가 사용됩니다.\n",
        "\n"
      ],
      "metadata": {
        "id": "qVE_dnt74GdJ"
      }
    },
    {
      "cell_type": "code",
      "source": [
        "# 토션 핑거프린트 생성기\n",
        "fpgen = AllChem.GetTopologicalTorsionGenerator()\n",
        "tts = [fpgen.GetSparseCountFingerprint(x) for x in ms]\n",
        "\n",
        "# 유사도 계산\n",
        "DataStructs.DiceSimilarity(tts[0], tts[1])"
      ],
      "metadata": {
        "colab": {
          "base_uri": "https://localhost:8080/"
        },
        "id": "9-GdoQwY4L9e",
        "outputId": "92c8d2ae-2d97-4099-856a-0f99a22221a9"
      },
      "execution_count": 109,
      "outputs": [
        {
          "output_type": "execute_result",
          "data": {
            "text/plain": [
              "0.16666666666666666"
            ]
          },
          "metadata": {},
          "execution_count": 109
        }
      ]
    },
    {
      "cell_type": "markdown",
      "source": [
        "# Morgan Fingerprints (Circular Fingerprints)\n",
        "circular fingerprints 또는 ECFP/FCFP type fingerprint로 더 잘 알려져 있으며, RDKit에서 가장 널리 사용되는 핑거프린트 중 하나\n",
        "\n",
        "## 핵심 개념: 원자 환경 🌀\n",
        "Morgan 핑거프린트는 각 원자를 중심으로, 지정된 반지름(radius) 내에 포함되는 원자들의 \"환경\"을 식별하여 생성. 예를 들어 radius=2는 각 원자로부터 2개 결합만큼 떨어진 곳까지의 모든 원자와 결합 정보를 포함하여 하나의 feature로 만듭니다.\n",
        "\n",
        "참고: ECFP4 와 같은 핑거프린트에서 숫자 '4'는 직경(diameter)을 의미합니다. 따라서 RDKit Morgan 핑거프린트에서 radius=2로 설정하는 것이 ECFP4와 거의 동일한 환경 크기를 의미.\n",
        "\n",
        "## 기본 사용법\n",
        "1. 생성기 만들기: AllChem.GetMorganGenerator(radius=N)로 원하는 반지름의 생성기를 만듭니다.\n",
        "\n",
        "2. 핑거프린트 계산: 다른 핑거프린트와 마찬가지로 희소 개수 벡터(GetSparseCountFingerprint)나 일반 비트 벡터(GetFingerprint) 형식으로 생성할 수 있습니다."
      ],
      "metadata": {
        "id": "5AJSGx9M4qjS"
      }
    },
    {
      "cell_type": "code",
      "source": [
        "from rdkit import Chem\n",
        "from rdkit.Chem import AllChem, DataStructs\n",
        "\n",
        "m1 = Chem.MolFromSmiles('Cc1ccccc1')\n",
        "m2 = Chem.MolFromSmiles('Cc1ncccc1')\n",
        "\n",
        "# 1. 반지름 2의 Morgan 핑거프린트 생성기 만들기\n",
        "fpgen = AllChem.GetMorganGenerator(radius=2)\n",
        "\n",
        "# 2. 비트 벡터 핑거프린트 생성\n",
        "fp1 = fpgen.GetFingerprint(m1)\n",
        "fp2 = fpgen.GetFingerprint(m2)\n",
        "\n",
        "# 3. 유사도 계산\n",
        "DataStructs.DiceSimilarity(fp1, fp2)"
      ],
      "metadata": {
        "colab": {
          "base_uri": "https://localhost:8080/"
        },
        "id": "bJVcwvNe4SAw",
        "outputId": "87a08c74-bd18-46d9-bba3-d3c011e056d5"
      },
      "execution_count": 110,
      "outputs": [
        {
          "output_type": "execute_result",
          "data": {
            "text/plain": [
              "0.5185185185185185"
            ]
          },
          "metadata": {},
          "execution_count": 110
        }
      ]
    },
    {
      "cell_type": "markdown",
      "source": [
        "## 원자 불변량(Atom Invariants): ECFP vs. FCFP 스타일\n",
        "\n",
        "Morgan 핑거프린트의 가장 큰 특징은 **원자 불변량(atom invariant)**을 어떻게 정의하느냐에 따라 핑거프린트의 \"스타일\"이 달라진다는 점입니다. 원자 불변량은 각 원자를 처음에 어떻게 인식할지에 대한 규칙입니다.\n",
        "\n",
        "기본 (ECFP 스타일): 기본 설정은 원자의 종류, 결합 수 등 연결성 정보를 사용합니다. 이는 ECFP(Extended-Connectivity Fingerprints) 계열과 유사하며, 일반적인 구조적 유사성을 비교하는 데 적합합니다.\n",
        "\n",
        "특징 기반 (FCFP 스타일): AllChem.GetMorganFeatureAtomInvGen()를 사용하면, 원자를 수소결합 주개/받개, 방향족 등 **약리적 특징(pharmacophoric features)**으로 인식합니다. 이는 FCFP(Feature-Class Fingerprints) 계열과 유사하며, 약물 후보물질 스크리닝처럼 기능적 유사성이 중요할 때 유용합니다."
      ],
      "metadata": {
        "id": "Np6UFiU-5GTU"
      }
    },
    {
      "cell_type": "code",
      "source": [
        "# 피리딘(pyridine)과 푸란(furan)\n",
        "m1 = Chem.MolFromSmiles('c1ccccn1')\n",
        "m2 = Chem.MolFromSmiles('c1ccco1')\n",
        "\n",
        "# 기본(ECFP 스타일) 핑거프린트의 유사도\n",
        "fpgen = AllChem.GetMorganGenerator(radius=2)\n",
        "fp1 = fpgen.GetFingerprint(m1); fp2 = fpgen.GetFingerprint(m2)\n",
        "DataStructs.DiceSimilarity(fp1, fp2)"
      ],
      "metadata": {
        "colab": {
          "base_uri": "https://localhost:8080/"
        },
        "id": "-VkwNvM35DNh",
        "outputId": "f10ac0a1-9ab2-4747-daf0-7396c952c43a"
      },
      "execution_count": 111,
      "outputs": [
        {
          "output_type": "execute_result",
          "data": {
            "text/plain": [
              "0.23529411764705882"
            ]
          },
          "metadata": {},
          "execution_count": 111
        }
      ]
    },
    {
      "cell_type": "code",
      "source": [
        "# 특징(FCFP 스타일) 핑거프린트의 유사도\n",
        "invgen = AllChem.GetMorganFeatureAtomInvGen()\n",
        "ffpgen = AllChem.GetMorganGenerator(radius=2, atomInvariantsGenerator=invgen)\n",
        "ffp1 = ffpgen.GetFingerprint(m1); ffp2 = ffpgen.GetFingerprint(m2)\n",
        "DataStructs.DiceSimilarity(ffp1, ffp2)\n",
        "# (둘 다 수소결합 받개 특징이 있어 유사도 높게 나옴)"
      ],
      "metadata": {
        "colab": {
          "base_uri": "https://localhost:8080/"
        },
        "id": "ihd8bW0A5OL2",
        "outputId": "f3b6f17f-45e5-4ca8-f207-e87c9f38b070"
      },
      "execution_count": 112,
      "outputs": [
        {
          "output_type": "execute_result",
          "data": {
            "text/plain": [
              "0.9411764705882353"
            ]
          },
          "metadata": {},
          "execution_count": 112
        }
      ]
    },
    {
      "cell_type": "markdown",
      "source": [
        "## 사용자 정의 핑거프린트 🎨\n",
        "원자 불변량을 직접 제공하여 핑거프린트를 세밀하게 제어할 수도 있습니다.\n",
        "\n",
        "customAtomInvariants: GetFingerprint() 호출 시 이 인자에 숫자 리스트를 제공하면, 각 원자를 해당 숫자로 인식하여 핑거프린트를 생성합니다. 예를 들어 모든 원자에 1을 부여하면, 원소의 종류를 무시하고 순수하게 분자의 **위상(topology)**만을 비교하게 됩니다.\n",
        "\n",
        "useBondTypes=False: 생성기에 이 옵션을 주면 단일, 이중, 방향족 등 결합의 종류를 무시하고 핑거프린트를 생성합니다."
      ],
      "metadata": {
        "id": "I2okpSTA5TCK"
      }
    },
    {
      "cell_type": "code",
      "source": [
        "m1 = Chem.MolFromSmiles('Cc1ccccc1')\n",
        "m3 = Chem.MolFromSmiles('CC1CCCCC1') # m1과 위상은 같지만, 결합 종류가 다름\n",
        "\n",
        "# 원자 종류와 결합 종류를 모두 무시하고 순수 위상만 비교\n",
        "fpgen = AllChem.GetMorganGenerator(radius=2, useBondTypes=False)\n",
        "fp1 = fpgen.GetFingerprint(m1, customAtomInvariants=[1]*m1.GetNumAtoms())\n",
        "fp3 = fpgen.GetFingerprint(m3, customAtomInvariants=[1]*m3.GetNumAtoms())\n",
        "\n",
        "# 두 핑거프린트가 완전히 동일함\n",
        "fp1 == fp3"
      ],
      "metadata": {
        "colab": {
          "base_uri": "https://localhost:8080/"
        },
        "id": "LE3ozMHP5RR9",
        "outputId": "1087d665-dd96-4554-cb9e-78a2c45e7c6b"
      },
      "execution_count": 113,
      "outputs": [
        {
          "output_type": "execute_result",
          "data": {
            "text/plain": [
              "True"
            ]
          },
          "metadata": {},
          "execution_count": 113
        }
      ]
    },
    {
      "cell_type": "markdown",
      "source": [
        "# MACCS Keys\n",
        "166개의 공개된 화학적 특징을 나타내는 SMARTS 패턴 기반 fingerprint\n",
        "\n",
        "각 비트(bit)는 \"분자 내에 3개 이상의 산소 원자가 있는가?\" 와 같은 특정 화학적 특징의 유무를 나타냅니다."
      ],
      "metadata": {
        "id": "uuERGBeK5nlR"
      }
    },
    {
      "cell_type": "markdown",
      "source": [
        "## 사용법\n",
        "MACCS 키는 다른 핑거프린트와 달리 FingerprintGenerator를 사용하지 않고, rdkit.Chem.MACCSkeys 모듈의 GenMACCSKeys() 함수를 직접 호출하여 생성"
      ],
      "metadata": {
        "id": "49NTFHE35yf_"
      }
    },
    {
      "cell_type": "code",
      "source": [
        "from rdkit import Chem\n",
        "from rdkit.Chem import MACCSkeys, DataStructs\n",
        "\n",
        "ms = [Chem.MolFromSmiles('CCOC'), Chem.MolFromSmiles('CCO'), Chem.MolFromSmiles('COC')]\n",
        "\n",
        "# 1. GenMACCSKeys 함수로 핑거프린트 생성\n",
        "fps = [MACCSkeys.GenMACCSKeys(x) for x in ms]\n",
        "\n",
        "# 2. 유사도 계산\n",
        "sim = DataStructs.TanimotoSimilarity(fps[0], fps[1])\n",
        "print(f\"Tanimoto 유사도: {sim:.2f}\")"
      ],
      "metadata": {
        "colab": {
          "base_uri": "https://localhost:8080/"
        },
        "id": "WBsDZgl05VWW",
        "outputId": "cc094bee-095f-4389-e857-6e16b55e09eb"
      },
      "execution_count": 114,
      "outputs": [
        {
          "output_type": "stream",
          "name": "stdout",
          "text": [
            "Tanimoto 유사도: 0.50\n"
          ]
        }
      ]
    },
    {
      "cell_type": "markdown",
      "source": [
        "# Explaining bits from fingerprints\n",
        "fingerprint는 특정 bit가 분자의 어떤 부분 구조에 의해 생성되었는지 추적하고 해석하는 매우 유용하다. RDKit은  AdditionalOutput 객체를 사용하여 이 정보를 얻는 방법을 제공\n",
        "\n",
        "코딩 파트너\n",
        "\n",
        "생각하는 과정 표시\n",
        "핑거프린트에서 특정 비트(bit)가 분자의 어떤 부분 구조에 의해 생성되었는지 추적하고 해석하는 것은 매우 유용합니다. RDKit은 AdditionalOutput 객체를 사용하여 이 정보를 얻는 방법을 제공합니다.\n",
        "\n",
        "## 일반적인 워크플로우\n",
        "어떤 종류의 핑거프린트든 비트 정보를 얻는 과정은 대체로 동일합니다.\n",
        "\n",
        "1. AdditionalOutput 객체 생성: ao = AllChem.AdditionalOutput()\n",
        "\n",
        "2. 수집할 정보 설정: 핑거프린트 종류에 맞는 정보 수집 함수를 호출합니다.\n",
        "\n",
        "- Morgan: ao.CollectBitInfoMap()\n",
        "- RDKit Topological: ao.CollectBitPaths()\n",
        "\n",
        "3. 핑거프린트 생성 시 전달: Get...Fingerprint 함수에 additionalOutput=ao 인자를 추가합니다.\n",
        "\n",
        "4. 결과 확인: ao 객체에서 GetBitInfoMap() 또는 GetBitPaths()를 호출하여 결과를 얻습니다.\n",
        "\n",
        "## Morgan 핑거프린트 비트 설명하기 🗺️\n",
        "Morgan 핑거프린트는 어떤 원자 환경이 비트를 생성했는지에 대한 정보를 제공합니다.\n",
        "\n",
        "정보의 형태:\n",
        "\n",
        "GetBitInfoMap()은 딕셔너리를 반환합니다. 각 키는 비트 ID이며, 값은 (중심 원자 인덱스, 반지름) 튜플의 리스트입니다.\n",
        "\n",
        "해석 방법:\n",
        "\n",
        "GetBitInfoMap()으로 특정 비트를 생성한 (원자 인덱스, 반지름)을 찾습니다.\n",
        "\n",
        "Chem.FindAtomEnvironmentOfRadiusN() 함수로 해당 원자 환경에 포함된 결합들을 찾습니다.\n",
        "\n",
        "Chem.MolFragmentToSmiles() 등을 사용해 이 환경을 사람이 읽을 수 있는 SMILES 문자열로 변환합니다. rootedAtAtom 옵션을 사용하면 중심 원자부터 SMILES를 생성하여 더 이해하기 쉽습니다."
      ],
      "metadata": {
        "id": "DL4iojF359h8"
      }
    },
    {
      "cell_type": "code",
      "source": [
        "from rdkit import Chem\n",
        "from rdkit.Chem import AllChem\n",
        "\n",
        "m = Chem.MolFromSmiles('c1cccnc1C')\n",
        "fpgen = AllChem.GetMorganGenerator(radius=2)\n",
        "ao = AllChem.AdditionalOutput()\n",
        "ao.CollectBitInfoMap() # 1. 정보 수집 설정\n",
        "fp = fpgen.GetSparseCountFingerprint(m, additionalOutput=ao) # 2. 생성 시 전달\n",
        "\n",
        "info = ao.GetBitInfoMap() # 3. 결과 확인\n",
        "bit_id = 4048591891\n",
        "center_atom, radius = info[bit_id][0] # (5, 2)\n",
        "\n",
        "# 4. 해당 환경을 SMILES로 변환하여 '설명'\n",
        "env = Chem.FindAtomEnvironmentOfRadiusN(m, radius, center_atom)\n",
        "atoms = set()\n",
        "for bidx in env:\n",
        "    atoms.add(m.GetBondWithIdx(bidx).GetBeginAtomIdx())\n",
        "    atoms.add(m.GetBondWithIdx(bidx).GetEndAtomIdx())\n",
        "\n",
        "Chem.MolFragmentToSmiles(m, atomsToUse=list(atoms), bondsToUse=env, rootedAtAtom=center_atom)"
      ],
      "metadata": {
        "colab": {
          "base_uri": "https://localhost:8080/",
          "height": 36
        },
        "id": "C1Xrr8_h6sDh",
        "outputId": "3c5eb03c-b2a9-4a3a-9237-b810d664a9c7"
      },
      "execution_count": 115,
      "outputs": [
        {
          "output_type": "execute_result",
          "data": {
            "text/plain": [
              "'c(C)(cc)nc'"
            ],
            "application/vnd.google.colaboratory.intrinsic+json": {
              "type": "string"
            }
          },
          "metadata": {},
          "execution_count": 115
        }
      ]
    },
    {
      "cell_type": "markdown",
      "source": [
        "## RDKit 핑거프린트 비트 설명하기\n",
        "RDKit의 토폴로지컬 핑거프린트는 어떤 **결합 경로(bond path)**가 비트를 생성했는지에 대한 정보를 제공합니다.\n",
        "\n",
        "정보의 형태: GetBitPaths()는 딕셔너리를 반환합니다. 각 키는 비트 ID이며, 값은 결합 인덱스로 이루어진 경로 튜플들의 튜플입니다.\n",
        "\n",
        "해석 방법:\n",
        "\n",
        "GetBitPaths()로 특정 비트를 생성한 결합 경로를 찾습니다.\n",
        "\n",
        "이 결합 경로를 구성하는 원자들과 결합들을 Chem.MolFragmentToSmiles()로 전달하여 SMILES로 변환합니다."
      ],
      "metadata": {
        "id": "yo8vOO5X8iwZ"
      }
    },
    {
      "cell_type": "code",
      "source": [
        "m = Chem.MolFromSmiles('CCO')\n",
        "fpgen = AllChem.GetRDKitFPGenerator(numBitsPerFeature=1) # 각 경로가 하나의 비트만 생성하도록 설정\n",
        "ao = AllChem.AdditionalOutput()\n",
        "ao.CollectBitPaths()\n",
        "fp = fpgen.GetSparseCountFingerprint(m, additionalOutput=ao)\n",
        "\n",
        "paths = ao.GetBitPaths()\n",
        "bit_id = 1524090560\n",
        "bond_path = paths[bit_id][0] # (0, 1)\n",
        "\n",
        "atoms = set()\n",
        "for bidx in bond_path:\n",
        "    atoms.add(m.GetBondWithIdx(bidx).GetBeginAtomIdx())\n",
        "    atoms.add(m.GetBondWithIdx(bidx).GetEndAtomIdx())\n",
        "\n",
        "Chem.MolFragmentToSmiles(m, atomsToUse=list(atoms), bondsToUse=bond_path)\n",
        "# (이 경우 분자 전체 경로)"
      ],
      "metadata": {
        "colab": {
          "base_uri": "https://localhost:8080/",
          "height": 36
        },
        "id": "qgMbY6Ob7BhV",
        "outputId": "8751281a-dba4-4613-a801-1f3b30373420"
      },
      "execution_count": 116,
      "outputs": [
        {
          "output_type": "execute_result",
          "data": {
            "text/plain": [
              "'CCO'"
            ],
            "application/vnd.google.colaboratory.intrinsic+json": {
              "type": "string"
            }
          },
          "metadata": {},
          "execution_count": 116
        }
      ]
    },
    {
      "cell_type": "markdown",
      "source": [
        "# Generating images of fingerprint bits\n",
        "핑거프린트의 특정 비트가 분자의 어떤 부분 구조(환경)에 의해 생성되었는지 직접 이미지로 그려볼 수 있습니다.\n",
        "\n",
        "Draw.DrawMorganBit(mol, bitId, bitInfo): Morgan 핑거프린트의 특정 비트에 해당하는 원자 환경을 그립니다.\n",
        "\n",
        "Draw.DrawRDKitBit(mol, bitId, bitInfo): RDKit 토폴로지컬 핑거프린트의 특정 비트에 해당하는 결합 경로를 그립니다.\n",
        "\n",
        "이 함수들을 사용하려면, 먼저 AdditionalOutput 객체를 이용해 핑거프린트를 생성할 때 비트 정보(bitInfo)를 함께 수집해야 합니다."
      ],
      "metadata": {
        "id": "4ApI4Cl4989D"
      }
    },
    {
      "cell_type": "code",
      "source": [
        "from rdkit import Chem\n",
        "from rdkit.Chem import AllChem, Draw\n",
        "\n",
        "mol = Chem.MolFromSmiles('c1ccccc1CC1CC1')\n",
        "\n",
        "# Morgan 핑거프린트 비트 그리기\n",
        "fpgen = AllChem.GetMorganGenerator(radius=2)\n",
        "ao = AllChem.AdditionalOutput()\n",
        "ao.CollectBitInfoMap()\n",
        "fp = fpgen.GetFingerprint(mol, additionalOutput=ao)\n",
        "bi = ao.GetBitInfoMap()\n",
        "\n",
        "# 872번 비트에 해당하는 환경을 그림\n",
        "img_morgan = Draw.DrawMorganBit(mol, 872, bi)\n",
        "img_morgan\n",
        "# 파란색은 환경의 중심 원자를, 노란색은 방향족 원자를 나타냅니다."
      ],
      "metadata": {
        "colab": {
          "base_uri": "https://localhost:8080/",
          "height": 167
        },
        "id": "iEj49xSc8s7b",
        "outputId": "ee7d78ad-c6ae-451a-bbcc-1e9ed7d6f26e"
      },
      "execution_count": 118,
      "outputs": [
        {
          "output_type": "execute_result",
          "data": {
            "text/plain": [
              "<PIL.PngImagePlugin.PngImageFile image mode=RGB size=150x150>"
            ],
            "image/png": "[encoded data removed]",
            "image/jpeg": "[encoded data removed]"
          },
          "metadata": {},
          "execution_count": 118
        }
      ]
    },
    {
      "cell_type": "markdown",
      "source": [
        "## Picking Diverse Molecules Using Fingerprints\n",
        "큰 분자 집합에서 구조적으로 서로 다른, 즉 **다양성(diversity)**이 높은 분자들만 일부 선택하고 싶을 때 rdkit.SimDivFilters 모듈을 사용합니다. 가장 효율적인 방법은 MaxMin 알고리즘입니다.\n",
        "\n",
        "1. 핑거프린트 생성: 선택할 분자 전체에 대해 핑거프린트(주로 Morgan 비트 벡터)를 계산합니다.\n",
        "\n",
        "3. Picker 생성: MaxMinPicker()로 선택 도구를 만듭니다.\n",
        "\n",
        "3. 다양한 분자 선택: picker.LazyBitVectorPick()에 핑거프린트 리스트와 선택할 개수를 전달하여, 다양성이 높은 분자들의 인덱스를 얻습니다."
      ],
      "metadata": {
        "id": "CO9sBo7H-KNN"
      }
    },
    {
      "cell_type": "code",
      "source": [
        "from rdkit import Chem\n",
        "from rdkit.Chem import rdFingerprintGenerator\n",
        "fpgen = rdFingerprintGenerator.GetMorganGenerator(radius=3)\n",
        "from rdkit import DataStructs\n",
        "from rdkit.SimDivFilters.rdSimDivPickers import MaxMinPicker\n",
        "with Chem.SDMolSupplier('data/actives_5ht3.sdf') as suppl:\n",
        "  ms = [x for x in suppl if x is not None]\n",
        "fps = [fpgen.GetFingerprint(x) for x in ms]\n",
        "# ms: 분자 리스트, fps: 핑거프린트 리스트\n",
        "nfps = len(fps)\n",
        "\n",
        "# MaxMin 알고리즘으로 10개의 다양한 분자 인덱스 선택\n",
        "picker = MaxMinPicker()\n",
        "pickIndices = picker.LazyBitVectorPick(fps, nfps, 3, seed=23)\n",
        "\n",
        "# 인덱스를 사용해 실제 분자 리스트 만들기\n",
        "picks = [ms[x] for x in pickIndices]\n",
        "picks"
      ],
      "metadata": {
        "colab": {
          "base_uri": "https://localhost:8080/"
        },
        "id": "PThcHsr2-Eoy",
        "outputId": "69ce39a5-6486-43ea-f38b-d91025215104"
      },
      "execution_count": 122,
      "outputs": [
        {
          "output_type": "execute_result",
          "data": {
            "text/plain": [
              "[<rdkit.Chem.rdchem.Mol at 0x79fe2692e500>,\n",
              " <rdkit.Chem.rdchem.Mol at 0x79fe2692f840>,\n",
              " <rdkit.Chem.rdchem.Mol at 0x79fe2692f760>]"
            ]
          },
          "metadata": {},
          "execution_count": 122
        }
      ]
    },
    {
      "cell_type": "code",
      "source": [
        "# 비트 벡터가 아닌 핑거프린트의 경우, LazyPick 함수와 직접 정의한 거리 계산 함수를 사용하여 동일한 작업을 수행할 수 있습니다.\n",
        "fps = [fpgen.GetSparseCountFingerprint(x) for x in ms]\n",
        "def distij(i,j,fps=fps):\n",
        "  return 1-DataStructs.DiceSimilarity(fps[i],fps[j])\n",
        "picker = MaxMinPicker()\n",
        "pickIndices = picker.LazyPick(distij,nfps,10,seed=23)\n",
        "list(pickIndices)"
      ],
      "metadata": {
        "colab": {
          "base_uri": "https://localhost:8080/"
        },
        "id": "0EiMcR8B-l-M",
        "outputId": "d83d2bce-fac0-4541-93d6-b11fdce8b490"
      },
      "execution_count": 123,
      "outputs": [
        {
          "output_type": "execute_result",
          "data": {
            "text/plain": [
              "[93, 109, 154, 6, 95, 135, 151, 61, 137, 139]"
            ]
          },
          "metadata": {},
          "execution_count": 123
        }
      ]
    },
    {
      "cell_type": "markdown",
      "source": [
        "# 유사도 맵 생성하기 (Similarity Maps)\n",
        "유사도 맵은 두 분자 간의 유사도에 각 원자가 얼마나 기여했는지를 색상으로 시각화하는 방법입니다.\n",
        "\n",
        "rdkit.Chem.Draw.SimilarityMaps 모듈의 GetSimilarityMapForFingerprint() 함수를 사용합니다.\n",
        "\n",
        "1. 분자 준비: 비교할 분자(mol)와 기준 분자(refmol)를 준비합니다.\n",
        "\n",
        "2. 맵 생성: GetSimilarityMapForFingerprint 함수에 두 분자, 사용할 핑거프린트 생성 함수(예: SimilarityMaps.GetMorganFingerprint), 그리고 RDKit 도면 객체를 전달합니다."
      ],
      "metadata": {
        "id": "JcgcqLWA-yEg"
      }
    },
    {
      "cell_type": "code",
      "source": [
        "from rdkit import Chem\n",
        "mol = Chem.MolFromSmiles('COc1cccc2cc(C(=O)NCCCCN3CCN(c4cccc5nccnc54)CC3)oc21')\n",
        "refmol = Chem.MolFromSmiles('CCCN(CCCCN1CCN(c2ccccc2OC)CC1)Cc1ccc2ccccc2c1')\n",
        "\n",
        "from rdkit.Chem import Draw\n",
        "from rdkit.Chem.Draw import SimilarityMaps\n",
        "fp = SimilarityMaps.GetAPFingerprint(mol, fpType='normal')\n",
        "fp = SimilarityMaps.GetTTFingerprint(mol, fpType='normal')\n",
        "fp = SimilarityMaps.GetMorganFingerprint(mol, fpType='bv')\n"
      ],
      "metadata": {
        "colab": {
          "base_uri": "https://localhost:8080/"
        },
        "id": "4FmujtKB-nsY",
        "outputId": "fdd99052-8ff5-4611-cdd8-1aac119972df"
      },
      "execution_count": 126,
      "outputs": [
        {
          "output_type": "stream",
          "name": "stderr",
          "text": [
            "[11:54:43] DEPRECATION WARNING: please use AtomPairGenerator\n",
            "[11:54:43] DEPRECATION WARNING: please use TopologicalTorsionGenerator\n",
            "[11:54:43] DEPRECATION WARNING: please use MorganGenerator\n"
          ]
        }
      ]
    },
    {
      "cell_type": "code",
      "source": [
        "d2d = Draw.MolDraw2DCairo(400, 400)\n",
        "_, maxweight = SimilarityMaps.GetSimilarityMapForFingerprint(refmol, mol, SimilarityMaps.GetMorganFingerprint, d2d)"
      ],
      "metadata": {
        "colab": {
          "base_uri": "https://localhost:8080/"
        },
        "id": "FH4kvFSd_HNn",
        "outputId": "90b1d733-991d-492f-d0a4-b0517988fc0c"
      },
      "execution_count": 127,
      "outputs": [
        {
          "output_type": "stream",
          "name": "stderr",
          "text": [
            "[11:54:52] DEPRECATION WARNING: please use MorganGenerator\n",
            "[11:54:52] DEPRECATION WARNING: please use MorganGenerator\n"
          ]
        }
      ]
    },
    {
      "cell_type": "code",
      "source": [
        "from rdkit import DataStructs\n",
        "_, maxweight = SimilarityMaps.GetSimilarityMapForFingerprint(refmol, mol, lambda m,idx: SimilarityMaps.GetMorganFingerprint(m, atomId=idx, radius=1, fpType='count'), d2d, metric=DataStructs.TanimotoSimilarity)"
      ],
      "metadata": {
        "colab": {
          "base_uri": "https://localhost:8080/"
        },
        "id": "uBO-hNzf_L5E",
        "outputId": "a7a01093-64a3-41ee-cc27-29f5f5be76ce"
      },
      "execution_count": 128,
      "outputs": [
        {
          "output_type": "stream",
          "name": "stderr",
          "text": [
            "[11:55:05] DEPRECATION WARNING: please use MorganGenerator\n",
            "[11:55:05] DEPRECATION WARNING: please use MorganGenerator\n"
          ]
        }
      ]
    },
    {
      "cell_type": "code",
      "source": [
        "weights = SimilarityMaps.GetAtomicWeightsForFingerprint(refmol, mol, SimilarityMaps.GetMorganFingerprint)\n",
        "print([\"%.2f \" % w for w in weights])"
      ],
      "metadata": {
        "colab": {
          "base_uri": "https://localhost:8080/"
        },
        "id": "faar-xZt_TTj",
        "outputId": "11e4a278-e7ec-4416-e098-2cd052100880"
      },
      "execution_count": 129,
      "outputs": [
        {
          "output_type": "stream",
          "name": "stdout",
          "text": [
            "['0.05 ', '0.07 ', '0.05 ', '0.08 ', '0.05 ', '0.06 ', '0.03 ', '0.04 ', '-0.01 ', '-0.04 ', '-0.03 ', '-0.05 ', '0.01 ', '0.03 ', '0.07 ', '0.10 ', '0.12 ', '0.11 ', '0.09 ', '0.10 ', '0.09 ', '0.06 ', '0.03 ', '0.02 ', '-0.01 ', '-0.05 ', '0.00 ', '0.00 ', '-0.03 ', '0.02 ', '0.09 ', '0.11 ', '-0.04 ', '0.04 ']\n"
          ]
        },
        {
          "output_type": "stream",
          "name": "stderr",
          "text": [
            "[11:55:35] DEPRECATION WARNING: please use MorganGenerator\n",
            "[11:55:35] DEPRECATION WARNING: please use MorganGenerator\n"
          ]
        }
      ]
    },
    {
      "cell_type": "code",
      "source": [
        "from rdkit.Chem.Draw import SimilarityMaps\n",
        "from rdkit.Chem.Draw import rdMolDraw2D\n",
        "from IPython.display import Image, display\n",
        "\n",
        "# Assuming mol, weights, and d2d are already defined from previous cells\n",
        "\n",
        "_ = SimilarityMaps.GetSimilarityMapFromWeights(mol, weights, d2d)\n",
        "\n",
        "# Get the drawing text (PNG data from Cairo backend)\n",
        "png_data = d2d.GetDrawingText()\n",
        "\n",
        "# Display the PNG data using IPython.display.Image\n",
        "display(Image(png_data))"
      ],
      "metadata": {
        "colab": {
          "base_uri": "https://localhost:8080/",
          "height": 417
        },
        "id": "RCdtTxqS_T5S",
        "outputId": "6d151c29-4556-45e8-c1cf-7330bf58eb86"
      },
      "execution_count": 132,
      "outputs": [
        {
          "output_type": "display_data",
          "data": {
            "image/png": "[encoded data removed]",
            "text/plain": [
              "<IPython.core.display.Image object>"
            ]
          },
          "metadata": {}
        }
      ]
    },
    {
      "cell_type": "markdown",
      "source": [
        "# Descriptor Calculation\n",
        "RDKit은 분자의 물리화학적 특성을 나타내는 200개 이상의 디스크립터를 계산할 수 있습니다.\n",
        "## 디스크립터 계산\n",
        "rdkit.Chem.Descriptors 모듈을 통해 개별 디스크립터를 계산하거나, CalcMolDescriptors 함수로 모든 디스크립터를 한 번에 계산할 수 있습니다.\n",
        "\n"
      ],
      "metadata": {
        "id": "fg55vVpbAIum"
      }
    },
    {
      "cell_type": "code",
      "source": [
        "from rdkit import Chem\n",
        "from rdkit.Chem import Descriptors\n",
        "import pandas\n",
        "\n",
        "m = Chem.MolFromSmiles('c1ccccc1C(=O)O')\n",
        "\n",
        "# 개별 디스크립터 계산\n",
        "print(f\"TPSA: {Descriptors.TPSA(m)}\")\n",
        "print(f\"MolLogP: {Descriptors.MolLogP(m)}\")\n",
        "\n",
        "# 모든 디스크립터를 한 번에 계산하여 pandas DataFrame으로 만들기\n",
        "mols = [Chem.MolFromSmiles(smi) for smi in ('CCO', 'c1ccccc1C(=O)O')]\n",
        "descrs = [Descriptors.CalcMolDescriptors(mol) for mol in mols]\n",
        "df = pandas.DataFrame(descrs)"
      ],
      "metadata": {
        "colab": {
          "base_uri": "https://localhost:8080/"
        },
        "id": "sv8ia1lpAFSX",
        "outputId": "32caf1d6-d0bd-4a35-d5b2-a10b8e4f58f2"
      },
      "execution_count": 133,
      "outputs": [
        {
          "output_type": "stream",
          "name": "stdout",
          "text": [
            "TPSA: 37.3\n",
            "MolLogP: 1.3848\n"
          ]
        }
      ]
    },
    {
      "cell_type": "markdown",
      "source": [
        "Gasteiger 부분 전하와 같은 일부 속성은 AllChem.ComputeGasteigerCharges(mol) 함수를 통해 계산되며, 각 원자에 속성으로 저장됩니다."
      ],
      "metadata": {
        "id": "VcR0ydjtAPBt"
      }
    },
    {
      "cell_type": "markdown",
      "source": [
        "## 디스크립터 시각화\n",
        "유사도 맵(Similarity Maps)을 이용하면, 각 원자가 전체 디스크립터 값에 얼마나 기여하는지를 시각적으로 표현할 수 있습니다. 이는 Gasteiger 전하, LogP 기여도(Crippen contributions) 등 원자별로 분해 가능한 디스크립터에 유용합니다."
      ],
      "metadata": {
        "id": "NgJ4ZH-pAQ_g"
      }
    },
    {
      "cell_type": "code",
      "source": [
        "from rdkit.Chem import Draw\n",
        "from rdkit.Chem.Draw import SimilarityMaps\n",
        "mol = Chem.MolFromSmiles('COc1cccc2cc(C(=O)NCCCCN3CCN(c4cccc5nccnc54)CC3)oc21')\n",
        "AllChem.ComputeGasteigerCharges(mol)\n",
        "contribs = [mol.GetAtomWithIdx(i).GetDoubleProp('_GasteigerCharge') for i in range(mol.GetNumAtoms())]\n",
        "d2d = Draw.MolDraw2DCairo(400, 400)\n",
        "_ = SimilarityMaps.GetSimilarityMapFromWeights(mol, contribs, d2d, colorMap='jet', contourLines=10)"
      ],
      "metadata": {
        "id": "ObjEd--sANPx"
      },
      "execution_count": 137,
      "outputs": []
    },
    {
      "cell_type": "code",
      "source": [
        "# Or for the Crippen contributions to logP:\n",
        "from rdkit.Chem import rdMolDescriptors\n",
        "contribs = rdMolDescriptors._CalcCrippenContribs(mol)\n",
        "_ = SimilarityMaps.GetSimilarityMapFromWeights(mol,[x for x,y in contribs], d2d, colorMap='jet', contourLines=10)"
      ],
      "metadata": {
        "id": "LRSE_Tb5Akvo"
      },
      "execution_count": null,
      "outputs": []
    },
    {
      "cell_type": "markdown",
      "source": [
        "## Chemical Reactions\n",
        "RDKit은 SMARTS나 MDL rxn 파일 형식으로 정의된 화학 반응을 분자에 적용하여 생성물을 예측할 수 있습니다.\n",
        "\n",
        "## 반응 정의 및 실행\n",
        "AllChem.ReactionFromSmarts(reaction_smarts): [reactant:1]>>[product:1] 형식의 SMARTS로 반응을 정의합니다. 콜론(:)으로 표시된 아톰 맵핑은 원자가 반응 전후에 어떻게 이동하고 변하는지를 지정하는 핵심 요소입니다.\n",
        "\n",
        "rxn.RunReactants((reactant1, reactant2, ...)): 정의된 반응(rxn)에 반응물 튜플을 적용하여 생성물 튜플을 얻습니다. 하나의 반응이 여러 가능한 경로를 가질 수 있으므로, 결과는 생성물 튜플들의 튜플 ((prod1,), (prod2,), ...) 형태로 반환됩니다.\n",
        "\n",
        "## 생성물 처리\n",
        "고유 생성물 얻기: 여러 매핑으로 인해 동일한 생성물이 중복 생성될 수 있습니다. canonical SMILES를 딕셔너리의 키로 사용하면 고유한 생성물만 쉽게 필터링할 수 있습니다.\n",
        "\n",
        "Sanitization: 반응으로 생성된 분자는 원자가나 방향족성 등이 올바르지 않을 수 있습니다. 따라서 추가 분석 전에 반드시 Chem.SanitizeMol(mol) 함수로 \"정리\"해주어야 합니다."
      ],
      "metadata": {
        "id": "t7EFjp6MAtwa"
      }
    },
    {
      "cell_type": "code",
      "source": [
        "# 아마이드 결합 형성 반응 정의\n",
        "rxn = AllChem.ReactionFromSmarts('[C:1](=[O:2])-[OD1].[N!H0:3]>>[C:1](=[O:2])[N:3]')\n",
        "reactants = (Chem.MolFromSmiles('CC(=O)O'), Chem.MolFromSmiles('NC'))\n",
        "\n",
        "# 반응 실행\n",
        "ps = rxn.RunReactants(reactants)\n",
        "product_smi = Chem.MolToSmiles(ps[0][0])\n",
        "product_smi"
      ],
      "metadata": {
        "colab": {
          "base_uri": "https://localhost:8080/",
          "height": 36
        },
        "id": "o6XNnMd5A01P",
        "outputId": "e03a2b94-088e-4c18-aea0-d228da63d9ce"
      },
      "execution_count": 141,
      "outputs": [
        {
          "output_type": "execute_result",
          "data": {
            "text/plain": [
              "'CNC(C)=O'"
            ],
            "application/vnd.google.colaboratory.intrinsic+json": {
              "type": "string"
            }
          },
          "metadata": {},
          "execution_count": 141
        }
      ]
    },
    {
      "cell_type": "markdown",
      "source": [
        "## Drawing Chemical Reactions\n",
        "MolDraw2D를 사용해 화학 반응을 시각적으로 표현할 수 있습니다.\n",
        "\n",
        "d2d.DrawReaction(rxn): 반응식을 아톰 맵 번호와 함께 그립니다.\n",
        "\n",
        "d2d.DrawReaction(rxn, highlightByReactant=True): 생성물의 원자들이 어떤 반응물로부터 유래했는지 다른 색으로 강조하여 표시해 줍니다.\n",
        "\n",
        "PNG 메타데이터: 분자 그림과 마찬가지로, 반응을 그린 PNG 이미지에도 메타데이터가 포함되어 AllChem.ReactionFromPNGString() 함수로 반응 객체를 다시 복원할 수 있습니다."
      ],
      "metadata": {
        "id": "bMz-XPe2Atmv"
      }
    },
    {
      "cell_type": "markdown",
      "source": [
        "## Protecting Atoms\n",
        "때로는 반응 조건(SMARTS)이 너무 일반적이어서 원하지 않는 원자까지 반응에 참여하는 경우가 있습니다. _protected 속성을 사용하면 특정 원자가 반응에 참여하지 않도록 \"보호\"할 수 있습니다.\n",
        "\n",
        "1. 보호하고 싶은 원자를 부분 구조 검색 등으로 찾습니다.\n",
        "\n",
        "2. 해당 원자에 atom.SetProp('_protected', '1') 코드로 속성을 설정합니다.\n",
        "\n",
        "3. RunReactants를 실행하면, RDKit은 _protected 속성이 설정된 원자를 포함하는 매치를 자동으로 무시합니다."
      ],
      "metadata": {
        "id": "quxktKOBBVTm"
      }
    },
    {
      "cell_type": "code",
      "source": [
        "rxn = AllChem.ReactionFromRxnFile('data/AmideBond.rxn')\n",
        "acid = Chem.MolFromSmiles('CC(=O)O')\n",
        "base = Chem.MolFromSmiles('CC(=O)NCCN')\n",
        "ps = rxn.RunReactants((acid,base))\n",
        "len(ps)\n",
        "Chem.MolToSmiles(ps[0][0])\n",
        "Chem.MolToSmiles(ps[1][0])"
      ],
      "metadata": {
        "colab": {
          "base_uri": "https://localhost:8080/",
          "height": 36
        },
        "id": "WM9wKai6BYpb",
        "outputId": "dc02ed93-98db-4af3-e836-095a02ca08ab"
      },
      "execution_count": 143,
      "outputs": [
        {
          "output_type": "execute_result",
          "data": {
            "text/plain": [
              "'CC(=O)NCCNC(C)=O'"
            ],
            "application/vnd.google.colaboratory.intrinsic+json": {
              "type": "string"
            }
          },
          "metadata": {},
          "execution_count": 143
        }
      ]
    },
    {
      "cell_type": "code",
      "source": [
        "# 아마이드 질소(N)를 보호하기 위한 패턴\n",
        "amidep = Chem.MolFromSmarts('[N;$(NC=[O,S])]')\n",
        "# 아마이드 질소를 찾아 '_protected' 속성 설정\n",
        "for match in base.GetSubstructMatches(amidep):\n",
        "    base.GetAtomWithIdx(match[0]).SetProp('_protected','1')"
      ],
      "metadata": {
        "id": "GzU8BeAPBlqw"
      },
      "execution_count": 144,
      "outputs": []
    },
    {
      "cell_type": "code",
      "source": [
        "# 이제 반응을 실행하면 보호된 아마이드 질소 대신 아민 질소만 반응함\n",
        "ps = rxn.RunReactants((acid,base))\n",
        "len(ps)\n",
        "# (원치 않는 부반응이 일어나지 않음)"
      ],
      "metadata": {
        "colab": {
          "base_uri": "https://localhost:8080/"
        },
        "id": "7H67i3ZuBmBd",
        "outputId": "678ce67e-d955-4c67-af7f-71f828481a85"
      },
      "execution_count": 146,
      "outputs": [
        {
          "output_type": "execute_result",
          "data": {
            "text/plain": [
              "1"
            ]
          },
          "metadata": {},
          "execution_count": 146
        }
      ]
    },
    {
      "cell_type": "code",
      "source": [
        "Chem.MolToSmiles(ps[0][0])"
      ],
      "metadata": {
        "colab": {
          "base_uri": "https://localhost:8080/",
          "height": 36
        },
        "id": "jmbCdzUCBvph",
        "outputId": "ca78b9e8-a3d4-4ca5-da14-912db91717a7"
      },
      "execution_count": 147,
      "outputs": [
        {
          "output_type": "execute_result",
          "data": {
            "text/plain": [
              "'CC(=O)NCCNC(C)=O'"
            ],
            "application/vnd.google.colaboratory.intrinsic+json": {
              "type": "string"
            }
          },
          "metadata": {},
          "execution_count": 147
        }
      ]
    },
    {
      "cell_type": "markdown",
      "source": [
        "## 분자 분해 알고리즘\n",
        "분자를 합성적으로 의미 있는 작은 조각으로 분해하는 두 가지 주요 알고리즘\n",
        "\n",
        "### Recap (계층적 분해)\n",
        "Recap은 일반적인 실험실 반응을 모방한 규칙에 따라 분자를 분해하고, 그 분해 과정을 계층(hierarchy) 구조로 기록합니다.\n",
        "\n",
        "- Recap.RecapDecompose(mol)는 RecapHierarchyNode라는 트리 구조의 객체를 반환합니다.\n",
        "\n",
        "- 이 객체의 children 속성을 통해 한 단계 아래의 조각들을, GetLeaves() 메서드를 통해 최종적으로 남은 가장 작은 조각들을 확인할 수 있습니다.\n",
        "\n",
        "###  BRICS (규칙 기반 분해 및 재조합)\n",
        "BRICS는 합성적으로 절단 가능한 결합을 기준으로 분자를 분해하는 또 다른 알고리즘입니다.\n",
        "\n",
        "- BRICS.BRICSDecompose(mol): 분자를 분해하여 고유한 조각들의 SMILES를 set 형태로 반환합니다. 이때 생성되는 더미 원자(*)에는 어떤 규칙으로 절단되었는지를 나타내는 태그가 붙습니다.\n",
        "\n",
        "- BRICS.BRICSBuild(fragments): BRICSDecompose로 얻은 조각들을 다시 조합하여 새로운 분자들을 생성하는 **생성기(generator)**를 반환합니다. 이 기능은 조합 라이브러리(combinatorial library)를 만드는 데 유용합니다."
      ],
      "metadata": {
        "id": "utLEn0yAB0bA"
      }
    },
    {
      "cell_type": "markdown",
      "source": [
        "## 사용자 지정 분자 분해 ✂️\n",
        "Chem.FragmentOnBonds 함수를 사용하면 사용자가 직접 지정한 특정 결합들을 절단하여 분자를 분해할 수 있습니다.\n",
        "\n",
        "1. 결합 찾기: 부분 구조 검색 등 원하는 방법으로 절단할 결합들의 인덱스 리스트를 만듭니다. (예: [!R][R] SMARTS는 고리 원자와 비고리 원자 사이의 결합을 찾습니다.)\n",
        "\n",
        "2. 분자 분해: Chem.FragmentOnBonds(mol, bond_indices) 함수에 분자와 결합 인덱스 리스트를 전달합니다.\n",
        "\n",
        "3. 결과: 새로운 분자 객체가 반환됩니다. dummyLabels 인자를 사용하면 이 더미 원자에 원하는 라벨을 붙여 절단 지점을 구분할 수 있습니다."
      ],
      "metadata": {
        "id": "fYM5QleEB_Qx"
      }
    },
    {
      "cell_type": "code",
      "source": [
        "m = Chem.MolFromSmiles('CC1CC(O)C1CCC1CC1')\n",
        "\n",
        "# 고리와 비고리 사이의 결합 찾기\n",
        "bis = m.GetSubstructMatches(Chem.MolFromSmarts('[!R][R]'))\n",
        "bs = [m.GetBondBetweenAtoms(x,y).GetIdx() for x,y in bis]\n",
        "\n",
        "# 지정된 결합들을 절단\n",
        "nm = Chem.FragmentOnBonds(m, bs)\n",
        "Chem.MolToSmiles(nm, True)"
      ],
      "metadata": {
        "colab": {
          "base_uri": "https://localhost:8080/",
          "height": 36
        },
        "id": "Stw4U5SWCGkv",
        "outputId": "3461ea55-5b9e-44ed-d31e-15ce9f097e8f"
      },
      "execution_count": 149,
      "outputs": [
        {
          "output_type": "execute_result",
          "data": {
            "text/plain": [
              "'*C1CC([4*])C1[6*].[1*]C.[3*]O.[5*]CC[8*].[7*]C1CC1'"
            ],
            "application/vnd.google.colaboratory.intrinsic+json": {
              "type": "string"
            }
          },
          "metadata": {},
          "execution_count": 149
        }
      ]
    },
    {
      "cell_type": "markdown",
      "source": [
        "## 화학적 특징과 파마코포어 ✨\n",
        "화학적 특징 찾기\n",
        "RDKit은 SMARTS 기반의 규칙 파일(.fdef)을 사용하여 분자 내의 수소결합 주개/받개, 방향족 고리 등과 같은 **화학적 특징(chemical features)**을 찾을 수 있습니다.\n",
        "\n",
        "ChemicalFeatures.BuildFeatureFactory(fdef_파일_경로)로 특징 생성 공장(factory)을 만듭니다.\n",
        "\n",
        "factory.GetFeaturesForMol(mol)를 호출하여 분자 내 모든 특징을 찾습니다.\n",
        "\n",
        "찾아낸 각 특징(feature)은 자신의 종류(GetFamily), 세부 타입(GetType), 그리고 해당하는 원자들의 인덱스(GetAtomIds) 정보를 가집니다.\n",
        "\n",
        "2D 파마코포어 핑거프린트\n",
        "이는 분자 내 화학적 특징들의 종류와 그 사이의 거리를 조합하여 만드는 핑거프린트입니다.\n",
        "\n",
        "ChemicalFeatures.BuildFeatureFactory로 특징 생성기(feature factory)를 먼저 만듭니다.\n",
        "\n",
        "SigFactory (Signature Factory)를 생성하여, 핑거프린트에 사용할 특징의 조합(최소/최대 개수)과 특징 간의 거리 구간(bin)을 정의합니다.\n",
        "\n",
        "Generate.Gen2DFingerprint(mol, sigFactory)를 호출하여 최종 핑거프린트를 생성합니다.\n",
        "\n",
        "이 핑거프린트의 각 비트는 sigFactory.GetBitDescription()를 통해 어떤 특징들의 조합으로 이루어져 있는지 쉽게 해석할 수 있습니다.\n",
        "\n",
        "## 분자 조각 (Molecular Fragments) 🧩\n",
        "분자를 작은 조각들의 계층 구조로 분해하고, 이를 기반으로 핑거프린트를 생성하는 기능입니다.\n",
        "\n",
        "카탈로그 생성: FragmentCatalog.FragCatalog를 사용하여 분해된 조각들을 담을 카탈로그를 만듭니다. FragCatGenerator의 AddFragsFromMol 메서드로 여러 분자를 분해하여 카탈로그에 추가합니다.\n",
        "\n",
        "핑거프린트 생성: FragmentCatalog.FragFPGenerator를 사용해, 위에서 만든 카탈로그를 기준으로 분자를 조각 기반 핑거프린트로 변환합니다.\n",
        "\n",
        "활용: 생성된 핑거프린트는 두 분자 간의 공통 조각을 찾거나(비트 AND 연산), 활성/비활성 화합물을 구분하는 주요 조각을 통계적으로 분석하는(예: InfoBitRanker) 등 다양하게 활용될 수 있습니다.\n",
        "\n",
        "## R-그룹 분해 (R-Group Decomposition) 🧬\n",
        "R-그룹 분해는 일련의 분자들을 공통된 코어(core) 구조와 다양한 **곁가지(R-group)**로 체계적으로 분해하는 강력한 기능입니다. 이는 구조-활성 관계(SAR) 분석에 핵심적입니다.\n",
        "\n",
        "코어 정의: 분석할 분자들의 공통 코어를 SMARTS로 정의합니다. 이때 곁가지가 붙는 위치를 [*:1], [*:2] 와 같이 아톰 맵으로 라벨링합니다.\n",
        "\n",
        "분해 실행: rdRGroupDecomposition.RGroupDecompose([core], mol_list) 함수를 호출합니다.\n",
        "\n",
        "결과 확인: 결과는 각 분자에 대한 딕셔너리의 리스트로 반환됩니다. 각 딕셔너리에는 매치된 'Core'와 각 라벨에 해당하는 R-그룹('R1', 'R2', ...) 정보가 담겨 있습니다. 이 결과는 pandas.DataFrame(res) 코드로 매우 쉽게 SAR 분석 테이블로 변환할 수 있습니다.\n",
        "\n"
      ],
      "metadata": {
        "id": "b9qBD2PDBzr3"
      }
    },
    {
      "cell_type": "code",
      "source": [
        "from rdkit import Chem\n",
        "from rdkit.Chem import rdRGroupDecomposition as rdRGD\n",
        "import pandas as pd\n",
        "\n",
        "# 분석할 분자 리스트 (ms)가 있다고 가정\n",
        "# R-그룹 attachment point를 라벨링한 코어 정의\n",
        "core = Chem.MolFromSmarts('[*:1]c1nc([*:2])on1')\n",
        "\n",
        "# R-그룹 분해 실행\n",
        "res, unmatched = rdRGD.RGroupDecompose([core], ms, asSmiles=True)\n",
        "\n",
        "# 결과를 pandas DataFrame으로 변환하여 쉽게 확인\n",
        "df = pd.DataFrame(res)"
      ],
      "metadata": {
        "colab": {
          "base_uri": "https://localhost:8080/"
        },
        "id": "GxWRF4qFDH5F",
        "outputId": "5dd42d76-f3d5-4aac-963d-fbb3ff34ec31"
      },
      "execution_count": 151,
      "outputs": [
        {
          "output_type": "stream",
          "name": "stderr",
          "text": [
            "[12:12:21] No core matches\n",
            "[12:12:21] No core matches\n",
            "[12:12:21] No core matches\n",
            "[12:12:21] No core matches\n",
            "[12:12:21] No core matches\n",
            "[12:12:21] No core matches\n",
            "[12:12:21] No core matches\n",
            "[12:12:21] No core matches\n",
            "[12:12:21] No core matches\n",
            "[12:12:21] No core matches\n",
            "[12:12:21] No core matches\n",
            "[12:12:21] No core matches\n",
            "[12:12:21] No core matches\n",
            "[12:12:21] No core matches\n",
            "[12:12:21] No core matches\n",
            "[12:12:21] No core matches\n",
            "[12:12:21] No core matches\n",
            "[12:12:21] No core matches\n",
            "[12:12:21] No core matches\n",
            "[12:12:21] No core matches\n",
            "[12:12:21] No core matches\n",
            "[12:12:21] No core matches\n",
            "[12:12:21] No core matches\n",
            "[12:12:21] No core matches\n",
            "[12:12:21] No core matches\n",
            "[12:12:21] No core matches\n",
            "[12:12:21] No core matches\n",
            "[12:12:21] No core matches\n",
            "[12:12:21] No core matches\n",
            "[12:12:21] No core matches\n",
            "[12:12:21] No core matches\n",
            "[12:12:21] No core matches\n",
            "[12:12:21] No core matches\n",
            "[12:12:21] No core matches\n",
            "[12:12:21] No core matches\n",
            "[12:12:21] No core matches\n",
            "[12:12:21] No core matches\n",
            "[12:12:21] No core matches\n",
            "[12:12:21] No core matches\n",
            "[12:12:21] No core matches\n",
            "[12:12:21] No core matches\n",
            "[12:12:21] No core matches\n",
            "[12:12:21] No core matches\n",
            "[12:12:21] No core matches\n",
            "[12:12:21] No core matches\n",
            "[12:12:21] No core matches\n",
            "[12:12:21] No core matches\n",
            "[12:12:21] No core matches\n",
            "[12:12:21] No core matches\n",
            "[12:12:21] No core matches\n",
            "[12:12:21] No core matches\n",
            "[12:12:21] No core matches\n",
            "[12:12:21] No core matches\n",
            "[12:12:21] No core matches\n",
            "[12:12:21] No core matches\n",
            "[12:12:21] No core matches\n",
            "[12:12:21] No core matches\n",
            "[12:12:21] No core matches\n",
            "[12:12:21] No core matches\n",
            "[12:12:21] No core matches\n",
            "[12:12:21] No core matches\n",
            "[12:12:21] No core matches\n",
            "[12:12:21] No core matches\n",
            "[12:12:21] No core matches\n",
            "[12:12:21] No core matches\n",
            "[12:12:21] No core matches\n",
            "[12:12:21] No core matches\n",
            "[12:12:21] No core matches\n",
            "[12:12:21] No core matches\n",
            "[12:12:21] No core matches\n",
            "[12:12:21] No core matches\n",
            "[12:12:21] No core matches\n",
            "[12:12:21] No core matches\n",
            "[12:12:21] No core matches\n",
            "[12:12:21] No core matches\n",
            "[12:12:21] No core matches\n",
            "[12:12:21] No core matches\n",
            "[12:12:21] No core matches\n",
            "[12:12:21] No core matches\n",
            "[12:12:21] No core matches\n",
            "[12:12:21] No core matches\n",
            "[12:12:21] No core matches\n",
            "[12:12:21] No core matches\n",
            "[12:12:21] No core matches\n",
            "[12:12:21] No core matches\n",
            "[12:12:21] No core matches\n",
            "[12:12:21] No core matches\n",
            "[12:12:21] No core matches\n",
            "[12:12:21] No core matches\n",
            "[12:12:21] No core matches\n",
            "[12:12:21] No core matches\n",
            "[12:12:21] No core matches\n",
            "[12:12:21] No core matches\n",
            "[12:12:21] No core matches\n",
            "[12:12:21] No core matches\n",
            "[12:12:21] No core matches\n",
            "[12:12:21] No core matches\n",
            "[12:12:21] No core matches\n",
            "[12:12:21] No core matches\n",
            "[12:12:21] No core matches\n",
            "[12:12:21] No core matches\n",
            "[12:12:21] No core matches\n",
            "[12:12:21] No core matches\n",
            "[12:12:21] No core matches\n",
            "[12:12:21] No core matches\n",
            "[12:12:21] No core matches\n",
            "[12:12:21] No core matches\n",
            "[12:12:21] No core matches\n",
            "[12:12:21] No core matches\n",
            "[12:12:21] No core matches\n",
            "[12:12:21] No core matches\n",
            "[12:12:21] No core matches\n",
            "[12:12:21] No core matches\n",
            "[12:12:21] No core matches\n",
            "[12:12:21] No core matches\n",
            "[12:12:21] No core matches\n",
            "[12:12:21] No core matches\n",
            "[12:12:21] No core matches\n",
            "[12:12:21] No core matches\n",
            "[12:12:21] No core matches\n",
            "[12:12:21] No core matches\n",
            "[12:12:21] No core matches\n",
            "[12:12:21] No core matches\n",
            "[12:12:21] No core matches\n",
            "[12:12:21] No core matches\n",
            "[12:12:21] No core matches\n",
            "[12:12:21] No core matches\n",
            "[12:12:21] No core matches\n",
            "[12:12:21] No core matches\n",
            "[12:12:21] No core matches\n",
            "[12:12:21] No core matches\n",
            "[12:12:21] No core matches\n",
            "[12:12:21] No core matches\n",
            "[12:12:21] No core matches\n",
            "[12:12:21] No core matches\n",
            "[12:12:21] No core matches\n",
            "[12:12:21] No core matches\n",
            "[12:12:21] No core matches\n",
            "[12:12:21] No core matches\n",
            "[12:12:21] No core matches\n",
            "[12:12:21] No core matches\n",
            "[12:12:21] No core matches\n",
            "[12:12:21] No core matches\n",
            "[12:12:21] No core matches\n",
            "[12:12:21] No core matches\n",
            "[12:12:21] No core matches\n",
            "[12:12:21] No core matches\n",
            "[12:12:21] No core matches\n",
            "[12:12:21] No core matches\n",
            "[12:12:21] No core matches\n",
            "[12:12:21] No core matches\n",
            "[12:12:21] No core matches\n",
            "[12:12:21] No core matches\n",
            "[12:12:21] No core matches\n",
            "[12:12:21] No core matches\n",
            "[12:12:21] No core matches\n",
            "[12:12:21] No core matches\n",
            "[12:12:21] No core matches\n",
            "[12:12:21] No core matches\n",
            "[12:12:21] No core matches\n",
            "[12:12:21] No core matches\n",
            "[12:12:21] No core matches\n"
          ]
        }
      ]
    },
    {
      "cell_type": "markdown",
      "source": [
        "# Searching Synthon Spaces\n",
        "RDKit은 수십억 개에 달하는 거대 가상 라이브러리(Enamine REAL, ChemSpace 등)를 효율적으로 검색하는 Synthon Space Search 기능을 제공\n",
        "\n",
        "이 기능은 라이브러리의 모든 화합물을 생성하지 않고, 빌딩 블록인 synthon 형태로 직접 검색하여 작동"
      ],
      "metadata": {
        "id": "xsDmwIepDWaW"
      }
    },
    {
      "cell_type": "markdown",
      "source": [
        "가상 라이브러리는 여러 신톤 세트와 이들을 조합하는 반응 규칙으로 정의됩니다. 예를 들어, 4가지 acid 신톤과 3가지 amine 신톤이 아마이드 결합 규칙으로 정의되어 있다면, 총 4 x 3 = 12개의 화합물 라이브러리를 형성\n",
        "\n",
        "검색 알고리즘은 사용자의 쿼리 분자를 가능한 신톤 조각으로 분해한 뒤, 이 조각들과 일치하는 라이브러리 내 신톤 조합을 찾아낸 후, 가능성이 있는 조합만을 실제 화합물로 만들어 최종 비교를 수행. 이 방식은 수십억 개의 화합물을 미리 생성하고 검색하는 것보다 훨씬 효율적입니다."
      ],
      "metadata": {
        "id": "BzeibdrlDe8M"
      }
    },
    {
      "cell_type": "markdown",
      "source": [
        "### Database Preparation\n",
        "신톤 라이브러리는 보통 텍스트 파일로 제공되지만, 검색 전에 상당한 전처리 과정이 필요하여 매우 느립니다. 따라서 사용 전에 반드시 바이너리 데이터베이스(.spc 파일)를 생성하는 것이 강력히 권장됩니다.\n",
        "\n",
        "1. 핑거프린트 생성기 선택: 데이터베이스에 저장할 핑거프린트 종류를 결정합니다. 이 선택은 해당 데이터베이스 파일에 영구적으로 적용됩니다.\n",
        "\n",
        "2. 변환 함수 사용: rdSynthonSpaceSearch.ConvertTextToDBFile() 함수를 사용하면 텍스트 파일을 바이너리 데이터베이스로 한 번에 변환할 수 있습니다."
      ],
      "metadata": {
        "id": "FQALYSAxDq1I"
      }
    },
    {
      "cell_type": "code",
      "source": [
        "from rdkit.Chem import rdSynthonSpaceSearch, rdFingerprintGenerator\n",
        "\n",
        "# 사용할 핑거프린트 생성기 정의\n",
        "fpgen = rdFingerprintGenerator.GetMorganGenerator(fpSize=2048)\n",
        "textFile = \"path/to/your/synthon_space.txt\"\n",
        "dbFile = \"amide_library_morgan.spc\"\n",
        "\n",
        "# 텍스트 파일을 바이너리 DB 파일로 변환 (시간이 오래 걸릴 수 있는 1회성 작업)\n",
        "rdSynthonSpaceSearch.ConvertTextToDBFile(textFile, dbFile, fpgen)"
      ],
      "metadata": {
        "id": "OShClECVD8ve"
      },
      "execution_count": null,
      "outputs": []
    },
    {
      "cell_type": "markdown",
      "source": [
        "## 검색 실행 🔍\n",
        "준비된 바이너리 데이터베이스를 읽어 들인 후, 부분 구조 검색 또는 유사도 검색을 수행할 수 있습니다.\n",
        "\n",
        "### 부분 구조 검색\n",
        "SubstructureSearch() 메서드를 사용하여 SMARTS 패턴과 일치하는 화합물을 검색합니다. SynthonSpaceSearchParams 객체를 통해 최대 히트 수(maxHits)나 시간제한(timeout) 등을 설정할 수 있습니다."
      ],
      "metadata": {
        "id": "C9aGehfxEZsV"
      }
    },
    {
      "cell_type": "code",
      "source": [
        "from rdkit import Chem\n",
        "from rdkit.Chem import rdSynthonSpaceSearch\n",
        "\n",
        "# 바이너리 DB 읽기\n",
        "spc = rdSynthonSpaceSearch.SynthonSpace()\n",
        "spc.ReadDBFile(\"amide_library_morgan.spc\")\n",
        "\n",
        "# 검색 쿼리\n",
        "qmol = Chem.MolFromSmarts(\"c1ccccc1C(=O)N\")\n",
        "\n",
        "# 검색 실행\n",
        "results = spc.SubstructureSearch(qmol)\n",
        "print(f\"Number of hits : {len(results.GetHitMolecules())}\")"
      ],
      "metadata": {
        "colab": {
          "base_uri": "https://localhost:8080/",
          "height": 216
        },
        "id": "ldg2yG_yEacg",
        "outputId": "2a3bb8ea-4772-43d9-b32f-2e893b66daee"
      },
      "execution_count": 156,
      "outputs": [
        {
          "output_type": "error",
          "ename": "RuntimeError",
          "evalue": "Couldn't open file amide_library_morgan.spc",
          "traceback": [
            "\u001b[0;31m---------------------------------------------------------------------------\u001b[0m",
            "\u001b[0;31mRuntimeError\u001b[0m                              Traceback (most recent call last)",
            "\u001b[0;32m/tmp/ipython-input-156-3278928414.py\u001b[0m in \u001b[0;36m<cell line: 0>\u001b[0;34m()\u001b[0m\n\u001b[1;32m      4\u001b[0m \u001b[0;31m# 바이너리 DB 읽기\u001b[0m\u001b[0;34m\u001b[0m\u001b[0;34m\u001b[0m\u001b[0m\n\u001b[1;32m      5\u001b[0m \u001b[0mspc\u001b[0m \u001b[0;34m=\u001b[0m \u001b[0mrdSynthonSpaceSearch\u001b[0m\u001b[0;34m.\u001b[0m\u001b[0mSynthonSpace\u001b[0m\u001b[0;34m(\u001b[0m\u001b[0;34m)\u001b[0m\u001b[0;34m\u001b[0m\u001b[0;34m\u001b[0m\u001b[0m\n\u001b[0;32m----> 6\u001b[0;31m \u001b[0mspc\u001b[0m\u001b[0;34m.\u001b[0m\u001b[0mReadDBFile\u001b[0m\u001b[0;34m(\u001b[0m\u001b[0;34m\"amide_library_morgan.spc\"\u001b[0m\u001b[0;34m)\u001b[0m\u001b[0;34m\u001b[0m\u001b[0;34m\u001b[0m\u001b[0m\n\u001b[0m\u001b[1;32m      7\u001b[0m \u001b[0;34m\u001b[0m\u001b[0m\n\u001b[1;32m      8\u001b[0m \u001b[0;31m# 검색 쿼리\u001b[0m\u001b[0;34m\u001b[0m\u001b[0;34m\u001b[0m\u001b[0m\n",
            "\u001b[0;31mRuntimeError\u001b[0m: Couldn't open file amide_library_morgan.spc"
          ]
        }
      ]
    },
    {
      "cell_type": "markdown",
      "source": [
        "### 유사도 검색\n",
        "유사도 검색은 Tanimoto 계수를 사용하여 쿼리 분자와 유사한 화합물을 찾습니다.\n",
        "\n",
        "매우 중요한 점은, 검색에 사용하는 쿼리 분자의 핑거프린트가 데이터베이스 생성 시 사용된 핑거프린트와 정확히 동일한 설정이어야 한다는 것입니다. spc.GetSynthonFingerprintType() 메서드로 데이터베이스에 사용된 핑거프린트 설정을 확인할 수 있습니다.\n",
        "\n",
        "유사도 검색은 2단계로 진행됩니다. 먼저 신톤 핑거프린트의 합으로 근사적인 유사도를 계산하여 1차 스크리닝을 하고, 이를 통과한 조합만 실제 화합물로 만들어 정확한 유사도를 계산합니다."
      ],
      "metadata": {
        "id": "D-Ua-nNfEe3U"
      }
    },
    {
      "cell_type": "markdown",
      "source": [
        "## 기타 RDKit 기능\n",
        "함께 제공된 문서의 마지막 부분은 Synthon Space와 직접 관련은 없지만 유용한 RDKit의 일반적인 기능들입니다.\n",
        "\n",
        "비트 벡터 (Bit Vectors): 핑거프린트 저장을 위한 효율적인 데이터 구조입니다. SparseBitVects(희소)와 ExplicitBitVects(밀집) 두 종류가 있습니다.\n",
        "\n",
        "도움말 얻기 (Getting Help): 파이썬의 help() 명령어를 사용하면 RDKit 객체와 메서드에 대한 상세한 설명(docstring)을 직접 확인할 수 있습니다."
      ],
      "metadata": {
        "id": "Eo2GMptBEkJV"
      }
    }
  ]
}